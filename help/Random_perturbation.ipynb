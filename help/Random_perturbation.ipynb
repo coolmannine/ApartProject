{
  "cells": [
    {
      "cell_type": "code",
      "execution_count": 1,
      "metadata": {
        "colab": {
          "base_uri": "https://localhost:8080/",
          "height": 1000
        },
        "collapsed": true,
        "id": "Oz9mrKZBKQp3",
        "outputId": "c8b1f003-1da4-4800-a977-56b1547f1864"
      },
      "outputs": [
        {
          "name": "stdout",
          "output_type": "stream",
          "text": [
            "Defaulting to user installation because normal site-packages is not writeable\n",
            "\u001b[33mWARNING: Ignoring invalid distribution -ccelerate (/home/ubuntu/.local/lib/python3.10/site-packages)\u001b[0m\u001b[33m\n",
            "\u001b[0mRequirement already satisfied: torch in /home/ubuntu/.local/lib/python3.10/site-packages (2.7.1)\n",
            "Requirement already satisfied: transformers in /home/ubuntu/.local/lib/python3.10/site-packages (4.54.0)\n",
            "Requirement already satisfied: datasets in /home/ubuntu/.local/lib/python3.10/site-packages (4.0.0)\n",
            "Requirement already satisfied: huggingface_hub in /home/ubuntu/.local/lib/python3.10/site-packages (0.34.1)\n",
            "Requirement already satisfied: transformer-lens in /home/ubuntu/.local/lib/python3.10/site-packages (2.16.1)\n",
            "Requirement already satisfied: pandas in /home/ubuntu/.local/lib/python3.10/site-packages (2.3.1)\n",
            "Requirement already satisfied: filelock in /home/ubuntu/.local/lib/python3.10/site-packages (from torch) (3.18.0)\n",
            "Requirement already satisfied: typing-extensions>=4.10.0 in /home/ubuntu/.local/lib/python3.10/site-packages (from torch) (4.14.1)\n",
            "Requirement already satisfied: sympy>=1.13.3 in /home/ubuntu/.local/lib/python3.10/site-packages (from torch) (1.14.0)\n",
            "Requirement already satisfied: networkx in /home/ubuntu/.local/lib/python3.10/site-packages (from torch) (3.4.2)\n",
            "Requirement already satisfied: jinja2 in /home/ubuntu/.local/lib/python3.10/site-packages (from torch) (3.1.6)\n",
            "Requirement already satisfied: fsspec in /home/ubuntu/.local/lib/python3.10/site-packages (from torch) (2025.3.0)\n",
            "Requirement already satisfied: nvidia-cuda-nvrtc-cu12==12.6.77 in /home/ubuntu/.local/lib/python3.10/site-packages (from torch) (12.6.77)\n",
            "Requirement already satisfied: nvidia-cuda-runtime-cu12==12.6.77 in /home/ubuntu/.local/lib/python3.10/site-packages (from torch) (12.6.77)\n",
            "Requirement already satisfied: nvidia-cuda-cupti-cu12==12.6.80 in /home/ubuntu/.local/lib/python3.10/site-packages (from torch) (12.6.80)\n",
            "Requirement already satisfied: nvidia-cudnn-cu12==9.5.1.17 in /home/ubuntu/.local/lib/python3.10/site-packages (from torch) (9.5.1.17)\n",
            "Requirement already satisfied: nvidia-cublas-cu12==12.6.4.1 in /home/ubuntu/.local/lib/python3.10/site-packages (from torch) (12.6.4.1)\n",
            "Requirement already satisfied: nvidia-cufft-cu12==11.3.0.4 in /home/ubuntu/.local/lib/python3.10/site-packages (from torch) (11.3.0.4)\n",
            "Requirement already satisfied: nvidia-curand-cu12==10.3.7.77 in /home/ubuntu/.local/lib/python3.10/site-packages (from torch) (10.3.7.77)\n",
            "Requirement already satisfied: nvidia-cusolver-cu12==11.7.1.2 in /home/ubuntu/.local/lib/python3.10/site-packages (from torch) (11.7.1.2)\n",
            "Requirement already satisfied: nvidia-cusparse-cu12==12.5.4.2 in /home/ubuntu/.local/lib/python3.10/site-packages (from torch) (12.5.4.2)\n",
            "Requirement already satisfied: nvidia-cusparselt-cu12==0.6.3 in /home/ubuntu/.local/lib/python3.10/site-packages (from torch) (0.6.3)\n",
            "Requirement already satisfied: nvidia-nccl-cu12==2.26.2 in /home/ubuntu/.local/lib/python3.10/site-packages (from torch) (2.26.2)\n",
            "Requirement already satisfied: nvidia-nvtx-cu12==12.6.77 in /home/ubuntu/.local/lib/python3.10/site-packages (from torch) (12.6.77)\n",
            "Requirement already satisfied: nvidia-nvjitlink-cu12==12.6.85 in /home/ubuntu/.local/lib/python3.10/site-packages (from torch) (12.6.85)\n",
            "Requirement already satisfied: nvidia-cufile-cu12==1.11.1.6 in /home/ubuntu/.local/lib/python3.10/site-packages (from torch) (1.11.1.6)\n",
            "Requirement already satisfied: triton==3.3.1 in /home/ubuntu/.local/lib/python3.10/site-packages (from torch) (3.3.1)\n",
            "Requirement already satisfied: setuptools>=40.8.0 in /home/ubuntu/.local/lib/python3.10/site-packages (from triton==3.3.1->torch) (80.9.0)\n",
            "Requirement already satisfied: numpy>=1.17 in /home/ubuntu/.local/lib/python3.10/site-packages (from transformers) (1.26.4)\n",
            "Requirement already satisfied: packaging>=20.0 in /home/ubuntu/.local/lib/python3.10/site-packages (from transformers) (25.0)\n",
            "Requirement already satisfied: pyyaml>=5.1 in /home/ubuntu/.local/lib/python3.10/site-packages (from transformers) (6.0.2)\n",
            "Requirement already satisfied: regex!=2019.12.17 in /home/ubuntu/.local/lib/python3.10/site-packages (from transformers) (2024.11.6)\n",
            "Requirement already satisfied: requests in /home/ubuntu/.local/lib/python3.10/site-packages (from transformers) (2.32.4)\n",
            "Requirement already satisfied: tokenizers<0.22,>=0.21 in /home/ubuntu/.local/lib/python3.10/site-packages (from transformers) (0.21.2)\n",
            "Requirement already satisfied: safetensors>=0.4.3 in /home/ubuntu/.local/lib/python3.10/site-packages (from transformers) (0.5.3)\n",
            "Requirement already satisfied: tqdm>=4.27 in /home/ubuntu/.local/lib/python3.10/site-packages (from transformers) (4.67.1)\n",
            "Requirement already satisfied: hf-xet<2.0.0,>=1.1.3 in /home/ubuntu/.local/lib/python3.10/site-packages (from huggingface_hub) (1.1.5)\n",
            "Requirement already satisfied: pyarrow>=15.0.0 in /home/ubuntu/.local/lib/python3.10/site-packages (from datasets) (21.0.0)\n",
            "Requirement already satisfied: dill<0.3.9,>=0.3.0 in /home/ubuntu/.local/lib/python3.10/site-packages (from datasets) (0.3.8)\n",
            "Requirement already satisfied: xxhash in /home/ubuntu/.local/lib/python3.10/site-packages (from datasets) (3.5.0)\n",
            "Requirement already satisfied: multiprocess<0.70.17 in /home/ubuntu/.local/lib/python3.10/site-packages (from datasets) (0.70.16)\n",
            "Requirement already satisfied: aiohttp!=4.0.0a0,!=4.0.0a1 in /home/ubuntu/.local/lib/python3.10/site-packages (from fsspec[http]<=2025.3.0,>=2023.1.0->datasets) (3.12.14)\n",
            "Requirement already satisfied: accelerate>=0.23.0 in /home/ubuntu/.local/lib/python3.10/site-packages (from transformer-lens) (1.9.0)\n",
            "Requirement already satisfied: beartype<0.15.0,>=0.14.1 in /home/ubuntu/.local/lib/python3.10/site-packages (from transformer-lens) (0.14.1)\n",
            "Requirement already satisfied: better-abc<0.0.4,>=0.0.3 in /home/ubuntu/.local/lib/python3.10/site-packages (from transformer-lens) (0.0.3)\n",
            "Requirement already satisfied: einops>=0.6.0 in /home/ubuntu/.local/lib/python3.10/site-packages (from transformer-lens) (0.8.1)\n",
            "Requirement already satisfied: fancy-einsum>=0.0.3 in /home/ubuntu/.local/lib/python3.10/site-packages (from transformer-lens) (0.0.3)\n",
            "Requirement already satisfied: jaxtyping>=0.2.11 in /home/ubuntu/.local/lib/python3.10/site-packages (from transformer-lens) (0.3.2)\n",
            "Requirement already satisfied: rich>=12.6.0 in /home/ubuntu/.local/lib/python3.10/site-packages (from transformer-lens) (14.1.0)\n",
            "Requirement already satisfied: sentencepiece in /home/ubuntu/.local/lib/python3.10/site-packages (from transformer-lens) (0.2.0)\n",
            "Requirement already satisfied: transformers-stream-generator<0.0.6,>=0.0.5 in /home/ubuntu/.local/lib/python3.10/site-packages (from transformer-lens) (0.0.5)\n",
            "Requirement already satisfied: typeguard<5.0,>=4.2 in /home/ubuntu/.local/lib/python3.10/site-packages (from transformer-lens) (4.4.4)\n",
            "Requirement already satisfied: wandb>=0.13.5 in /home/ubuntu/.local/lib/python3.10/site-packages (from transformer-lens) (0.21.0)\n",
            "Requirement already satisfied: python-dateutil>=2.8.2 in /home/ubuntu/.local/lib/python3.10/site-packages (from pandas) (2.9.0.post0)\n",
            "Requirement already satisfied: pytz>=2020.1 in /home/ubuntu/.local/lib/python3.10/site-packages (from pandas) (2025.2)\n",
            "Requirement already satisfied: tzdata>=2022.7 in /home/ubuntu/.local/lib/python3.10/site-packages (from pandas) (2025.2)\n",
            "Requirement already satisfied: psutil in /home/ubuntu/.local/lib/python3.10/site-packages (from accelerate>=0.23.0->transformer-lens) (7.0.0)\n",
            "Requirement already satisfied: aiohappyeyeballs>=2.5.0 in /home/ubuntu/.local/lib/python3.10/site-packages (from aiohttp!=4.0.0a0,!=4.0.0a1->fsspec[http]<=2025.3.0,>=2023.1.0->datasets) (2.6.1)\n",
            "Requirement already satisfied: aiosignal>=1.4.0 in /home/ubuntu/.local/lib/python3.10/site-packages (from aiohttp!=4.0.0a0,!=4.0.0a1->fsspec[http]<=2025.3.0,>=2023.1.0->datasets) (1.4.0)\n",
            "Requirement already satisfied: async-timeout<6.0,>=4.0 in /home/ubuntu/.local/lib/python3.10/site-packages (from aiohttp!=4.0.0a0,!=4.0.0a1->fsspec[http]<=2025.3.0,>=2023.1.0->datasets) (5.0.1)\n",
            "Requirement already satisfied: attrs>=17.3.0 in /home/ubuntu/.local/lib/python3.10/site-packages (from aiohttp!=4.0.0a0,!=4.0.0a1->fsspec[http]<=2025.3.0,>=2023.1.0->datasets) (25.3.0)\n",
            "Requirement already satisfied: frozenlist>=1.1.1 in /home/ubuntu/.local/lib/python3.10/site-packages (from aiohttp!=4.0.0a0,!=4.0.0a1->fsspec[http]<=2025.3.0,>=2023.1.0->datasets) (1.7.0)\n",
            "Requirement already satisfied: multidict<7.0,>=4.5 in /home/ubuntu/.local/lib/python3.10/site-packages (from aiohttp!=4.0.0a0,!=4.0.0a1->fsspec[http]<=2025.3.0,>=2023.1.0->datasets) (6.6.3)\n",
            "Requirement already satisfied: propcache>=0.2.0 in /home/ubuntu/.local/lib/python3.10/site-packages (from aiohttp!=4.0.0a0,!=4.0.0a1->fsspec[http]<=2025.3.0,>=2023.1.0->datasets) (0.3.2)\n",
            "Requirement already satisfied: yarl<2.0,>=1.17.0 in /home/ubuntu/.local/lib/python3.10/site-packages (from aiohttp!=4.0.0a0,!=4.0.0a1->fsspec[http]<=2025.3.0,>=2023.1.0->datasets) (1.20.1)\n",
            "Requirement already satisfied: idna>=2.0 in /home/ubuntu/.local/lib/python3.10/site-packages (from yarl<2.0,>=1.17.0->aiohttp!=4.0.0a0,!=4.0.0a1->fsspec[http]<=2025.3.0,>=2023.1.0->datasets) (3.10)\n",
            "Requirement already satisfied: wadler-lindig>=0.1.3 in /home/ubuntu/.local/lib/python3.10/site-packages (from jaxtyping>=0.2.11->transformer-lens) (0.1.7)\n",
            "Requirement already satisfied: six>=1.5 in /home/ubuntu/.local/lib/python3.10/site-packages (from python-dateutil>=2.8.2->pandas) (1.17.0)\n",
            "Requirement already satisfied: charset_normalizer<4,>=2 in /home/ubuntu/.local/lib/python3.10/site-packages (from requests->transformers) (3.4.2)\n",
            "Requirement already satisfied: urllib3<3,>=1.21.1 in /home/ubuntu/.local/lib/python3.10/site-packages (from requests->transformers) (2.5.0)\n",
            "Requirement already satisfied: certifi>=2017.4.17 in /home/ubuntu/.local/lib/python3.10/site-packages (from requests->transformers) (2025.7.14)\n",
            "Requirement already satisfied: markdown-it-py>=2.2.0 in /home/ubuntu/.local/lib/python3.10/site-packages (from rich>=12.6.0->transformer-lens) (3.0.0)\n",
            "Requirement already satisfied: pygments<3.0.0,>=2.13.0 in /home/ubuntu/.local/lib/python3.10/site-packages (from rich>=12.6.0->transformer-lens) (2.19.2)\n",
            "Requirement already satisfied: mdurl~=0.1 in /home/ubuntu/.local/lib/python3.10/site-packages (from markdown-it-py>=2.2.0->rich>=12.6.0->transformer-lens) (0.1.2)\n",
            "Requirement already satisfied: mpmath<1.4,>=1.1.0 in /home/ubuntu/.local/lib/python3.10/site-packages (from sympy>=1.13.3->torch) (1.3.0)\n",
            "Requirement already satisfied: click!=8.0.0,>=7.1 in /home/ubuntu/.local/lib/python3.10/site-packages (from wandb>=0.13.5->transformer-lens) (8.2.1)\n",
            "Requirement already satisfied: gitpython!=3.1.29,>=1.0.0 in /home/ubuntu/.local/lib/python3.10/site-packages (from wandb>=0.13.5->transformer-lens) (3.1.45)\n",
            "Requirement already satisfied: platformdirs in /home/ubuntu/.local/lib/python3.10/site-packages (from wandb>=0.13.5->transformer-lens) (4.3.8)\n",
            "Requirement already satisfied: protobuf!=4.21.0,!=5.28.0,<7,>=3.19.0 in /home/ubuntu/.local/lib/python3.10/site-packages (from wandb>=0.13.5->transformer-lens) (6.31.1)\n",
            "Requirement already satisfied: pydantic<3 in /home/ubuntu/.local/lib/python3.10/site-packages (from wandb>=0.13.5->transformer-lens) (2.11.7)\n",
            "Requirement already satisfied: sentry-sdk>=2.0.0 in /home/ubuntu/.local/lib/python3.10/site-packages (from wandb>=0.13.5->transformer-lens) (2.33.2)\n",
            "Requirement already satisfied: annotated-types>=0.6.0 in /home/ubuntu/.local/lib/python3.10/site-packages (from pydantic<3->wandb>=0.13.5->transformer-lens) (0.7.0)\n",
            "Requirement already satisfied: pydantic-core==2.33.2 in /home/ubuntu/.local/lib/python3.10/site-packages (from pydantic<3->wandb>=0.13.5->transformer-lens) (2.33.2)\n",
            "Requirement already satisfied: typing-inspection>=0.4.0 in /home/ubuntu/.local/lib/python3.10/site-packages (from pydantic<3->wandb>=0.13.5->transformer-lens) (0.4.1)\n",
            "Requirement already satisfied: gitdb<5,>=4.0.1 in /home/ubuntu/.local/lib/python3.10/site-packages (from gitpython!=3.1.29,>=1.0.0->wandb>=0.13.5->transformer-lens) (4.0.12)\n",
            "Requirement already satisfied: smmap<6,>=3.0.1 in /home/ubuntu/.local/lib/python3.10/site-packages (from gitdb<5,>=4.0.1->gitpython!=3.1.29,>=1.0.0->wandb>=0.13.5->transformer-lens) (5.0.2)\n",
            "Requirement already satisfied: MarkupSafe>=2.0 in /home/ubuntu/.local/lib/python3.10/site-packages (from jinja2->torch) (3.0.2)\n",
            "\u001b[33mWARNING: Ignoring invalid distribution -ccelerate (/home/ubuntu/.local/lib/python3.10/site-packages)\u001b[0m\u001b[33m\n",
            "\u001b[0m\u001b[33mWARNING: Ignoring invalid distribution -ccelerate (/home/ubuntu/.local/lib/python3.10/site-packages)\u001b[0m\u001b[33m\n",
            "\u001b[0m"
          ]
        }
      ],
      "source": [
        "!pip install torch transformers datasets huggingface_hub transformer-lens pandas"
      ]
    },
    {
      "cell_type": "code",
      "execution_count": 2,
      "metadata": {
        "colab": {
          "base_uri": "https://localhost:8080/"
        },
        "id": "5vHQIATcaBVV",
        "outputId": "af320026-c2ed-42fa-f2b6-23fb1f12359e"
      },
      "outputs": [
        {
          "name": "stdout",
          "output_type": "stream",
          "text": [
            "\u001b[33mWARNING: Ignoring invalid distribution -ccelerate (/home/ubuntu/.local/lib/python3.10/site-packages)\u001b[0m\u001b[33m\n",
            "\u001b[0m\u001b[33mWARNING: Ignoring invalid distribution -ccelerate (/home/ubuntu/.local/lib/python3.10/site-packages)\u001b[0m\u001b[33m\n",
            "\u001b[0m\u001b[33mWARNING: Ignoring invalid distribution -ccelerate (/home/ubuntu/.local/lib/python3.10/site-packages)\u001b[0m\u001b[33m\n",
            "\u001b[0mNote: you may need to restart the kernel to use updated packages.\n"
          ]
        }
      ],
      "source": [
        "%pip install -q devinterp"
      ]
    },
    {
      "cell_type": "code",
      "execution_count": 33,
      "metadata": {
        "colab": {
          "base_uri": "https://localhost:8080/"
        },
        "id": "CVnCSC8NZjOu",
        "outputId": "72489b08-d6a3-4669-dd8e-74dc1c36da23"
      },
      "outputs": [
        {
          "name": "stdout",
          "output_type": "stream",
          "text": [
            "Device → cuda\n"
          ]
        }
      ],
      "source": [
        "import math, re, glob, warnings, pathlib, random\n",
        "import typing, tqdm, torch, numpy as np\n",
        "import pandas as pd\n",
        "import torch.nn.functional as F\n",
        "from torch.utils.data import DataLoader\n",
        "from datasets import load_dataset\n",
        "from transformer_lens import HookedTransformer, HookedTransformerConfig\n",
        "import os, signal, sys, pandas as pd, tqdm\n",
        "from huggingface_hub import list_repo_files\n",
        "import re, math, json, glob, torch, tqdm, pandas as pd\n",
        "import torch.nn.functional as F\n",
        "from torch.utils.data import Dataset, DataLoader\n",
        "from huggingface_hub import hf_hub_download, upload_file, login, list_repo_files\n",
        "from transformer_lens import HookedTransformer, HookedTransformerConfig\n",
        "from devinterp.optim import SGLD\n",
        "from devinterp.slt.sampler import estimate_learning_coeff_with_summary\n",
        "from devinterp.utils import default_nbeta\n",
        "\n",
        "from devinterp.optim import SGLD\n",
        "from devinterp.slt.sampler import estimate_learning_coeff_with_summary\n",
        "from devinterp.utils import default_nbeta, plot_trace\n",
        "\n",
        "warnings.filterwarnings(\"ignore\")\n",
        "DEVICE = torch.device(\"cuda\" if torch.cuda.is_available() else \"cpu\")\n",
        "print(\"Device →\", DEVICE)\n",
        "OUTPUT_CSV  = \"ckpt_loss_perturbation_scan.csv\""
      ]
    },
    {
      "cell_type": "code",
      "execution_count": 5,
      "metadata": {
        "id": "i8PklewDY0RW"
      },
      "outputs": [],
      "source": [
        "# Cell 4: evaluation / LLC helpers\n",
        "\n",
        "def ce_per_token(model, loader):\n",
        "    model.eval()\n",
        "    total, n = 0.0, 0\n",
        "    with torch.no_grad():\n",
        "        for batch in loader:\n",
        "            x = batch[\"input_ids\"].to(DEVICE)\n",
        "            y = batch[\"labels\"].to(DEVICE)\n",
        "            logits = model(x)\n",
        "            loss = F.cross_entropy(\n",
        "                logits.view(-1, logits.size(-1)),\n",
        "                y.view(-1),\n",
        "                reduction=\"sum\",\n",
        "            )\n",
        "            total += loss.item()\n",
        "            n     += y.numel()\n",
        "    return total / n\n",
        "\n",
        "# a proper evaluate function for devinterp:\n",
        "def evaluate_one(model, batch):\n",
        "    # returns (loss_tensor, aux_dict)\n",
        "    logits = model(batch[\"input_ids\"].to(DEVICE))\n",
        "    loss = F.cross_entropy(\n",
        "        logits.view(-1, logits.size(-1)),\n",
        "        batch[\"labels\"].view(-1).to(DEVICE),\n",
        "        reduction=\"mean\"\n",
        "    )\n",
        "    return loss, {}\n",
        "\n",
        "def perturb_state(state_dict, frac=1e-2):\n",
        "    new = {}\n",
        "    for k, v in state_dict.items():\n",
        "        if torch.is_floating_point(v):\n",
        "            sigma = frac * v.norm() / math.sqrt(v.numel())\n",
        "            new[k] = v + torch.randn_like(v) * sigma\n",
        "        else:\n",
        "            new[k] = v\n",
        "    return new\n",
        "\n",
        "def llc_mean(model):\n",
        "    stats = estimate_learning_coeff_with_summary(\n",
        "        model,\n",
        "        loader           = val_loader,\n",
        "        evaluate         = evaluate_one,   # <— returns torch scalar!\n",
        "        sampling_method  = SGLD,\n",
        "        optimizer_kwargs = dict(\n",
        "            lr           = 1e-3,\n",
        "            localization = 200.0,\n",
        "            nbeta        = default_nbeta(val_loader),\n",
        "        ),\n",
        "        num_chains         = 20,\n",
        "        num_draws          = 200,\n",
        "        num_burnin_steps   = 0,\n",
        "        num_steps_bw_draws = 1,\n",
        "        device             = DEVICE,\n",
        "        online             = False,\n",
        "        verbose            = False,\n",
        "    )\n",
        "    return float(stats[\"llc/mean\"])\n"
      ]
    },
    {
      "cell_type": "code",
      "execution_count": 11,
      "metadata": {
        "colab": {
          "base_uri": "https://localhost:8080/"
        },
        "id": "RHZ56DJfY37F",
        "outputId": "7a6ab5e2-0bc4-4162-804e-76a7d8206da5"
      },
      "outputs": [
        {
          "name": "stdout",
          "output_type": "stream",
          "text": [
            "Validation loader ready, examples: 264\n"
          ]
        }
      ],
      "source": [
        "# Cell 3 — Build your validation DataLoader (512 seqs of length 1024)\n",
        "\n",
        "from torch.utils.data import Dataset, DataLoader\n",
        "\n",
        "tokenizer = model.tokenizer   # << use the tokenizer attached to your instantiated model\n",
        "\n",
        "class PileValidDataset(Dataset):\n",
        "    def __init__(self, lines, seq_len=1024):\n",
        "        toks = []\n",
        "        for ln in lines:\n",
        "            toks.extend(tokenizer(ln, truncation=False)[\"input_ids\"])\n",
        "        self.seqs = [toks[i:i+seq_len] for i in range(0, len(toks), seq_len)]\n",
        "        if len(self.seqs[-1]) < seq_len:\n",
        "            self.seqs.pop()\n",
        "    def __len__(self):\n",
        "        return len(self.seqs)\n",
        "    def __getitem__(self, idx):\n",
        "        x = torch.tensor(self.seqs[idx][:-1], dtype=torch.long)\n",
        "        y = torch.tensor(self.seqs[idx][1:],  dtype=torch.long)\n",
        "        return {\"input_ids\": x, \"labels\": y}\n",
        "\n",
        "# Load 512 lines from Pile\n",
        "from huggingface_hub import hf_hub_download\n",
        "\n",
        "jsonl_path = hf_hub_download(\n",
        "    repo_id   = \"stanford-crfm/DSIR-filtered-pile-50M\",\n",
        "    filename  = \"train_6.jsonl\",\n",
        "    repo_type = \"dataset\"\n",
        ")\n",
        "\n",
        "valid_lines = []\n",
        "with open(jsonl_path, \"r\") as fp:\n",
        "    for _ in range(512):\n",
        "        valid_lines.append(__import__('json').loads(next(fp))[\"contents\"])\n",
        "\n",
        "val_ds = PileValidDataset(valid_lines, seq_len=1024)\n",
        "val_loader = DataLoader(val_ds, batch_size=16, shuffle=False)\n",
        "print(\"Validation loader ready, examples:\", len(val_ds))\n"
      ]
    },
    {
      "cell_type": "code",
      "execution_count": 7,
      "metadata": {
        "colab": {
          "base_uri": "https://localhost:8080/"
        },
        "id": "8JiLBpjzhOcc",
        "outputId": "cd9fc163-e7f4-40d8-d1df-f6e49098b474"
      },
      "outputs": [],
      "source": [
        "# Cell 4 — Instantiate your model\n",
        "\n",
        "CFG = HookedTransformerConfig(\n",
        "    n_layers                     = 2,\n",
        "    n_heads                      = 8,\n",
        "    d_head                       = 32,\n",
        "    d_model                      = 256,\n",
        "    n_ctx                        = 1024,\n",
        "    d_vocab                      = 5000,\n",
        "    attn_only                    = True,\n",
        "    tokenizer_name               = \"georgeyw/TinyStories-tokenizer-5k\",\n",
        "    normalization_type           = \"LN\",\n",
        "    positional_embedding_type    = \"shortformer\",\n",
        ")\n",
        "\n"
      ]
    },
    {
      "cell_type": "code",
      "execution_count": 14,
      "metadata": {
        "id": "j1yuXI96Y7ab"
      },
      "outputs": [],
      "source": []
    },
    {
      "cell_type": "code",
      "execution_count": null,
      "metadata": {},
      "outputs": [],
      "source": []
    },
    {
      "cell_type": "code",
      "execution_count": 28,
      "metadata": {
        "colab": {
          "base_uri": "https://localhost:8080/"
        },
        "id": "OJEj7TSQdzHY",
        "outputId": "f96fe0c4-c339-4be9-f26a-5a0b02481ed1"
      },
      "outputs": [
        {
          "name": "stdout",
          "output_type": "stream",
          "text": [
            "Using checkpoints: [200, 400, 600, 800, 1000, 1200, 1400, 1600, 1800, 2000, 2200, 2400, 2600, 2800, 3000, 3200, 3400, 3600, 3800, 4000, 4200, 4400, 4600, 4800, 5000, 5200, 5400, 5600, 5800, 6000, 6200, 6400, 6600, 6800, 7000, 7200, 7400, 7600, 7800, 8000, 8200, 8400, 8600, 8800, 9000, 9200, 9400, 9600, 9800, 10000, 10200, 10400, 10600, 10800, 11000, 11200, 11400, 11600, 11800, 12000, 12200, 12400, 12600, 12800, 13000, 13200, 13400, 13600, 13800, 14000, 14200, 14400, 14600, 14800, 15000]\n"
          ]
        }
      ],
      "source": [
        "# Cell 3 — Config & checkpoint listing\n",
        "REPO_ID     = \"timaeus/tetrahedron-3m-og\"\n",
        "CKPT_DIR    = \"checkpoints\"\n",
        "KEEP_EVERY  = 200\n",
        "RANGE_START = 100\n",
        "RANGE_END   = 15000\n",
        "STEP_RX     = re.compile(rf\"{CKPT_DIR}/checkpoint_(\\d+)\\.pth$\")\n",
        "def list_ckpts(repo):\n",
        "    files = list_repo_files(repo)\n",
        "    pairs = [(int(m.group(1)), f) for f in files if (m:=STEP_RX.match(f))]\n",
        "    return sorted(\n",
        "        (s, f) for s, f in pairs\n",
        "        if (s%KEEP_EVERY==0) and RANGE_START<=s<=RANGE_END\n",
        "    )\n",
        "ckpts = list_ckpts(REPO_ID)\n",
        "print(\"Using checkpoints:\", [s for s,_ in ckpts])\n"
      ]
    },
    {
      "cell_type": "code",
      "execution_count": 34,
      "metadata": {
        "colab": {
          "base_uri": "https://localhost:8080/",
          "height": 1000,
          "referenced_widgets": [
            "73614b2d94064eacb488fac37dcfe797",
            "1e18332eab4b44c5b98a3bb342f912b4",
            "310b8473ead44b55a0b6b57b0ab72001",
            "8c087ae21c2c47398a00617de13cea67",
            "edf63b500f234379aeff0ffc4cf60af0",
            "61989ef64dab4e89b695d536f6c3bd93",
            "75d617eb666343638c98f4c0bf7ab9f5",
            "5db1c5fe1d8442f6831a4887a4712b8f",
            "3606b676b7a74a20ae68c267ba23a001",
            "8dc370ad4b254587a0f44747c96323e4",
            "a7dd261ac159458d834ab18dfdac69ca",
            "3382fbe1fb9543d887371d22941b943e",
            "cbafe619b7f74e698194a6969724acbc",
            "3d5c782ef53e4679b1757e6a22e37e66",
            "6424316b8e034f028f8e3e39a0fbc34c",
            "d56436695419403c947e156558530737",
            "c5ccd5dd3ecb4f418dd707ca27e74f26",
            "e89721dc94b945d095283bf1b23a4b47",
            "b21c375052724f3b96f33d8b49376cad",
            "bfe485307ccd4829abbf9a687f84bcdc",
            "e715591a16674e8f8c5370713918281c",
            "26e3da7acdee4542b7d4e6be0155a3f4",
            "925665f9369e47e1a388487bf162bf30",
            "8b8f11fb77394261bd7e92628fbe7a4d",
            "9089f697a4ea49b89728217f6b66fbed",
            "93bfdc57e6de47d7baa44e8ead9acbea",
            "043da500ada145bcaba313f530ef5aa0",
            "a617b82b8a8a4093ae75cf9b25a22f7c",
            "8dafbfa286c64c8cb79f88dddbcca868",
            "eb3f1fce12df4ddbafe576aa3c05eb99",
            "c068c7b03c99491685ff862b9bf7c88e",
            "4f98fe32bbe644f9953e5cfa43272d3a",
            "0e034078991c493ea742e333fea84c6d",
            "74ad353963f74e9ca1d1762facc836cd",
            "8f2fc624103f43f6a0f3f42004f4e945",
            "59de495b6edb4063a9ac339b4bdb993f",
            "cbaa539a151b47f7abc0d8e12a51e364",
            "79362b4d90ca47c5a54eeb146497f29c",
            "c0b61708f3c748ed8eaa7799350238c8",
            "705aafa507be48cfb78d8a12b7b1bebb",
            "558c03f3ee2c41b0ac5a0489744d6f3d",
            "5191db4a80ae4043bf904e68d857dcbd",
            "7e57cfd2d3344ee1a63e2e5944b55a14",
            "8227a2c050824872a85721876f9f2f46"
          ]
        },
        "id": "SNxBg4njY9JJ",
        "outputId": "5a55f1bb-5ea9-4456-fcad-2db48b72080e"
      },
      "outputs": [
        {
          "name": "stderr",
          "output_type": "stream",
          "text": [
            "checkpoints:   0%|          | 0/75 [00:00<?, ?it/s]"
          ]
        },
        {
          "name": "stdout",
          "output_type": "stream",
          "text": [
            "Moving model to device:  cuda\n",
            "Moving model to device:  cuda\n",
            "Moving model to device:  cuda\n",
            "Moving model to device:  cuda\n",
            "Moving model to device:  cuda\n",
            "Moving model to device:  cuda\n",
            "Moving model to device:  cuda\n",
            "Moving model to device:  cuda\n",
            "Moving model to device:  cuda\n",
            "Moving model to device:  cuda\n",
            "Moving model to device:  cuda\n",
            "Moving model to device:  cuda\n",
            "Moving model to device:  cuda\n",
            "Moving model to device:  cuda\n",
            "Moving model to device:  cuda\n",
            "Moving model to device:  cuda\n",
            "Moving model to device:  cuda\n",
            "Moving model to device:  cuda\n",
            "Moving model to device:  cuda\n",
            "Moving model to device:  cuda\n",
            "Moving model to device:  cuda\n",
            "Moving model to device:  cuda\n"
          ]
        },
        {
          "name": "stderr",
          "output_type": "stream",
          "text": [
            "checkpoints:   1%|▏         | 1/75 [04:09<5:07:15, 249.13s/it]"
          ]
        },
        {
          "name": "stdout",
          "output_type": "stream",
          "text": [
            "⚠️  upload failed (not logged in?): name 'HF_REPO' is not defined\n"
          ]
        },
        {
          "data": {
            "application/vnd.jupyter.widget-view+json": {
              "model_id": "f625d4c5cd504f728b7bbef13bd645ca",
              "version_major": 2,
              "version_minor": 0
            },
            "text/plain": [
              "checkpoint_0000400.pth:   0%|          | 0.00/15.5M [00:00<?, ?B/s]"
            ]
          },
          "metadata": {},
          "output_type": "display_data"
        },
        {
          "name": "stdout",
          "output_type": "stream",
          "text": [
            "Moving model to device:  cuda\n",
            "Moving model to device:  cuda\n",
            "Moving model to device:  cuda\n",
            "Moving model to device:  cuda\n",
            "Moving model to device:  cuda\n",
            "Moving model to device:  cuda\n",
            "Moving model to device:  cuda\n",
            "Moving model to device:  cuda\n",
            "Moving model to device:  cuda\n",
            "Moving model to device:  cuda\n",
            "Moving model to device:  cuda\n",
            "Moving model to device:  cuda\n",
            "Moving model to device:  cuda\n",
            "Moving model to device:  cuda\n",
            "Moving model to device:  cuda\n",
            "Moving model to device:  cuda\n",
            "Moving model to device:  cuda\n",
            "Moving model to device:  cuda\n",
            "Moving model to device:  cuda\n",
            "Moving model to device:  cuda\n",
            "Moving model to device:  cuda\n",
            "Moving model to device:  cuda\n"
          ]
        },
        {
          "name": "stderr",
          "output_type": "stream",
          "text": [
            "checkpoints:   3%|▎         | 2/75 [08:18<5:03:29, 249.44s/it]"
          ]
        },
        {
          "name": "stdout",
          "output_type": "stream",
          "text": [
            "⚠️  upload failed (not logged in?): name 'HF_REPO' is not defined\n"
          ]
        },
        {
          "data": {
            "application/vnd.jupyter.widget-view+json": {
              "model_id": "170d37fc3a764f92972fab29c29fa67b",
              "version_major": 2,
              "version_minor": 0
            },
            "text/plain": [
              "checkpoint_0000600.pth:   0%|          | 0.00/15.5M [00:00<?, ?B/s]"
            ]
          },
          "metadata": {},
          "output_type": "display_data"
        },
        {
          "name": "stdout",
          "output_type": "stream",
          "text": [
            "Moving model to device:  cuda\n",
            "Moving model to device:  cuda\n",
            "Moving model to device:  cuda\n",
            "Moving model to device:  cuda\n",
            "Moving model to device:  cuda\n",
            "Moving model to device:  cuda\n",
            "Moving model to device:  cuda\n",
            "Moving model to device:  cuda\n",
            "Moving model to device:  cuda\n",
            "Moving model to device:  cuda\n",
            "Moving model to device:  cuda\n",
            "Moving model to device:  cuda\n",
            "Moving model to device:  cuda\n",
            "Moving model to device:  cuda\n",
            "Moving model to device:  cuda\n",
            "Moving model to device:  cuda\n",
            "Moving model to device:  cuda\n",
            "Moving model to device:  cuda\n",
            "Moving model to device:  cuda\n",
            "Moving model to device:  cuda\n",
            "Moving model to device:  cuda\n",
            "Moving model to device:  cuda\n"
          ]
        },
        {
          "name": "stderr",
          "output_type": "stream",
          "text": [
            "checkpoints:   4%|▍         | 3/75 [12:28<4:59:31, 249.61s/it]"
          ]
        },
        {
          "name": "stdout",
          "output_type": "stream",
          "text": [
            "⚠️  upload failed (not logged in?): name 'HF_REPO' is not defined\n"
          ]
        },
        {
          "data": {
            "application/vnd.jupyter.widget-view+json": {
              "model_id": "dc0f2983a7964665a9bdf5c90a26c99f",
              "version_major": 2,
              "version_minor": 0
            },
            "text/plain": [
              "checkpoint_0000800.pth:   0%|          | 0.00/15.5M [00:00<?, ?B/s]"
            ]
          },
          "metadata": {},
          "output_type": "display_data"
        },
        {
          "name": "stdout",
          "output_type": "stream",
          "text": [
            "Moving model to device:  cuda\n",
            "Moving model to device:  cuda\n",
            "Moving model to device:  cuda\n",
            "Moving model to device:  cuda\n",
            "Moving model to device:  cuda\n",
            "Moving model to device:  cuda\n",
            "Moving model to device:  cuda\n",
            "Moving model to device:  cuda\n",
            "Moving model to device:  cuda\n",
            "Moving model to device:  cuda\n",
            "Moving model to device:  cuda\n",
            "Moving model to device:  cuda\n",
            "Moving model to device:  cuda\n",
            "Moving model to device:  cuda\n",
            "Moving model to device:  cuda\n",
            "Moving model to device:  cuda\n",
            "Moving model to device:  cuda\n",
            "Moving model to device:  cuda\n",
            "Moving model to device:  cuda\n",
            "Moving model to device:  cuda\n",
            "Moving model to device:  cuda\n",
            "Moving model to device:  cuda\n"
          ]
        },
        {
          "name": "stderr",
          "output_type": "stream",
          "text": [
            "checkpoints:   5%|▌         | 4/75 [16:38<4:55:18, 249.56s/it]"
          ]
        },
        {
          "name": "stdout",
          "output_type": "stream",
          "text": [
            "⚠️  upload failed (not logged in?): name 'HF_REPO' is not defined\n",
            "Moving model to device:  cuda\n",
            "Moving model to device:  cuda\n",
            "Moving model to device:  cuda\n",
            "Moving model to device:  cuda\n",
            "Moving model to device:  cuda\n",
            "Moving model to device:  cuda\n",
            "Moving model to device:  cuda\n",
            "Moving model to device:  cuda\n",
            "Moving model to device:  cuda\n",
            "Moving model to device:  cuda\n",
            "Moving model to device:  cuda\n",
            "Moving model to device:  cuda\n",
            "Moving model to device:  cuda\n",
            "Moving model to device:  cuda\n",
            "Moving model to device:  cuda\n",
            "Moving model to device:  cuda\n",
            "Moving model to device:  cuda\n",
            "Moving model to device:  cuda\n",
            "Moving model to device:  cuda\n",
            "Moving model to device:  cuda\n",
            "Moving model to device:  cuda\n",
            "Moving model to device:  cuda\n"
          ]
        },
        {
          "name": "stderr",
          "output_type": "stream",
          "text": [
            "checkpoints:   7%|▋         | 5/75 [20:47<4:51:10, 249.57s/it]"
          ]
        },
        {
          "name": "stdout",
          "output_type": "stream",
          "text": [
            "⚠️  upload failed (not logged in?): name 'HF_REPO' is not defined\n"
          ]
        },
        {
          "data": {
            "application/vnd.jupyter.widget-view+json": {
              "model_id": "83050f7d55e14c2ca681304ef7854854",
              "version_major": 2,
              "version_minor": 0
            },
            "text/plain": [
              "checkpoint_0001200.pth:   0%|          | 0.00/15.5M [00:00<?, ?B/s]"
            ]
          },
          "metadata": {},
          "output_type": "display_data"
        },
        {
          "name": "stdout",
          "output_type": "stream",
          "text": [
            "Moving model to device:  cuda\n",
            "Moving model to device:  cuda\n",
            "Moving model to device:  cuda\n",
            "Moving model to device:  cuda\n",
            "Moving model to device:  cuda\n",
            "Moving model to device:  cuda\n",
            "Moving model to device:  cuda\n",
            "Moving model to device:  cuda\n",
            "Moving model to device:  cuda\n",
            "Moving model to device:  cuda\n",
            "Moving model to device:  cuda\n",
            "Moving model to device:  cuda\n",
            "Moving model to device:  cuda\n",
            "Moving model to device:  cuda\n",
            "Moving model to device:  cuda\n",
            "Moving model to device:  cuda\n",
            "Moving model to device:  cuda\n",
            "Moving model to device:  cuda\n",
            "Moving model to device:  cuda\n",
            "Moving model to device:  cuda\n",
            "Moving model to device:  cuda\n",
            "Moving model to device:  cuda\n"
          ]
        },
        {
          "name": "stderr",
          "output_type": "stream",
          "text": [
            "checkpoints:   8%|▊         | 6/75 [24:57<4:47:02, 249.60s/it]"
          ]
        },
        {
          "name": "stdout",
          "output_type": "stream",
          "text": [
            "⚠️  upload failed (not logged in?): name 'HF_REPO' is not defined\n",
            "Moving model to device:  cuda\n",
            "Moving model to device:  cuda\n",
            "Moving model to device:  cuda\n",
            "Moving model to device:  cuda\n",
            "Moving model to device:  cuda\n",
            "Moving model to device:  cuda\n",
            "Moving model to device:  cuda\n",
            "Moving model to device:  cuda\n",
            "Moving model to device:  cuda\n",
            "Moving model to device:  cuda\n",
            "Moving model to device:  cuda\n",
            "Moving model to device:  cuda\n",
            "Moving model to device:  cuda\n",
            "Moving model to device:  cuda\n",
            "Moving model to device:  cuda\n",
            "Moving model to device:  cuda\n",
            "Moving model to device:  cuda\n",
            "Moving model to device:  cuda\n",
            "Moving model to device:  cuda\n",
            "Moving model to device:  cuda\n",
            "Moving model to device:  cuda\n",
            "Moving model to device:  cuda\n"
          ]
        },
        {
          "name": "stderr",
          "output_type": "stream",
          "text": [
            "checkpoints:   9%|▉         | 7/75 [29:06<4:42:51, 249.58s/it]"
          ]
        },
        {
          "name": "stdout",
          "output_type": "stream",
          "text": [
            "⚠️  upload failed (not logged in?): name 'HF_REPO' is not defined\n"
          ]
        },
        {
          "data": {
            "application/vnd.jupyter.widget-view+json": {
              "model_id": "01c3c590bd70448eac09442ccd699d94",
              "version_major": 2,
              "version_minor": 0
            },
            "text/plain": [
              "checkpoint_0001600.pth:   0%|          | 0.00/15.5M [00:00<?, ?B/s]"
            ]
          },
          "metadata": {},
          "output_type": "display_data"
        },
        {
          "name": "stdout",
          "output_type": "stream",
          "text": [
            "Moving model to device:  cuda\n",
            "Moving model to device:  cuda\n",
            "Moving model to device:  cuda\n",
            "Moving model to device:  cuda\n",
            "Moving model to device:  cuda\n",
            "Moving model to device:  cuda\n",
            "Moving model to device:  cuda\n",
            "Moving model to device:  cuda\n",
            "Moving model to device:  cuda\n",
            "Moving model to device:  cuda\n",
            "Moving model to device:  cuda\n",
            "Moving model to device:  cuda\n",
            "Moving model to device:  cuda\n",
            "Moving model to device:  cuda\n",
            "Moving model to device:  cuda\n",
            "Moving model to device:  cuda\n",
            "Moving model to device:  cuda\n",
            "Moving model to device:  cuda\n",
            "Moving model to device:  cuda\n",
            "Moving model to device:  cuda\n",
            "Moving model to device:  cuda\n",
            "Moving model to device:  cuda\n"
          ]
        },
        {
          "name": "stderr",
          "output_type": "stream",
          "text": [
            "checkpoints:  11%|█         | 8/75 [33:17<4:38:53, 249.76s/it]"
          ]
        },
        {
          "name": "stdout",
          "output_type": "stream",
          "text": [
            "⚠️  upload failed (not logged in?): name 'HF_REPO' is not defined\n"
          ]
        },
        {
          "data": {
            "application/vnd.jupyter.widget-view+json": {
              "model_id": "9069c2ac7c054ee08f16950e36edfe64",
              "version_major": 2,
              "version_minor": 0
            },
            "text/plain": [
              "checkpoint_0001800.pth:   0%|          | 0.00/15.5M [00:00<?, ?B/s]"
            ]
          },
          "metadata": {},
          "output_type": "display_data"
        },
        {
          "name": "stdout",
          "output_type": "stream",
          "text": [
            "Moving model to device:  cuda\n",
            "Moving model to device:  cuda\n",
            "Moving model to device:  cuda\n",
            "Moving model to device:  cuda\n",
            "Moving model to device:  cuda\n",
            "Moving model to device:  cuda\n",
            "Moving model to device:  cuda\n",
            "Moving model to device:  cuda\n",
            "Moving model to device:  cuda\n",
            "Moving model to device:  cuda\n",
            "Moving model to device:  cuda\n",
            "Moving model to device:  cuda\n",
            "Moving model to device:  cuda\n",
            "Moving model to device:  cuda\n",
            "Moving model to device:  cuda\n",
            "Moving model to device:  cuda\n",
            "Moving model to device:  cuda\n",
            "Moving model to device:  cuda\n",
            "Moving model to device:  cuda\n",
            "Moving model to device:  cuda\n",
            "Moving model to device:  cuda\n",
            "Moving model to device:  cuda\n"
          ]
        },
        {
          "name": "stderr",
          "output_type": "stream",
          "text": [
            "checkpoints:  12%|█▏        | 9/75 [37:27<4:34:49, 249.84s/it]"
          ]
        },
        {
          "name": "stdout",
          "output_type": "stream",
          "text": [
            "⚠️  upload failed (not logged in?): name 'HF_REPO' is not defined\n"
          ]
        },
        {
          "data": {
            "application/vnd.jupyter.widget-view+json": {
              "model_id": "4687f56c544541cc9ae97173fa0e75bb",
              "version_major": 2,
              "version_minor": 0
            },
            "text/plain": [
              "checkpoint_0002000.pth:   0%|          | 0.00/15.5M [00:00<?, ?B/s]"
            ]
          },
          "metadata": {},
          "output_type": "display_data"
        },
        {
          "name": "stdout",
          "output_type": "stream",
          "text": [
            "Moving model to device:  cuda\n",
            "Moving model to device:  cuda\n",
            "Moving model to device:  cuda\n",
            "Moving model to device:  cuda\n",
            "Moving model to device:  cuda\n",
            "Moving model to device:  cuda\n",
            "Moving model to device:  cuda\n",
            "Moving model to device:  cuda\n",
            "Moving model to device:  cuda\n",
            "Moving model to device:  cuda\n",
            "Moving model to device:  cuda\n",
            "Moving model to device:  cuda\n",
            "Moving model to device:  cuda\n",
            "Moving model to device:  cuda\n",
            "Moving model to device:  cuda\n",
            "Moving model to device:  cuda\n",
            "Moving model to device:  cuda\n",
            "Moving model to device:  cuda\n",
            "Moving model to device:  cuda\n",
            "Moving model to device:  cuda\n",
            "Moving model to device:  cuda\n",
            "Moving model to device:  cuda\n"
          ]
        },
        {
          "name": "stderr",
          "output_type": "stream",
          "text": [
            "checkpoints:  13%|█▎        | 10/75 [41:36<4:30:34, 249.76s/it]"
          ]
        },
        {
          "name": "stdout",
          "output_type": "stream",
          "text": [
            "⚠️  upload failed (not logged in?): name 'HF_REPO' is not defined\n"
          ]
        },
        {
          "data": {
            "application/vnd.jupyter.widget-view+json": {
              "model_id": "15af737d94e740228ff7d86b09beb159",
              "version_major": 2,
              "version_minor": 0
            },
            "text/plain": [
              "checkpoint_0002200.pth:   0%|          | 0.00/15.5M [00:00<?, ?B/s]"
            ]
          },
          "metadata": {},
          "output_type": "display_data"
        },
        {
          "name": "stdout",
          "output_type": "stream",
          "text": [
            "Moving model to device:  cuda\n",
            "Moving model to device:  cuda\n",
            "Moving model to device:  cuda\n",
            "Moving model to device:  cuda\n",
            "Moving model to device:  cuda\n",
            "Moving model to device:  cuda\n",
            "Moving model to device:  cuda\n",
            "Moving model to device:  cuda\n",
            "Moving model to device:  cuda\n",
            "Moving model to device:  cuda\n",
            "Moving model to device:  cuda\n",
            "Moving model to device:  cuda\n",
            "Moving model to device:  cuda\n",
            "Moving model to device:  cuda\n",
            "Moving model to device:  cuda\n",
            "Moving model to device:  cuda\n",
            "Moving model to device:  cuda\n",
            "Moving model to device:  cuda\n",
            "Moving model to device:  cuda\n",
            "Moving model to device:  cuda\n",
            "Moving model to device:  cuda\n",
            "Moving model to device:  cuda\n"
          ]
        },
        {
          "name": "stderr",
          "output_type": "stream",
          "text": [
            "checkpoints:  15%|█▍        | 11/75 [45:46<4:26:21, 249.72s/it]"
          ]
        },
        {
          "name": "stdout",
          "output_type": "stream",
          "text": [
            "⚠️  upload failed (not logged in?): name 'HF_REPO' is not defined\n"
          ]
        },
        {
          "data": {
            "application/vnd.jupyter.widget-view+json": {
              "model_id": "9d406e932df949eaa3a360d961a79722",
              "version_major": 2,
              "version_minor": 0
            },
            "text/plain": [
              "checkpoint_0002400.pth:   0%|          | 0.00/15.5M [00:00<?, ?B/s]"
            ]
          },
          "metadata": {},
          "output_type": "display_data"
        },
        {
          "name": "stdout",
          "output_type": "stream",
          "text": [
            "Moving model to device:  cuda\n",
            "Moving model to device:  cuda\n",
            "Moving model to device:  cuda\n",
            "Moving model to device:  cuda\n",
            "Moving model to device:  cuda\n",
            "Moving model to device:  cuda\n",
            "Moving model to device:  cuda\n",
            "Moving model to device:  cuda\n",
            "Moving model to device:  cuda\n",
            "Moving model to device:  cuda\n",
            "Moving model to device:  cuda\n",
            "Moving model to device:  cuda\n",
            "Moving model to device:  cuda\n",
            "Moving model to device:  cuda\n",
            "Moving model to device:  cuda\n",
            "Moving model to device:  cuda\n",
            "Moving model to device:  cuda\n",
            "Moving model to device:  cuda\n",
            "Moving model to device:  cuda\n",
            "Moving model to device:  cuda\n",
            "Moving model to device:  cuda\n",
            "Moving model to device:  cuda\n"
          ]
        },
        {
          "name": "stderr",
          "output_type": "stream",
          "text": [
            "checkpoints:  16%|█▌        | 12/75 [49:55<4:22:11, 249.71s/it]"
          ]
        },
        {
          "name": "stdout",
          "output_type": "stream",
          "text": [
            "⚠️  upload failed (not logged in?): name 'HF_REPO' is not defined\n"
          ]
        },
        {
          "data": {
            "application/vnd.jupyter.widget-view+json": {
              "model_id": "57b53a4b36704c759e7cd71281870721",
              "version_major": 2,
              "version_minor": 0
            },
            "text/plain": [
              "checkpoint_0002600.pth:   0%|          | 0.00/15.5M [00:00<?, ?B/s]"
            ]
          },
          "metadata": {},
          "output_type": "display_data"
        },
        {
          "name": "stdout",
          "output_type": "stream",
          "text": [
            "Moving model to device:  cuda\n",
            "Moving model to device:  cuda\n",
            "Moving model to device:  cuda\n",
            "Moving model to device:  cuda\n",
            "Moving model to device:  cuda\n",
            "Moving model to device:  cuda\n",
            "Moving model to device:  cuda\n",
            "Moving model to device:  cuda\n",
            "Moving model to device:  cuda\n",
            "Moving model to device:  cuda\n",
            "Moving model to device:  cuda\n",
            "Moving model to device:  cuda\n",
            "Moving model to device:  cuda\n",
            "Moving model to device:  cuda\n",
            "Moving model to device:  cuda\n",
            "Moving model to device:  cuda\n",
            "Moving model to device:  cuda\n",
            "Moving model to device:  cuda\n",
            "Moving model to device:  cuda\n",
            "Moving model to device:  cuda\n",
            "Moving model to device:  cuda\n",
            "Moving model to device:  cuda\n"
          ]
        },
        {
          "name": "stderr",
          "output_type": "stream",
          "text": [
            "checkpoints:  17%|█▋        | 13/75 [54:05<4:18:02, 249.72s/it]"
          ]
        },
        {
          "name": "stdout",
          "output_type": "stream",
          "text": [
            "⚠️  upload failed (not logged in?): name 'HF_REPO' is not defined\n"
          ]
        },
        {
          "data": {
            "application/vnd.jupyter.widget-view+json": {
              "model_id": "53ede6a987954da3a8be56b289b08878",
              "version_major": 2,
              "version_minor": 0
            },
            "text/plain": [
              "checkpoint_0002800.pth:   0%|          | 0.00/15.5M [00:00<?, ?B/s]"
            ]
          },
          "metadata": {},
          "output_type": "display_data"
        },
        {
          "name": "stdout",
          "output_type": "stream",
          "text": [
            "Moving model to device:  cuda\n",
            "Moving model to device:  cuda\n",
            "Moving model to device:  cuda\n",
            "Moving model to device:  cuda\n",
            "Moving model to device:  cuda\n",
            "Moving model to device:  cuda\n",
            "Moving model to device:  cuda\n",
            "Moving model to device:  cuda\n",
            "Moving model to device:  cuda\n",
            "Moving model to device:  cuda\n",
            "Moving model to device:  cuda\n",
            "Moving model to device:  cuda\n",
            "Moving model to device:  cuda\n",
            "Moving model to device:  cuda\n",
            "Moving model to device:  cuda\n",
            "Moving model to device:  cuda\n",
            "Moving model to device:  cuda\n",
            "Moving model to device:  cuda\n",
            "Moving model to device:  cuda\n",
            "Moving model to device:  cuda\n",
            "Moving model to device:  cuda\n",
            "Moving model to device:  cuda\n"
          ]
        },
        {
          "name": "stderr",
          "output_type": "stream",
          "text": [
            "checkpoints:  19%|█▊        | 14/75 [58:15<4:13:50, 249.68s/it]"
          ]
        },
        {
          "name": "stdout",
          "output_type": "stream",
          "text": [
            "⚠️  upload failed (not logged in?): name 'HF_REPO' is not defined\n"
          ]
        },
        {
          "data": {
            "application/vnd.jupyter.widget-view+json": {
              "model_id": "4a49119c41f84d55bdb59a0f5673e28d",
              "version_major": 2,
              "version_minor": 0
            },
            "text/plain": [
              "checkpoint_0003000.pth:   0%|          | 0.00/15.5M [00:00<?, ?B/s]"
            ]
          },
          "metadata": {},
          "output_type": "display_data"
        },
        {
          "name": "stdout",
          "output_type": "stream",
          "text": [
            "Moving model to device:  cuda\n",
            "Moving model to device:  cuda\n",
            "Moving model to device:  cuda\n",
            "Moving model to device:  cuda\n",
            "Moving model to device:  cuda\n",
            "Moving model to device:  cuda\n",
            "Moving model to device:  cuda\n",
            "Moving model to device:  cuda\n",
            "Moving model to device:  cuda\n",
            "Moving model to device:  cuda\n",
            "Moving model to device:  cuda\n",
            "Moving model to device:  cuda\n",
            "Moving model to device:  cuda\n",
            "Moving model to device:  cuda\n",
            "Moving model to device:  cuda\n",
            "Moving model to device:  cuda\n",
            "Moving model to device:  cuda\n",
            "Moving model to device:  cuda\n",
            "Moving model to device:  cuda\n",
            "Moving model to device:  cuda\n",
            "Moving model to device:  cuda\n",
            "Moving model to device:  cuda\n"
          ]
        },
        {
          "name": "stderr",
          "output_type": "stream",
          "text": [
            "checkpoints:  20%|██        | 15/75 [1:02:25<4:09:54, 249.90s/it]"
          ]
        },
        {
          "name": "stdout",
          "output_type": "stream",
          "text": [
            "⚠️  upload failed (not logged in?): name 'HF_REPO' is not defined\n"
          ]
        },
        {
          "data": {
            "application/vnd.jupyter.widget-view+json": {
              "model_id": "291ddccdd2c0476fbd635f9eb7229efb",
              "version_major": 2,
              "version_minor": 0
            },
            "text/plain": [
              "checkpoint_0003200.pth:   0%|          | 0.00/15.5M [00:00<?, ?B/s]"
            ]
          },
          "metadata": {},
          "output_type": "display_data"
        },
        {
          "name": "stdout",
          "output_type": "stream",
          "text": [
            "Moving model to device:  cuda\n",
            "Moving model to device:  cuda\n",
            "Moving model to device:  cuda\n",
            "Moving model to device:  cuda\n",
            "Moving model to device:  cuda\n",
            "Moving model to device:  cuda\n",
            "Moving model to device:  cuda\n",
            "Moving model to device:  cuda\n",
            "Moving model to device:  cuda\n",
            "Moving model to device:  cuda\n",
            "Moving model to device:  cuda\n",
            "Moving model to device:  cuda\n",
            "Moving model to device:  cuda\n",
            "Moving model to device:  cuda\n",
            "Moving model to device:  cuda\n",
            "Moving model to device:  cuda\n",
            "Moving model to device:  cuda\n",
            "Moving model to device:  cuda\n",
            "Moving model to device:  cuda\n",
            "Moving model to device:  cuda\n",
            "Moving model to device:  cuda\n",
            "Moving model to device:  cuda\n"
          ]
        },
        {
          "name": "stderr",
          "output_type": "stream",
          "text": [
            "checkpoints:  21%|██▏       | 16/75 [1:06:36<4:05:53, 250.05s/it]"
          ]
        },
        {
          "name": "stdout",
          "output_type": "stream",
          "text": [
            "⚠️  upload failed (not logged in?): name 'HF_REPO' is not defined\n"
          ]
        },
        {
          "data": {
            "application/vnd.jupyter.widget-view+json": {
              "model_id": "689153f4d97b401a993e4374c6182ccf",
              "version_major": 2,
              "version_minor": 0
            },
            "text/plain": [
              "checkpoint_0003400.pth:   0%|          | 0.00/15.5M [00:00<?, ?B/s]"
            ]
          },
          "metadata": {},
          "output_type": "display_data"
        },
        {
          "name": "stdout",
          "output_type": "stream",
          "text": [
            "Moving model to device:  cuda\n",
            "Moving model to device:  cuda\n",
            "Moving model to device:  cuda\n",
            "Moving model to device:  cuda\n",
            "Moving model to device:  cuda\n",
            "Moving model to device:  cuda\n",
            "Moving model to device:  cuda\n",
            "Moving model to device:  cuda\n",
            "Moving model to device:  cuda\n",
            "Moving model to device:  cuda\n",
            "Moving model to device:  cuda\n",
            "Moving model to device:  cuda\n",
            "Moving model to device:  cuda\n",
            "Moving model to device:  cuda\n",
            "Moving model to device:  cuda\n",
            "Moving model to device:  cuda\n",
            "Moving model to device:  cuda\n",
            "Moving model to device:  cuda\n",
            "Moving model to device:  cuda\n",
            "Moving model to device:  cuda\n",
            "Moving model to device:  cuda\n",
            "Moving model to device:  cuda\n"
          ]
        },
        {
          "name": "stderr",
          "output_type": "stream",
          "text": [
            "checkpoints:  23%|██▎       | 17/75 [1:10:46<4:01:48, 250.14s/it]"
          ]
        },
        {
          "name": "stdout",
          "output_type": "stream",
          "text": [
            "⚠️  upload failed (not logged in?): name 'HF_REPO' is not defined\n"
          ]
        },
        {
          "data": {
            "application/vnd.jupyter.widget-view+json": {
              "model_id": "d5a0711fff4a464e9618033a525c11eb",
              "version_major": 2,
              "version_minor": 0
            },
            "text/plain": [
              "checkpoint_0003600.pth:   0%|          | 0.00/15.5M [00:00<?, ?B/s]"
            ]
          },
          "metadata": {},
          "output_type": "display_data"
        },
        {
          "name": "stdout",
          "output_type": "stream",
          "text": [
            "Moving model to device:  cuda\n",
            "Moving model to device:  cuda\n",
            "Moving model to device:  cuda\n",
            "Moving model to device:  cuda\n",
            "Moving model to device:  cuda\n",
            "Moving model to device:  cuda\n",
            "Moving model to device:  cuda\n",
            "Moving model to device:  cuda\n",
            "Moving model to device:  cuda\n",
            "Moving model to device:  cuda\n",
            "Moving model to device:  cuda\n",
            "Moving model to device:  cuda\n",
            "Moving model to device:  cuda\n",
            "Moving model to device:  cuda\n",
            "Moving model to device:  cuda\n",
            "Moving model to device:  cuda\n",
            "Moving model to device:  cuda\n",
            "Moving model to device:  cuda\n",
            "Moving model to device:  cuda\n",
            "Moving model to device:  cuda\n",
            "Moving model to device:  cuda\n",
            "Moving model to device:  cuda\n"
          ]
        },
        {
          "name": "stderr",
          "output_type": "stream",
          "text": [
            "checkpoints:  24%|██▍       | 18/75 [1:14:56<3:57:39, 250.17s/it]"
          ]
        },
        {
          "name": "stdout",
          "output_type": "stream",
          "text": [
            "⚠️  upload failed (not logged in?): name 'HF_REPO' is not defined\n"
          ]
        },
        {
          "data": {
            "application/vnd.jupyter.widget-view+json": {
              "model_id": "2c7f9179c0964a1a9a577b1e5dfb389a",
              "version_major": 2,
              "version_minor": 0
            },
            "text/plain": [
              "checkpoint_0003800.pth:   0%|          | 0.00/15.5M [00:00<?, ?B/s]"
            ]
          },
          "metadata": {},
          "output_type": "display_data"
        },
        {
          "name": "stdout",
          "output_type": "stream",
          "text": [
            "Moving model to device:  cuda\n",
            "Moving model to device:  cuda\n",
            "Moving model to device:  cuda\n",
            "Moving model to device:  cuda\n",
            "Moving model to device:  cuda\n",
            "Moving model to device:  cuda\n",
            "Moving model to device:  cuda\n",
            "Moving model to device:  cuda\n",
            "Moving model to device:  cuda\n",
            "Moving model to device:  cuda\n",
            "Moving model to device:  cuda\n",
            "Moving model to device:  cuda\n",
            "Moving model to device:  cuda\n",
            "Moving model to device:  cuda\n",
            "Moving model to device:  cuda\n",
            "Moving model to device:  cuda\n",
            "Moving model to device:  cuda\n",
            "Moving model to device:  cuda\n",
            "Moving model to device:  cuda\n",
            "Moving model to device:  cuda\n",
            "Moving model to device:  cuda\n",
            "Moving model to device:  cuda\n"
          ]
        },
        {
          "name": "stderr",
          "output_type": "stream",
          "text": [
            "checkpoints:  25%|██▌       | 19/75 [1:19:07<3:53:32, 250.23s/it]"
          ]
        },
        {
          "name": "stdout",
          "output_type": "stream",
          "text": [
            "⚠️  upload failed (not logged in?): name 'HF_REPO' is not defined\n"
          ]
        },
        {
          "data": {
            "application/vnd.jupyter.widget-view+json": {
              "model_id": "7bdf218157004bd7a6faf64efb7350cb",
              "version_major": 2,
              "version_minor": 0
            },
            "text/plain": [
              "checkpoint_0004000.pth:   0%|          | 0.00/15.5M [00:00<?, ?B/s]"
            ]
          },
          "metadata": {},
          "output_type": "display_data"
        },
        {
          "name": "stdout",
          "output_type": "stream",
          "text": [
            "Moving model to device:  cuda\n",
            "Moving model to device:  cuda\n",
            "Moving model to device:  cuda\n",
            "Moving model to device:  cuda\n",
            "Moving model to device:  cuda\n",
            "Moving model to device:  cuda\n",
            "Moving model to device:  cuda\n",
            "Moving model to device:  cuda\n",
            "Moving model to device:  cuda\n",
            "Moving model to device:  cuda\n",
            "Moving model to device:  cuda\n",
            "Moving model to device:  cuda\n",
            "Moving model to device:  cuda\n",
            "Moving model to device:  cuda\n",
            "Moving model to device:  cuda\n",
            "Moving model to device:  cuda\n",
            "Moving model to device:  cuda\n",
            "Moving model to device:  cuda\n",
            "Moving model to device:  cuda\n",
            "Moving model to device:  cuda\n",
            "Moving model to device:  cuda\n",
            "Moving model to device:  cuda\n"
          ]
        },
        {
          "name": "stderr",
          "output_type": "stream",
          "text": [
            "checkpoints:  27%|██▋       | 20/75 [1:23:17<3:49:20, 250.19s/it]"
          ]
        },
        {
          "name": "stdout",
          "output_type": "stream",
          "text": [
            "⚠️  upload failed (not logged in?): name 'HF_REPO' is not defined\n"
          ]
        },
        {
          "data": {
            "application/vnd.jupyter.widget-view+json": {
              "model_id": "939b5593745f4c8c89b9e87c3871db23",
              "version_major": 2,
              "version_minor": 0
            },
            "text/plain": [
              "checkpoint_0004200.pth:   0%|          | 0.00/15.5M [00:00<?, ?B/s]"
            ]
          },
          "metadata": {},
          "output_type": "display_data"
        },
        {
          "name": "stdout",
          "output_type": "stream",
          "text": [
            "Moving model to device:  cuda\n",
            "Moving model to device:  cuda\n",
            "Moving model to device:  cuda\n",
            "Moving model to device:  cuda\n",
            "Moving model to device:  cuda\n",
            "Moving model to device:  cuda\n",
            "Moving model to device:  cuda\n",
            "Moving model to device:  cuda\n",
            "Moving model to device:  cuda\n",
            "Moving model to device:  cuda\n",
            "Moving model to device:  cuda\n",
            "Moving model to device:  cuda\n",
            "Moving model to device:  cuda\n",
            "Moving model to device:  cuda\n",
            "Moving model to device:  cuda\n",
            "Moving model to device:  cuda\n",
            "Moving model to device:  cuda\n",
            "Moving model to device:  cuda\n",
            "Moving model to device:  cuda\n",
            "Moving model to device:  cuda\n",
            "Moving model to device:  cuda\n",
            "Moving model to device:  cuda\n"
          ]
        },
        {
          "name": "stderr",
          "output_type": "stream",
          "text": [
            "checkpoints:  28%|██▊       | 21/75 [1:27:27<3:45:05, 250.11s/it]"
          ]
        },
        {
          "name": "stdout",
          "output_type": "stream",
          "text": [
            "⚠️  upload failed (not logged in?): name 'HF_REPO' is not defined\n"
          ]
        },
        {
          "data": {
            "application/vnd.jupyter.widget-view+json": {
              "model_id": "9d560ed6779d40fd8f82d66d2caab2f5",
              "version_major": 2,
              "version_minor": 0
            },
            "text/plain": [
              "checkpoint_0004400.pth:   0%|          | 0.00/15.5M [00:00<?, ?B/s]"
            ]
          },
          "metadata": {},
          "output_type": "display_data"
        },
        {
          "name": "stdout",
          "output_type": "stream",
          "text": [
            "Moving model to device:  cuda\n",
            "Moving model to device:  cuda\n",
            "Moving model to device:  cuda\n",
            "Moving model to device:  cuda\n",
            "Moving model to device:  cuda\n",
            "Moving model to device:  cuda\n",
            "Moving model to device:  cuda\n",
            "Moving model to device:  cuda\n",
            "Moving model to device:  cuda\n",
            "Moving model to device:  cuda\n",
            "Moving model to device:  cuda\n",
            "Moving model to device:  cuda\n",
            "Moving model to device:  cuda\n",
            "Moving model to device:  cuda\n",
            "Moving model to device:  cuda\n",
            "Moving model to device:  cuda\n",
            "Moving model to device:  cuda\n",
            "Moving model to device:  cuda\n",
            "Moving model to device:  cuda\n",
            "Moving model to device:  cuda\n",
            "Moving model to device:  cuda\n",
            "Moving model to device:  cuda\n"
          ]
        },
        {
          "name": "stderr",
          "output_type": "stream",
          "text": [
            "checkpoints:  29%|██▉       | 22/75 [1:31:37<3:40:55, 250.11s/it]"
          ]
        },
        {
          "name": "stdout",
          "output_type": "stream",
          "text": [
            "⚠️  upload failed (not logged in?): name 'HF_REPO' is not defined\n"
          ]
        },
        {
          "data": {
            "application/vnd.jupyter.widget-view+json": {
              "model_id": "e1fc1719cadb4dcfa56e76db011006d4",
              "version_major": 2,
              "version_minor": 0
            },
            "text/plain": [
              "checkpoint_0004600.pth:   0%|          | 0.00/15.5M [00:00<?, ?B/s]"
            ]
          },
          "metadata": {},
          "output_type": "display_data"
        },
        {
          "name": "stdout",
          "output_type": "stream",
          "text": [
            "Moving model to device:  cuda\n",
            "Moving model to device:  cuda\n",
            "Moving model to device:  cuda\n",
            "Moving model to device:  cuda\n",
            "Moving model to device:  cuda\n",
            "Moving model to device:  cuda\n",
            "Moving model to device:  cuda\n",
            "Moving model to device:  cuda\n",
            "Moving model to device:  cuda\n",
            "Moving model to device:  cuda\n",
            "Moving model to device:  cuda\n",
            "Moving model to device:  cuda\n",
            "Moving model to device:  cuda\n",
            "Moving model to device:  cuda\n",
            "Moving model to device:  cuda\n",
            "Moving model to device:  cuda\n",
            "Moving model to device:  cuda\n",
            "Moving model to device:  cuda\n",
            "Moving model to device:  cuda\n",
            "Moving model to device:  cuda\n",
            "Moving model to device:  cuda\n",
            "Moving model to device:  cuda\n"
          ]
        },
        {
          "name": "stderr",
          "output_type": "stream",
          "text": [
            "checkpoints:  31%|███       | 23/75 [1:35:47<3:36:45, 250.11s/it]"
          ]
        },
        {
          "name": "stdout",
          "output_type": "stream",
          "text": [
            "⚠️  upload failed (not logged in?): name 'HF_REPO' is not defined\n"
          ]
        },
        {
          "data": {
            "application/vnd.jupyter.widget-view+json": {
              "model_id": "4f70421e165948d48aa8b620a6aa64a6",
              "version_major": 2,
              "version_minor": 0
            },
            "text/plain": [
              "checkpoint_0004800.pth:   0%|          | 0.00/15.5M [00:00<?, ?B/s]"
            ]
          },
          "metadata": {},
          "output_type": "display_data"
        },
        {
          "name": "stdout",
          "output_type": "stream",
          "text": [
            "Moving model to device:  cuda\n",
            "Moving model to device:  cuda\n",
            "Moving model to device:  cuda\n",
            "Moving model to device:  cuda\n",
            "Moving model to device:  cuda\n",
            "Moving model to device:  cuda\n",
            "Moving model to device:  cuda\n",
            "Moving model to device:  cuda\n",
            "Moving model to device:  cuda\n",
            "Moving model to device:  cuda\n",
            "Moving model to device:  cuda\n",
            "Moving model to device:  cuda\n",
            "Moving model to device:  cuda\n",
            "Moving model to device:  cuda\n",
            "Moving model to device:  cuda\n",
            "Moving model to device:  cuda\n",
            "Moving model to device:  cuda\n",
            "Moving model to device:  cuda\n",
            "Moving model to device:  cuda\n",
            "Moving model to device:  cuda\n",
            "Moving model to device:  cuda\n",
            "Moving model to device:  cuda\n"
          ]
        },
        {
          "name": "stderr",
          "output_type": "stream",
          "text": [
            "checkpoints:  32%|███▏      | 24/75 [1:39:56<3:32:27, 249.94s/it]"
          ]
        },
        {
          "name": "stdout",
          "output_type": "stream",
          "text": [
            "⚠️  upload failed (not logged in?): name 'HF_REPO' is not defined\n"
          ]
        },
        {
          "data": {
            "application/vnd.jupyter.widget-view+json": {
              "model_id": "ba43c23706fd4dc19141eedb683ab814",
              "version_major": 2,
              "version_minor": 0
            },
            "text/plain": [
              "checkpoint_0005000.pth:   0%|          | 0.00/15.5M [00:00<?, ?B/s]"
            ]
          },
          "metadata": {},
          "output_type": "display_data"
        },
        {
          "name": "stdout",
          "output_type": "stream",
          "text": [
            "Moving model to device:  cuda\n",
            "Moving model to device:  cuda\n",
            "Moving model to device:  cuda\n",
            "Moving model to device:  cuda\n",
            "Moving model to device:  cuda\n",
            "Moving model to device:  cuda\n",
            "Moving model to device:  cuda\n",
            "Moving model to device:  cuda\n",
            "Moving model to device:  cuda\n",
            "Moving model to device:  cuda\n",
            "Moving model to device:  cuda\n",
            "Moving model to device:  cuda\n",
            "Moving model to device:  cuda\n",
            "Moving model to device:  cuda\n",
            "Moving model to device:  cuda\n",
            "Moving model to device:  cuda\n",
            "Moving model to device:  cuda\n",
            "Moving model to device:  cuda\n",
            "Moving model to device:  cuda\n",
            "Moving model to device:  cuda\n",
            "Moving model to device:  cuda\n",
            "Moving model to device:  cuda\n"
          ]
        },
        {
          "name": "stderr",
          "output_type": "stream",
          "text": [
            "checkpoints:  33%|███▎      | 25/75 [1:44:06<3:28:16, 249.92s/it]"
          ]
        },
        {
          "name": "stdout",
          "output_type": "stream",
          "text": [
            "⚠️  upload failed (not logged in?): name 'HF_REPO' is not defined\n"
          ]
        },
        {
          "data": {
            "application/vnd.jupyter.widget-view+json": {
              "model_id": "26cdfee70e2a4a8fa3d65b4f0055a5d2",
              "version_major": 2,
              "version_minor": 0
            },
            "text/plain": [
              "checkpoint_0005200.pth:   0%|          | 0.00/15.5M [00:00<?, ?B/s]"
            ]
          },
          "metadata": {},
          "output_type": "display_data"
        },
        {
          "name": "stdout",
          "output_type": "stream",
          "text": [
            "Moving model to device:  cuda\n",
            "Moving model to device:  cuda\n",
            "Moving model to device:  cuda\n",
            "Moving model to device:  cuda\n",
            "Moving model to device:  cuda\n",
            "Moving model to device:  cuda\n",
            "Moving model to device:  cuda\n",
            "Moving model to device:  cuda\n",
            "Moving model to device:  cuda\n",
            "Moving model to device:  cuda\n",
            "Moving model to device:  cuda\n",
            "Moving model to device:  cuda\n",
            "Moving model to device:  cuda\n",
            "Moving model to device:  cuda\n",
            "Moving model to device:  cuda\n",
            "Moving model to device:  cuda\n",
            "Moving model to device:  cuda\n",
            "Moving model to device:  cuda\n",
            "Moving model to device:  cuda\n",
            "Moving model to device:  cuda\n",
            "Moving model to device:  cuda\n",
            "Moving model to device:  cuda\n"
          ]
        },
        {
          "name": "stderr",
          "output_type": "stream",
          "text": [
            "checkpoints:  35%|███▍      | 26/75 [1:48:16<3:24:06, 249.92s/it]"
          ]
        },
        {
          "name": "stdout",
          "output_type": "stream",
          "text": [
            "⚠️  upload failed (not logged in?): name 'HF_REPO' is not defined\n"
          ]
        },
        {
          "data": {
            "application/vnd.jupyter.widget-view+json": {
              "model_id": "74e826d03dd14d2fa937cd092664c237",
              "version_major": 2,
              "version_minor": 0
            },
            "text/plain": [
              "checkpoint_0005400.pth:   0%|          | 0.00/15.5M [00:00<?, ?B/s]"
            ]
          },
          "metadata": {},
          "output_type": "display_data"
        },
        {
          "name": "stdout",
          "output_type": "stream",
          "text": [
            "Moving model to device:  cuda\n",
            "Moving model to device:  cuda\n",
            "Moving model to device:  cuda\n",
            "Moving model to device:  cuda\n",
            "Moving model to device:  cuda\n",
            "Moving model to device:  cuda\n",
            "Moving model to device:  cuda\n",
            "Moving model to device:  cuda\n",
            "Moving model to device:  cuda\n",
            "Moving model to device:  cuda\n",
            "Moving model to device:  cuda\n",
            "Moving model to device:  cuda\n",
            "Moving model to device:  cuda\n",
            "Moving model to device:  cuda\n",
            "Moving model to device:  cuda\n",
            "Moving model to device:  cuda\n",
            "Moving model to device:  cuda\n",
            "Moving model to device:  cuda\n",
            "Moving model to device:  cuda\n",
            "Moving model to device:  cuda\n",
            "Moving model to device:  cuda\n",
            "Moving model to device:  cuda\n"
          ]
        },
        {
          "name": "stderr",
          "output_type": "stream",
          "text": [
            "checkpoints:  36%|███▌      | 27/75 [1:52:26<3:19:55, 249.91s/it]"
          ]
        },
        {
          "name": "stdout",
          "output_type": "stream",
          "text": [
            "⚠️  upload failed (not logged in?): name 'HF_REPO' is not defined\n"
          ]
        },
        {
          "data": {
            "application/vnd.jupyter.widget-view+json": {
              "model_id": "f12f8d432bbd4ec3bcc0990418ad9207",
              "version_major": 2,
              "version_minor": 0
            },
            "text/plain": [
              "checkpoint_0005600.pth:   0%|          | 0.00/15.5M [00:00<?, ?B/s]"
            ]
          },
          "metadata": {},
          "output_type": "display_data"
        },
        {
          "name": "stdout",
          "output_type": "stream",
          "text": [
            "Moving model to device:  cuda\n",
            "Moving model to device:  cuda\n",
            "Moving model to device:  cuda\n",
            "Moving model to device:  cuda\n",
            "Moving model to device:  cuda\n",
            "Moving model to device:  cuda\n",
            "Moving model to device:  cuda\n",
            "Moving model to device:  cuda\n",
            "Moving model to device:  cuda\n",
            "Moving model to device:  cuda\n",
            "Moving model to device:  cuda\n",
            "Moving model to device:  cuda\n",
            "Moving model to device:  cuda\n",
            "Moving model to device:  cuda\n",
            "Moving model to device:  cuda\n",
            "Moving model to device:  cuda\n",
            "Moving model to device:  cuda\n",
            "Moving model to device:  cuda\n",
            "Moving model to device:  cuda\n",
            "Moving model to device:  cuda\n",
            "Moving model to device:  cuda\n",
            "Moving model to device:  cuda\n"
          ]
        },
        {
          "name": "stderr",
          "output_type": "stream",
          "text": [
            "checkpoints:  37%|███▋      | 28/75 [1:56:36<3:15:42, 249.83s/it]"
          ]
        },
        {
          "name": "stdout",
          "output_type": "stream",
          "text": [
            "⚠️  upload failed (not logged in?): name 'HF_REPO' is not defined\n"
          ]
        },
        {
          "data": {
            "application/vnd.jupyter.widget-view+json": {
              "model_id": "fba2861826db4cc4bab6088363e651e4",
              "version_major": 2,
              "version_minor": 0
            },
            "text/plain": [
              "checkpoint_0005800.pth:   0%|          | 0.00/15.5M [00:00<?, ?B/s]"
            ]
          },
          "metadata": {},
          "output_type": "display_data"
        },
        {
          "name": "stdout",
          "output_type": "stream",
          "text": [
            "Moving model to device:  cuda\n",
            "Moving model to device:  cuda\n",
            "Moving model to device:  cuda\n",
            "Moving model to device:  cuda\n",
            "Moving model to device:  cuda\n",
            "Moving model to device:  cuda\n",
            "Moving model to device:  cuda\n",
            "Moving model to device:  cuda\n",
            "Moving model to device:  cuda\n",
            "Moving model to device:  cuda\n",
            "Moving model to device:  cuda\n",
            "Moving model to device:  cuda\n",
            "Moving model to device:  cuda\n",
            "Moving model to device:  cuda\n",
            "Moving model to device:  cuda\n",
            "Moving model to device:  cuda\n",
            "Moving model to device:  cuda\n",
            "Moving model to device:  cuda\n",
            "Moving model to device:  cuda\n",
            "Moving model to device:  cuda\n",
            "Moving model to device:  cuda\n",
            "Moving model to device:  cuda\n"
          ]
        },
        {
          "name": "stderr",
          "output_type": "stream",
          "text": [
            "checkpoints:  39%|███▊      | 29/75 [2:00:45<3:11:29, 249.77s/it]"
          ]
        },
        {
          "name": "stdout",
          "output_type": "stream",
          "text": [
            "⚠️  upload failed (not logged in?): name 'HF_REPO' is not defined\n"
          ]
        },
        {
          "data": {
            "application/vnd.jupyter.widget-view+json": {
              "model_id": "b655fecb6fc0412ca7ee6567e189624b",
              "version_major": 2,
              "version_minor": 0
            },
            "text/plain": [
              "checkpoint_0006000.pth:   0%|          | 0.00/15.5M [00:00<?, ?B/s]"
            ]
          },
          "metadata": {},
          "output_type": "display_data"
        },
        {
          "name": "stdout",
          "output_type": "stream",
          "text": [
            "Moving model to device:  cuda\n",
            "Moving model to device:  cuda\n",
            "Moving model to device:  cuda\n",
            "Moving model to device:  cuda\n",
            "Moving model to device:  cuda\n",
            "Moving model to device:  cuda\n",
            "Moving model to device:  cuda\n",
            "Moving model to device:  cuda\n",
            "Moving model to device:  cuda\n",
            "Moving model to device:  cuda\n",
            "Moving model to device:  cuda\n",
            "Moving model to device:  cuda\n",
            "Moving model to device:  cuda\n",
            "Moving model to device:  cuda\n",
            "Moving model to device:  cuda\n",
            "Moving model to device:  cuda\n",
            "Moving model to device:  cuda\n",
            "Moving model to device:  cuda\n",
            "Moving model to device:  cuda\n",
            "Moving model to device:  cuda\n",
            "Moving model to device:  cuda\n",
            "Moving model to device:  cuda\n"
          ]
        },
        {
          "name": "stderr",
          "output_type": "stream",
          "text": [
            "checkpoints:  40%|████      | 30/75 [2:04:55<3:07:15, 249.67s/it]"
          ]
        },
        {
          "name": "stdout",
          "output_type": "stream",
          "text": [
            "⚠️  upload failed (not logged in?): name 'HF_REPO' is not defined\n"
          ]
        },
        {
          "data": {
            "application/vnd.jupyter.widget-view+json": {
              "model_id": "d1be3ce45c9f47dab2cd7416460d1cf3",
              "version_major": 2,
              "version_minor": 0
            },
            "text/plain": [
              "checkpoint_0006200.pth:   0%|          | 0.00/15.5M [00:00<?, ?B/s]"
            ]
          },
          "metadata": {},
          "output_type": "display_data"
        },
        {
          "name": "stdout",
          "output_type": "stream",
          "text": [
            "Moving model to device:  cuda\n",
            "Moving model to device:  cuda\n",
            "Moving model to device:  cuda\n",
            "Moving model to device:  cuda\n",
            "Moving model to device:  cuda\n",
            "Moving model to device:  cuda\n",
            "Moving model to device:  cuda\n",
            "Moving model to device:  cuda\n",
            "Moving model to device:  cuda\n",
            "Moving model to device:  cuda\n",
            "Moving model to device:  cuda\n",
            "Moving model to device:  cuda\n",
            "Moving model to device:  cuda\n",
            "Moving model to device:  cuda\n",
            "Moving model to device:  cuda\n",
            "Moving model to device:  cuda\n",
            "Moving model to device:  cuda\n",
            "Moving model to device:  cuda\n",
            "Moving model to device:  cuda\n",
            "Moving model to device:  cuda\n",
            "Moving model to device:  cuda\n",
            "Moving model to device:  cuda\n"
          ]
        },
        {
          "name": "stderr",
          "output_type": "stream",
          "text": [
            "checkpoints:  41%|████▏     | 31/75 [2:09:04<3:03:03, 249.63s/it]"
          ]
        },
        {
          "name": "stdout",
          "output_type": "stream",
          "text": [
            "⚠️  upload failed (not logged in?): name 'HF_REPO' is not defined\n"
          ]
        },
        {
          "data": {
            "application/vnd.jupyter.widget-view+json": {
              "model_id": "f13b37b0cb0145b4b607eb711400375e",
              "version_major": 2,
              "version_minor": 0
            },
            "text/plain": [
              "checkpoint_0006400.pth:   0%|          | 0.00/15.5M [00:00<?, ?B/s]"
            ]
          },
          "metadata": {},
          "output_type": "display_data"
        },
        {
          "name": "stdout",
          "output_type": "stream",
          "text": [
            "Moving model to device:  cuda\n",
            "Moving model to device:  cuda\n",
            "Moving model to device:  cuda\n",
            "Moving model to device:  cuda\n",
            "Moving model to device:  cuda\n",
            "Moving model to device:  cuda\n",
            "Moving model to device:  cuda\n",
            "Moving model to device:  cuda\n",
            "Moving model to device:  cuda\n",
            "Moving model to device:  cuda\n",
            "Moving model to device:  cuda\n",
            "Moving model to device:  cuda\n",
            "Moving model to device:  cuda\n",
            "Moving model to device:  cuda\n",
            "Moving model to device:  cuda\n",
            "Moving model to device:  cuda\n",
            "Moving model to device:  cuda\n",
            "Moving model to device:  cuda\n",
            "Moving model to device:  cuda\n",
            "Moving model to device:  cuda\n",
            "Moving model to device:  cuda\n",
            "Moving model to device:  cuda\n"
          ]
        },
        {
          "name": "stderr",
          "output_type": "stream",
          "text": [
            "checkpoints:  43%|████▎     | 32/75 [2:13:14<2:58:55, 249.66s/it]"
          ]
        },
        {
          "name": "stdout",
          "output_type": "stream",
          "text": [
            "⚠️  upload failed (not logged in?): name 'HF_REPO' is not defined\n"
          ]
        },
        {
          "data": {
            "application/vnd.jupyter.widget-view+json": {
              "model_id": "1c1646d9819b415fbe2fd87ca46dc931",
              "version_major": 2,
              "version_minor": 0
            },
            "text/plain": [
              "checkpoint_0006600.pth:   0%|          | 0.00/15.5M [00:00<?, ?B/s]"
            ]
          },
          "metadata": {},
          "output_type": "display_data"
        },
        {
          "name": "stdout",
          "output_type": "stream",
          "text": [
            "Moving model to device:  cuda\n",
            "Moving model to device:  cuda\n",
            "Moving model to device:  cuda\n",
            "Moving model to device:  cuda\n",
            "Moving model to device:  cuda\n",
            "Moving model to device:  cuda\n",
            "Moving model to device:  cuda\n",
            "Moving model to device:  cuda\n",
            "Moving model to device:  cuda\n",
            "Moving model to device:  cuda\n",
            "Moving model to device:  cuda\n",
            "Moving model to device:  cuda\n",
            "Moving model to device:  cuda\n",
            "Moving model to device:  cuda\n",
            "Moving model to device:  cuda\n",
            "Moving model to device:  cuda\n",
            "Moving model to device:  cuda\n",
            "Moving model to device:  cuda\n",
            "Moving model to device:  cuda\n",
            "Moving model to device:  cuda\n",
            "Moving model to device:  cuda\n",
            "Moving model to device:  cuda\n"
          ]
        },
        {
          "name": "stderr",
          "output_type": "stream",
          "text": [
            "checkpoints:  44%|████▍     | 33/75 [2:17:24<2:54:53, 249.84s/it]"
          ]
        },
        {
          "name": "stdout",
          "output_type": "stream",
          "text": [
            "⚠️  upload failed (not logged in?): name 'HF_REPO' is not defined\n"
          ]
        },
        {
          "data": {
            "application/vnd.jupyter.widget-view+json": {
              "model_id": "331ad99edb1d476089fa65d22d903d0f",
              "version_major": 2,
              "version_minor": 0
            },
            "text/plain": [
              "checkpoint_0006800.pth:   0%|          | 0.00/15.5M [00:00<?, ?B/s]"
            ]
          },
          "metadata": {},
          "output_type": "display_data"
        },
        {
          "name": "stdout",
          "output_type": "stream",
          "text": [
            "Moving model to device:  cuda\n",
            "Moving model to device:  cuda\n",
            "Moving model to device:  cuda\n",
            "Moving model to device:  cuda\n",
            "Moving model to device:  cuda\n",
            "Moving model to device:  cuda\n",
            "Moving model to device:  cuda\n",
            "Moving model to device:  cuda\n",
            "Moving model to device:  cuda\n",
            "Moving model to device:  cuda\n",
            "Moving model to device:  cuda\n",
            "Moving model to device:  cuda\n",
            "Moving model to device:  cuda\n",
            "Moving model to device:  cuda\n",
            "Moving model to device:  cuda\n",
            "Moving model to device:  cuda\n",
            "Moving model to device:  cuda\n",
            "Moving model to device:  cuda\n",
            "Moving model to device:  cuda\n",
            "Moving model to device:  cuda\n",
            "Moving model to device:  cuda\n",
            "Moving model to device:  cuda\n"
          ]
        },
        {
          "name": "stderr",
          "output_type": "stream",
          "text": [
            "checkpoints:  45%|████▌     | 34/75 [2:21:34<2:50:42, 249.81s/it]"
          ]
        },
        {
          "name": "stdout",
          "output_type": "stream",
          "text": [
            "⚠️  upload failed (not logged in?): name 'HF_REPO' is not defined\n"
          ]
        },
        {
          "data": {
            "application/vnd.jupyter.widget-view+json": {
              "model_id": "d584cbcbc42c4d148cf97ceed47beb16",
              "version_major": 2,
              "version_minor": 0
            },
            "text/plain": [
              "checkpoint_0007000.pth:   0%|          | 0.00/15.5M [00:00<?, ?B/s]"
            ]
          },
          "metadata": {},
          "output_type": "display_data"
        },
        {
          "name": "stdout",
          "output_type": "stream",
          "text": [
            "Moving model to device:  cuda\n",
            "Moving model to device:  cuda\n",
            "Moving model to device:  cuda\n",
            "Moving model to device:  cuda\n",
            "Moving model to device:  cuda\n",
            "Moving model to device:  cuda\n",
            "Moving model to device:  cuda\n",
            "Moving model to device:  cuda\n",
            "Moving model to device:  cuda\n",
            "Moving model to device:  cuda\n",
            "Moving model to device:  cuda\n",
            "Moving model to device:  cuda\n",
            "Moving model to device:  cuda\n",
            "Moving model to device:  cuda\n",
            "Moving model to device:  cuda\n",
            "Moving model to device:  cuda\n",
            "Moving model to device:  cuda\n",
            "Moving model to device:  cuda\n",
            "Moving model to device:  cuda\n",
            "Moving model to device:  cuda\n",
            "Moving model to device:  cuda\n",
            "Moving model to device:  cuda\n"
          ]
        },
        {
          "name": "stderr",
          "output_type": "stream",
          "text": [
            "checkpoints:  47%|████▋     | 35/75 [2:25:44<2:46:31, 249.79s/it]"
          ]
        },
        {
          "name": "stdout",
          "output_type": "stream",
          "text": [
            "⚠️  upload failed (not logged in?): name 'HF_REPO' is not defined\n"
          ]
        },
        {
          "data": {
            "application/vnd.jupyter.widget-view+json": {
              "model_id": "16b3ae6b13184c1ab057ca8f23fd1422",
              "version_major": 2,
              "version_minor": 0
            },
            "text/plain": [
              "checkpoint_0007200.pth:   0%|          | 0.00/15.5M [00:00<?, ?B/s]"
            ]
          },
          "metadata": {},
          "output_type": "display_data"
        },
        {
          "name": "stdout",
          "output_type": "stream",
          "text": [
            "Moving model to device:  cuda\n",
            "Moving model to device:  cuda\n",
            "Moving model to device:  cuda\n",
            "Moving model to device:  cuda\n",
            "Moving model to device:  cuda\n",
            "Moving model to device:  cuda\n",
            "Moving model to device:  cuda\n",
            "Moving model to device:  cuda\n",
            "Moving model to device:  cuda\n",
            "Moving model to device:  cuda\n",
            "Moving model to device:  cuda\n",
            "Moving model to device:  cuda\n",
            "Moving model to device:  cuda\n",
            "Moving model to device:  cuda\n",
            "Moving model to device:  cuda\n",
            "Moving model to device:  cuda\n",
            "Moving model to device:  cuda\n",
            "Moving model to device:  cuda\n",
            "Moving model to device:  cuda\n",
            "Moving model to device:  cuda\n",
            "Moving model to device:  cuda\n",
            "Moving model to device:  cuda\n"
          ]
        },
        {
          "name": "stderr",
          "output_type": "stream",
          "text": [
            "checkpoints:  48%|████▊     | 36/75 [2:29:53<2:42:19, 249.73s/it]"
          ]
        },
        {
          "name": "stdout",
          "output_type": "stream",
          "text": [
            "⚠️  upload failed (not logged in?): name 'HF_REPO' is not defined\n"
          ]
        },
        {
          "data": {
            "application/vnd.jupyter.widget-view+json": {
              "model_id": "b18a272812af46e689483f4318d43a72",
              "version_major": 2,
              "version_minor": 0
            },
            "text/plain": [
              "checkpoint_0007400.pth:   0%|          | 0.00/15.5M [00:00<?, ?B/s]"
            ]
          },
          "metadata": {},
          "output_type": "display_data"
        },
        {
          "name": "stdout",
          "output_type": "stream",
          "text": [
            "Moving model to device:  cuda\n",
            "Moving model to device:  cuda\n",
            "Moving model to device:  cuda\n",
            "Moving model to device:  cuda\n",
            "Moving model to device:  cuda\n",
            "Moving model to device:  cuda\n",
            "Moving model to device:  cuda\n",
            "Moving model to device:  cuda\n",
            "Moving model to device:  cuda\n",
            "Moving model to device:  cuda\n",
            "Moving model to device:  cuda\n",
            "Moving model to device:  cuda\n",
            "Moving model to device:  cuda\n",
            "Moving model to device:  cuda\n",
            "Moving model to device:  cuda\n",
            "Moving model to device:  cuda\n",
            "Moving model to device:  cuda\n",
            "Moving model to device:  cuda\n",
            "Moving model to device:  cuda\n",
            "Moving model to device:  cuda\n",
            "Moving model to device:  cuda\n",
            "Moving model to device:  cuda\n"
          ]
        },
        {
          "name": "stderr",
          "output_type": "stream",
          "text": [
            "checkpoints:  49%|████▉     | 37/75 [2:34:03<2:38:11, 249.78s/it]"
          ]
        },
        {
          "name": "stdout",
          "output_type": "stream",
          "text": [
            "⚠️  upload failed (not logged in?): name 'HF_REPO' is not defined\n"
          ]
        },
        {
          "data": {
            "application/vnd.jupyter.widget-view+json": {
              "model_id": "efacca391a7a48fd91ce92bab04a4ff5",
              "version_major": 2,
              "version_minor": 0
            },
            "text/plain": [
              "checkpoint_0007600.pth:   0%|          | 0.00/15.5M [00:00<?, ?B/s]"
            ]
          },
          "metadata": {},
          "output_type": "display_data"
        },
        {
          "name": "stdout",
          "output_type": "stream",
          "text": [
            "Moving model to device:  cuda\n",
            "Moving model to device:  cuda\n",
            "Moving model to device:  cuda\n",
            "Moving model to device:  cuda\n",
            "Moving model to device:  cuda\n",
            "Moving model to device:  cuda\n",
            "Moving model to device:  cuda\n",
            "Moving model to device:  cuda\n",
            "Moving model to device:  cuda\n",
            "Moving model to device:  cuda\n",
            "Moving model to device:  cuda\n",
            "Moving model to device:  cuda\n",
            "Moving model to device:  cuda\n",
            "Moving model to device:  cuda\n",
            "Moving model to device:  cuda\n",
            "Moving model to device:  cuda\n",
            "Moving model to device:  cuda\n",
            "Moving model to device:  cuda\n",
            "Moving model to device:  cuda\n",
            "Moving model to device:  cuda\n",
            "Moving model to device:  cuda\n",
            "Moving model to device:  cuda\n"
          ]
        },
        {
          "name": "stderr",
          "output_type": "stream",
          "text": [
            "checkpoints:  51%|█████     | 38/75 [2:38:13<2:34:04, 249.84s/it]"
          ]
        },
        {
          "name": "stdout",
          "output_type": "stream",
          "text": [
            "⚠️  upload failed (not logged in?): name 'HF_REPO' is not defined\n"
          ]
        },
        {
          "data": {
            "application/vnd.jupyter.widget-view+json": {
              "model_id": "935f3e58c10743d3a30f49d9af1907c1",
              "version_major": 2,
              "version_minor": 0
            },
            "text/plain": [
              "checkpoint_0007800.pth:   0%|          | 0.00/15.5M [00:00<?, ?B/s]"
            ]
          },
          "metadata": {},
          "output_type": "display_data"
        },
        {
          "name": "stdout",
          "output_type": "stream",
          "text": [
            "Moving model to device:  cuda\n",
            "Moving model to device:  cuda\n",
            "Moving model to device:  cuda\n",
            "Moving model to device:  cuda\n",
            "Moving model to device:  cuda\n",
            "Moving model to device:  cuda\n",
            "Moving model to device:  cuda\n",
            "Moving model to device:  cuda\n",
            "Moving model to device:  cuda\n",
            "Moving model to device:  cuda\n",
            "Moving model to device:  cuda\n",
            "Moving model to device:  cuda\n",
            "Moving model to device:  cuda\n",
            "Moving model to device:  cuda\n",
            "Moving model to device:  cuda\n",
            "Moving model to device:  cuda\n",
            "Moving model to device:  cuda\n",
            "Moving model to device:  cuda\n",
            "Moving model to device:  cuda\n",
            "Moving model to device:  cuda\n",
            "Moving model to device:  cuda\n",
            "Moving model to device:  cuda\n"
          ]
        },
        {
          "name": "stderr",
          "output_type": "stream",
          "text": [
            "checkpoints:  52%|█████▏    | 39/75 [2:42:24<2:30:08, 250.23s/it]"
          ]
        },
        {
          "name": "stdout",
          "output_type": "stream",
          "text": [
            "⚠️  upload failed (not logged in?): name 'HF_REPO' is not defined\n"
          ]
        },
        {
          "data": {
            "application/vnd.jupyter.widget-view+json": {
              "model_id": "52786c04739b45088b08c59e194c8f83",
              "version_major": 2,
              "version_minor": 0
            },
            "text/plain": [
              "checkpoint_0008000.pth:   0%|          | 0.00/15.5M [00:00<?, ?B/s]"
            ]
          },
          "metadata": {},
          "output_type": "display_data"
        },
        {
          "name": "stdout",
          "output_type": "stream",
          "text": [
            "Moving model to device:  cuda\n",
            "Moving model to device:  cuda\n",
            "Moving model to device:  cuda\n",
            "Moving model to device:  cuda\n",
            "Moving model to device:  cuda\n",
            "Moving model to device:  cuda\n",
            "Moving model to device:  cuda\n",
            "Moving model to device:  cuda\n",
            "Moving model to device:  cuda\n",
            "Moving model to device:  cuda\n",
            "Moving model to device:  cuda\n",
            "Moving model to device:  cuda\n",
            "Moving model to device:  cuda\n",
            "Moving model to device:  cuda\n",
            "Moving model to device:  cuda\n",
            "Moving model to device:  cuda\n",
            "Moving model to device:  cuda\n",
            "Moving model to device:  cuda\n",
            "Moving model to device:  cuda\n",
            "Moving model to device:  cuda\n",
            "Moving model to device:  cuda\n",
            "Moving model to device:  cuda\n"
          ]
        },
        {
          "name": "stderr",
          "output_type": "stream",
          "text": [
            "checkpoints:  53%|█████▎    | 40/75 [2:46:34<2:25:51, 250.04s/it]"
          ]
        },
        {
          "name": "stdout",
          "output_type": "stream",
          "text": [
            "⚠️  upload failed (not logged in?): name 'HF_REPO' is not defined\n"
          ]
        },
        {
          "data": {
            "application/vnd.jupyter.widget-view+json": {
              "model_id": "5760ae624a7d48d5ab21ac96c3391fd5",
              "version_major": 2,
              "version_minor": 0
            },
            "text/plain": [
              "checkpoint_0008200.pth:   0%|          | 0.00/15.5M [00:00<?, ?B/s]"
            ]
          },
          "metadata": {},
          "output_type": "display_data"
        },
        {
          "name": "stdout",
          "output_type": "stream",
          "text": [
            "Moving model to device:  cuda\n",
            "Moving model to device:  cuda\n",
            "Moving model to device:  cuda\n",
            "Moving model to device:  cuda\n",
            "Moving model to device:  cuda\n",
            "Moving model to device:  cuda\n",
            "Moving model to device:  cuda\n",
            "Moving model to device:  cuda\n",
            "Moving model to device:  cuda\n",
            "Moving model to device:  cuda\n",
            "Moving model to device:  cuda\n",
            "Moving model to device:  cuda\n",
            "Moving model to device:  cuda\n",
            "Moving model to device:  cuda\n",
            "Moving model to device:  cuda\n",
            "Moving model to device:  cuda\n",
            "Moving model to device:  cuda\n",
            "Moving model to device:  cuda\n",
            "Moving model to device:  cuda\n",
            "Moving model to device:  cuda\n",
            "Moving model to device:  cuda\n",
            "Moving model to device:  cuda\n"
          ]
        },
        {
          "name": "stderr",
          "output_type": "stream",
          "text": [
            "checkpoints:  55%|█████▍    | 41/75 [2:50:44<2:21:37, 249.92s/it]"
          ]
        },
        {
          "name": "stdout",
          "output_type": "stream",
          "text": [
            "⚠️  upload failed (not logged in?): name 'HF_REPO' is not defined\n"
          ]
        },
        {
          "data": {
            "application/vnd.jupyter.widget-view+json": {
              "model_id": "4b592668bf0c498489bcb56122179790",
              "version_major": 2,
              "version_minor": 0
            },
            "text/plain": [
              "checkpoint_0008400.pth:   0%|          | 0.00/15.5M [00:00<?, ?B/s]"
            ]
          },
          "metadata": {},
          "output_type": "display_data"
        },
        {
          "name": "stdout",
          "output_type": "stream",
          "text": [
            "Moving model to device:  cuda\n",
            "Moving model to device:  cuda\n",
            "Moving model to device:  cuda\n",
            "Moving model to device:  cuda\n",
            "Moving model to device:  cuda\n",
            "Moving model to device:  cuda\n",
            "Moving model to device:  cuda\n",
            "Moving model to device:  cuda\n",
            "Moving model to device:  cuda\n",
            "Moving model to device:  cuda\n",
            "Moving model to device:  cuda\n",
            "Moving model to device:  cuda\n",
            "Moving model to device:  cuda\n",
            "Moving model to device:  cuda\n",
            "Moving model to device:  cuda\n",
            "Moving model to device:  cuda\n",
            "Moving model to device:  cuda\n",
            "Moving model to device:  cuda\n",
            "Moving model to device:  cuda\n",
            "Moving model to device:  cuda\n",
            "Moving model to device:  cuda\n",
            "Moving model to device:  cuda\n"
          ]
        },
        {
          "name": "stderr",
          "output_type": "stream",
          "text": [
            "checkpoints:  56%|█████▌    | 42/75 [2:54:53<2:17:23, 249.81s/it]"
          ]
        },
        {
          "name": "stdout",
          "output_type": "stream",
          "text": [
            "⚠️  upload failed (not logged in?): name 'HF_REPO' is not defined\n"
          ]
        },
        {
          "data": {
            "application/vnd.jupyter.widget-view+json": {
              "model_id": "3cf59511f68e495dabc428e455beb8cb",
              "version_major": 2,
              "version_minor": 0
            },
            "text/plain": [
              "checkpoint_0008600.pth:   0%|          | 0.00/15.5M [00:00<?, ?B/s]"
            ]
          },
          "metadata": {},
          "output_type": "display_data"
        },
        {
          "name": "stdout",
          "output_type": "stream",
          "text": [
            "Moving model to device:  cuda\n",
            "Moving model to device:  cuda\n",
            "Moving model to device:  cuda\n",
            "Moving model to device:  cuda\n",
            "Moving model to device:  cuda\n",
            "Moving model to device:  cuda\n",
            "Moving model to device:  cuda\n",
            "Moving model to device:  cuda\n",
            "Moving model to device:  cuda\n",
            "Moving model to device:  cuda\n",
            "Moving model to device:  cuda\n",
            "Moving model to device:  cuda\n",
            "Moving model to device:  cuda\n",
            "Moving model to device:  cuda\n",
            "Moving model to device:  cuda\n",
            "Moving model to device:  cuda\n",
            "Moving model to device:  cuda\n",
            "Moving model to device:  cuda\n",
            "Moving model to device:  cuda\n",
            "Moving model to device:  cuda\n",
            "Moving model to device:  cuda\n",
            "Moving model to device:  cuda\n"
          ]
        },
        {
          "name": "stderr",
          "output_type": "stream",
          "text": [
            "checkpoints:  57%|█████▋    | 43/75 [2:59:03<2:13:12, 249.78s/it]"
          ]
        },
        {
          "name": "stdout",
          "output_type": "stream",
          "text": [
            "⚠️  upload failed (not logged in?): name 'HF_REPO' is not defined\n"
          ]
        },
        {
          "data": {
            "application/vnd.jupyter.widget-view+json": {
              "model_id": "5482bc1ce454472da255051228668ba9",
              "version_major": 2,
              "version_minor": 0
            },
            "text/plain": [
              "checkpoint_0008800.pth:   0%|          | 0.00/15.5M [00:00<?, ?B/s]"
            ]
          },
          "metadata": {},
          "output_type": "display_data"
        },
        {
          "name": "stdout",
          "output_type": "stream",
          "text": [
            "Moving model to device:  cuda\n",
            "Moving model to device:  cuda\n",
            "Moving model to device:  cuda\n",
            "Moving model to device:  cuda\n",
            "Moving model to device:  cuda\n",
            "Moving model to device:  cuda\n",
            "Moving model to device:  cuda\n",
            "Moving model to device:  cuda\n",
            "Moving model to device:  cuda\n",
            "Moving model to device:  cuda\n",
            "Moving model to device:  cuda\n",
            "Moving model to device:  cuda\n",
            "Moving model to device:  cuda\n",
            "Moving model to device:  cuda\n",
            "Moving model to device:  cuda\n",
            "Moving model to device:  cuda\n",
            "Moving model to device:  cuda\n",
            "Moving model to device:  cuda\n",
            "Moving model to device:  cuda\n",
            "Moving model to device:  cuda\n",
            "Moving model to device:  cuda\n",
            "Moving model to device:  cuda\n"
          ]
        },
        {
          "name": "stderr",
          "output_type": "stream",
          "text": [
            "checkpoints:  59%|█████▊    | 44/75 [3:03:13<2:09:02, 249.75s/it]"
          ]
        },
        {
          "name": "stdout",
          "output_type": "stream",
          "text": [
            "⚠️  upload failed (not logged in?): name 'HF_REPO' is not defined\n"
          ]
        },
        {
          "data": {
            "application/vnd.jupyter.widget-view+json": {
              "model_id": "128d8afbe6c24e0fb745120bb1df1d1f",
              "version_major": 2,
              "version_minor": 0
            },
            "text/plain": [
              "checkpoint_0009000.pth:   0%|          | 0.00/15.5M [00:00<?, ?B/s]"
            ]
          },
          "metadata": {},
          "output_type": "display_data"
        },
        {
          "name": "stdout",
          "output_type": "stream",
          "text": [
            "Moving model to device:  cuda\n",
            "Moving model to device:  cuda\n",
            "Moving model to device:  cuda\n",
            "Moving model to device:  cuda\n",
            "Moving model to device:  cuda\n",
            "Moving model to device:  cuda\n",
            "Moving model to device:  cuda\n",
            "Moving model to device:  cuda\n",
            "Moving model to device:  cuda\n",
            "Moving model to device:  cuda\n",
            "Moving model to device:  cuda\n",
            "Moving model to device:  cuda\n",
            "Moving model to device:  cuda\n",
            "Moving model to device:  cuda\n",
            "Moving model to device:  cuda\n",
            "Moving model to device:  cuda\n",
            "Moving model to device:  cuda\n",
            "Moving model to device:  cuda\n",
            "Moving model to device:  cuda\n",
            "Moving model to device:  cuda\n",
            "Moving model to device:  cuda\n",
            "Moving model to device:  cuda\n"
          ]
        },
        {
          "name": "stderr",
          "output_type": "stream",
          "text": [
            "checkpoints:  60%|██████    | 45/75 [3:07:22<2:04:52, 249.75s/it]"
          ]
        },
        {
          "name": "stdout",
          "output_type": "stream",
          "text": [
            "⚠️  upload failed (not logged in?): name 'HF_REPO' is not defined\n"
          ]
        },
        {
          "data": {
            "application/vnd.jupyter.widget-view+json": {
              "model_id": "019fbafd7522456eb653db67b7180b71",
              "version_major": 2,
              "version_minor": 0
            },
            "text/plain": [
              "checkpoint_0009200.pth:   0%|          | 0.00/15.5M [00:00<?, ?B/s]"
            ]
          },
          "metadata": {},
          "output_type": "display_data"
        },
        {
          "name": "stdout",
          "output_type": "stream",
          "text": [
            "Moving model to device:  cuda\n",
            "Moving model to device:  cuda\n",
            "Moving model to device:  cuda\n",
            "Moving model to device:  cuda\n",
            "Moving model to device:  cuda\n",
            "Moving model to device:  cuda\n",
            "Moving model to device:  cuda\n",
            "Moving model to device:  cuda\n",
            "Moving model to device:  cuda\n",
            "Moving model to device:  cuda\n",
            "Moving model to device:  cuda\n",
            "Moving model to device:  cuda\n",
            "Moving model to device:  cuda\n",
            "Moving model to device:  cuda\n",
            "Moving model to device:  cuda\n",
            "Moving model to device:  cuda\n",
            "Moving model to device:  cuda\n",
            "Moving model to device:  cuda\n",
            "Moving model to device:  cuda\n",
            "Moving model to device:  cuda\n",
            "Moving model to device:  cuda\n",
            "Moving model to device:  cuda\n"
          ]
        },
        {
          "name": "stderr",
          "output_type": "stream",
          "text": [
            "checkpoints:  61%|██████▏   | 46/75 [3:11:32<2:00:41, 249.70s/it]"
          ]
        },
        {
          "name": "stdout",
          "output_type": "stream",
          "text": [
            "⚠️  upload failed (not logged in?): name 'HF_REPO' is not defined\n"
          ]
        },
        {
          "data": {
            "application/vnd.jupyter.widget-view+json": {
              "model_id": "97556fb8d4a74854be3a4456a8791540",
              "version_major": 2,
              "version_minor": 0
            },
            "text/plain": [
              "checkpoint_0009400.pth:   0%|          | 0.00/15.5M [00:00<?, ?B/s]"
            ]
          },
          "metadata": {},
          "output_type": "display_data"
        },
        {
          "name": "stdout",
          "output_type": "stream",
          "text": [
            "Moving model to device:  cuda\n",
            "Moving model to device:  cuda\n",
            "Moving model to device:  cuda\n",
            "Moving model to device:  cuda\n",
            "Moving model to device:  cuda\n",
            "Moving model to device:  cuda\n",
            "Moving model to device:  cuda\n",
            "Moving model to device:  cuda\n",
            "Moving model to device:  cuda\n",
            "Moving model to device:  cuda\n",
            "Moving model to device:  cuda\n",
            "Moving model to device:  cuda\n",
            "Moving model to device:  cuda\n",
            "Moving model to device:  cuda\n",
            "Moving model to device:  cuda\n",
            "Moving model to device:  cuda\n",
            "Moving model to device:  cuda\n",
            "Moving model to device:  cuda\n",
            "Moving model to device:  cuda\n",
            "Moving model to device:  cuda\n",
            "Moving model to device:  cuda\n",
            "Moving model to device:  cuda\n"
          ]
        },
        {
          "name": "stderr",
          "output_type": "stream",
          "text": [
            "checkpoints:  63%|██████▎   | 47/75 [3:15:41<1:56:31, 249.68s/it]"
          ]
        },
        {
          "name": "stdout",
          "output_type": "stream",
          "text": [
            "⚠️  upload failed (not logged in?): name 'HF_REPO' is not defined\n"
          ]
        },
        {
          "data": {
            "application/vnd.jupyter.widget-view+json": {
              "model_id": "c3fd7972e9604390ac09b62c4e88665e",
              "version_major": 2,
              "version_minor": 0
            },
            "text/plain": [
              "checkpoint_0009600.pth:   0%|          | 0.00/15.5M [00:00<?, ?B/s]"
            ]
          },
          "metadata": {},
          "output_type": "display_data"
        },
        {
          "name": "stdout",
          "output_type": "stream",
          "text": [
            "Moving model to device:  cuda\n",
            "Moving model to device:  cuda\n",
            "Moving model to device:  cuda\n",
            "Moving model to device:  cuda\n",
            "Moving model to device:  cuda\n",
            "Moving model to device:  cuda\n",
            "Moving model to device:  cuda\n",
            "Moving model to device:  cuda\n",
            "Moving model to device:  cuda\n",
            "Moving model to device:  cuda\n",
            "Moving model to device:  cuda\n",
            "Moving model to device:  cuda\n",
            "Moving model to device:  cuda\n",
            "Moving model to device:  cuda\n",
            "Moving model to device:  cuda\n",
            "Moving model to device:  cuda\n",
            "Moving model to device:  cuda\n",
            "Moving model to device:  cuda\n",
            "Moving model to device:  cuda\n",
            "Moving model to device:  cuda\n",
            "Moving model to device:  cuda\n",
            "Moving model to device:  cuda\n"
          ]
        },
        {
          "name": "stderr",
          "output_type": "stream",
          "text": [
            "checkpoints:  64%|██████▍   | 48/75 [3:19:51<1:52:23, 249.76s/it]"
          ]
        },
        {
          "name": "stdout",
          "output_type": "stream",
          "text": [
            "⚠️  upload failed (not logged in?): name 'HF_REPO' is not defined\n"
          ]
        },
        {
          "data": {
            "application/vnd.jupyter.widget-view+json": {
              "model_id": "560e83dc782944d3b6a687ba4e868a8d",
              "version_major": 2,
              "version_minor": 0
            },
            "text/plain": [
              "checkpoint_0009800.pth:   0%|          | 0.00/15.5M [00:00<?, ?B/s]"
            ]
          },
          "metadata": {},
          "output_type": "display_data"
        },
        {
          "name": "stdout",
          "output_type": "stream",
          "text": [
            "Moving model to device:  cuda\n",
            "Moving model to device:  cuda\n",
            "Moving model to device:  cuda\n",
            "Moving model to device:  cuda\n",
            "Moving model to device:  cuda\n",
            "Moving model to device:  cuda\n",
            "Moving model to device:  cuda\n",
            "Moving model to device:  cuda\n",
            "Moving model to device:  cuda\n",
            "Moving model to device:  cuda\n",
            "Moving model to device:  cuda\n",
            "Moving model to device:  cuda\n",
            "Moving model to device:  cuda\n",
            "Moving model to device:  cuda\n",
            "Moving model to device:  cuda\n",
            "Moving model to device:  cuda\n",
            "Moving model to device:  cuda\n",
            "Moving model to device:  cuda\n",
            "Moving model to device:  cuda\n",
            "Moving model to device:  cuda\n",
            "Moving model to device:  cuda\n",
            "Moving model to device:  cuda\n"
          ]
        },
        {
          "name": "stderr",
          "output_type": "stream",
          "text": [
            "checkpoints:  65%|██████▌   | 49/75 [3:24:01<1:48:11, 249.69s/it]"
          ]
        },
        {
          "name": "stdout",
          "output_type": "stream",
          "text": [
            "⚠️  upload failed (not logged in?): name 'HF_REPO' is not defined\n"
          ]
        },
        {
          "data": {
            "application/vnd.jupyter.widget-view+json": {
              "model_id": "1daee64ce5804e16b9ed1633e84a9599",
              "version_major": 2,
              "version_minor": 0
            },
            "text/plain": [
              "checkpoint_0010000.pth:   0%|          | 0.00/15.5M [00:00<?, ?B/s]"
            ]
          },
          "metadata": {},
          "output_type": "display_data"
        },
        {
          "name": "stdout",
          "output_type": "stream",
          "text": [
            "Moving model to device:  cuda\n",
            "Moving model to device:  cuda\n",
            "Moving model to device:  cuda\n",
            "Moving model to device:  cuda\n",
            "Moving model to device:  cuda\n",
            "Moving model to device:  cuda\n",
            "Moving model to device:  cuda\n",
            "Moving model to device:  cuda\n",
            "Moving model to device:  cuda\n",
            "Moving model to device:  cuda\n",
            "Moving model to device:  cuda\n",
            "Moving model to device:  cuda\n",
            "Moving model to device:  cuda\n",
            "Moving model to device:  cuda\n",
            "Moving model to device:  cuda\n",
            "Moving model to device:  cuda\n",
            "Moving model to device:  cuda\n",
            "Moving model to device:  cuda\n",
            "Moving model to device:  cuda\n",
            "Moving model to device:  cuda\n",
            "Moving model to device:  cuda\n",
            "Moving model to device:  cuda\n"
          ]
        },
        {
          "name": "stderr",
          "output_type": "stream",
          "text": [
            "checkpoints:  67%|██████▋   | 50/75 [3:28:10<1:44:00, 249.63s/it]"
          ]
        },
        {
          "name": "stdout",
          "output_type": "stream",
          "text": [
            "⚠️  upload failed (not logged in?): name 'HF_REPO' is not defined\n"
          ]
        },
        {
          "data": {
            "application/vnd.jupyter.widget-view+json": {
              "model_id": "1a2993a7ca1b46fd8113eaf7dc1c626c",
              "version_major": 2,
              "version_minor": 0
            },
            "text/plain": [
              "checkpoint_0010200.pth:   0%|          | 0.00/15.5M [00:00<?, ?B/s]"
            ]
          },
          "metadata": {},
          "output_type": "display_data"
        },
        {
          "name": "stdout",
          "output_type": "stream",
          "text": [
            "Moving model to device:  cuda\n",
            "Moving model to device:  cuda\n",
            "Moving model to device:  cuda\n",
            "Moving model to device:  cuda\n",
            "Moving model to device:  cuda\n",
            "Moving model to device:  cuda\n",
            "Moving model to device:  cuda\n",
            "Moving model to device:  cuda\n",
            "Moving model to device:  cuda\n",
            "Moving model to device:  cuda\n",
            "Moving model to device:  cuda\n",
            "Moving model to device:  cuda\n",
            "Moving model to device:  cuda\n",
            "Moving model to device:  cuda\n",
            "Moving model to device:  cuda\n",
            "Moving model to device:  cuda\n",
            "Moving model to device:  cuda\n",
            "Moving model to device:  cuda\n",
            "Moving model to device:  cuda\n",
            "Moving model to device:  cuda\n",
            "Moving model to device:  cuda\n",
            "Moving model to device:  cuda\n"
          ]
        },
        {
          "name": "stderr",
          "output_type": "stream",
          "text": [
            "checkpoints:  68%|██████▊   | 51/75 [3:32:20<1:39:51, 249.63s/it]"
          ]
        },
        {
          "name": "stdout",
          "output_type": "stream",
          "text": [
            "⚠️  upload failed (not logged in?): name 'HF_REPO' is not defined\n"
          ]
        },
        {
          "data": {
            "application/vnd.jupyter.widget-view+json": {
              "model_id": "da93533d2cc5417e916d0fe332eec9f0",
              "version_major": 2,
              "version_minor": 0
            },
            "text/plain": [
              "checkpoint_0010400.pth:   0%|          | 0.00/15.5M [00:00<?, ?B/s]"
            ]
          },
          "metadata": {},
          "output_type": "display_data"
        },
        {
          "name": "stdout",
          "output_type": "stream",
          "text": [
            "Moving model to device:  cuda\n",
            "Moving model to device:  cuda\n",
            "Moving model to device:  cuda\n",
            "Moving model to device:  cuda\n",
            "Moving model to device:  cuda\n",
            "Moving model to device:  cuda\n",
            "Moving model to device:  cuda\n",
            "Moving model to device:  cuda\n",
            "Moving model to device:  cuda\n",
            "Moving model to device:  cuda\n",
            "Moving model to device:  cuda\n",
            "Moving model to device:  cuda\n",
            "Moving model to device:  cuda\n",
            "Moving model to device:  cuda\n",
            "Moving model to device:  cuda\n",
            "Moving model to device:  cuda\n",
            "Moving model to device:  cuda\n",
            "Moving model to device:  cuda\n",
            "Moving model to device:  cuda\n",
            "Moving model to device:  cuda\n",
            "Moving model to device:  cuda\n",
            "Moving model to device:  cuda\n"
          ]
        },
        {
          "name": "stderr",
          "output_type": "stream",
          "text": [
            "checkpoints:  69%|██████▉   | 52/75 [3:36:30<1:35:41, 249.62s/it]"
          ]
        },
        {
          "name": "stdout",
          "output_type": "stream",
          "text": [
            "⚠️  upload failed (not logged in?): name 'HF_REPO' is not defined\n"
          ]
        },
        {
          "data": {
            "application/vnd.jupyter.widget-view+json": {
              "model_id": "b2df0ad184e648429147e44a571bbe5d",
              "version_major": 2,
              "version_minor": 0
            },
            "text/plain": [
              "checkpoint_0010600.pth:   0%|          | 0.00/15.5M [00:00<?, ?B/s]"
            ]
          },
          "metadata": {},
          "output_type": "display_data"
        },
        {
          "name": "stdout",
          "output_type": "stream",
          "text": [
            "Moving model to device:  cuda\n",
            "Moving model to device:  cuda\n",
            "Moving model to device:  cuda\n",
            "Moving model to device:  cuda\n",
            "Moving model to device:  cuda\n",
            "Moving model to device:  cuda\n",
            "Moving model to device:  cuda\n",
            "Moving model to device:  cuda\n",
            "Moving model to device:  cuda\n",
            "Moving model to device:  cuda\n",
            "Moving model to device:  cuda\n",
            "Moving model to device:  cuda\n",
            "Moving model to device:  cuda\n",
            "Moving model to device:  cuda\n",
            "Moving model to device:  cuda\n",
            "Moving model to device:  cuda\n",
            "Moving model to device:  cuda\n",
            "Moving model to device:  cuda\n",
            "Moving model to device:  cuda\n",
            "Moving model to device:  cuda\n",
            "Moving model to device:  cuda\n",
            "Moving model to device:  cuda\n"
          ]
        },
        {
          "name": "stderr",
          "output_type": "stream",
          "text": [
            "checkpoints:  71%|███████   | 53/75 [3:40:39<1:31:31, 249.62s/it]"
          ]
        },
        {
          "name": "stdout",
          "output_type": "stream",
          "text": [
            "⚠️  upload failed (not logged in?): name 'HF_REPO' is not defined\n"
          ]
        },
        {
          "data": {
            "application/vnd.jupyter.widget-view+json": {
              "model_id": "95e7eeca3ea641c2b585b5fb78395255",
              "version_major": 2,
              "version_minor": 0
            },
            "text/plain": [
              "checkpoint_0010800.pth:   0%|          | 0.00/15.5M [00:00<?, ?B/s]"
            ]
          },
          "metadata": {},
          "output_type": "display_data"
        },
        {
          "name": "stdout",
          "output_type": "stream",
          "text": [
            "Moving model to device:  cuda\n",
            "Moving model to device:  cuda\n",
            "Moving model to device:  cuda\n",
            "Moving model to device:  cuda\n",
            "Moving model to device:  cuda\n",
            "Moving model to device:  cuda\n",
            "Moving model to device:  cuda\n",
            "Moving model to device:  cuda\n",
            "Moving model to device:  cuda\n",
            "Moving model to device:  cuda\n",
            "Moving model to device:  cuda\n",
            "Moving model to device:  cuda\n",
            "Moving model to device:  cuda\n",
            "Moving model to device:  cuda\n",
            "Moving model to device:  cuda\n",
            "Moving model to device:  cuda\n",
            "Moving model to device:  cuda\n",
            "Moving model to device:  cuda\n",
            "Moving model to device:  cuda\n",
            "Moving model to device:  cuda\n",
            "Moving model to device:  cuda\n",
            "Moving model to device:  cuda\n"
          ]
        },
        {
          "name": "stderr",
          "output_type": "stream",
          "text": [
            "checkpoints:  72%|███████▏  | 54/75 [3:44:49<1:27:20, 249.56s/it]"
          ]
        },
        {
          "name": "stdout",
          "output_type": "stream",
          "text": [
            "⚠️  upload failed (not logged in?): name 'HF_REPO' is not defined\n"
          ]
        },
        {
          "data": {
            "application/vnd.jupyter.widget-view+json": {
              "model_id": "678dfe39430b4395bef05abe60bb0118",
              "version_major": 2,
              "version_minor": 0
            },
            "text/plain": [
              "checkpoint_0011000.pth:   0%|          | 0.00/15.5M [00:00<?, ?B/s]"
            ]
          },
          "metadata": {},
          "output_type": "display_data"
        },
        {
          "name": "stdout",
          "output_type": "stream",
          "text": [
            "Moving model to device:  cuda\n",
            "Moving model to device:  cuda\n",
            "Moving model to device:  cuda\n",
            "Moving model to device:  cuda\n",
            "Moving model to device:  cuda\n",
            "Moving model to device:  cuda\n",
            "Moving model to device:  cuda\n",
            "Moving model to device:  cuda\n",
            "Moving model to device:  cuda\n",
            "Moving model to device:  cuda\n",
            "Moving model to device:  cuda\n",
            "Moving model to device:  cuda\n",
            "Moving model to device:  cuda\n",
            "Moving model to device:  cuda\n",
            "Moving model to device:  cuda\n",
            "Moving model to device:  cuda\n",
            "Moving model to device:  cuda\n",
            "Moving model to device:  cuda\n",
            "Moving model to device:  cuda\n",
            "Moving model to device:  cuda\n",
            "Moving model to device:  cuda\n",
            "Moving model to device:  cuda\n"
          ]
        },
        {
          "name": "stderr",
          "output_type": "stream",
          "text": [
            "checkpoints:  73%|███████▎  | 55/75 [3:48:58<1:23:11, 249.57s/it]"
          ]
        },
        {
          "name": "stdout",
          "output_type": "stream",
          "text": [
            "⚠️  upload failed (not logged in?): name 'HF_REPO' is not defined\n"
          ]
        },
        {
          "data": {
            "application/vnd.jupyter.widget-view+json": {
              "model_id": "e49aee0945fb4a4899132b9f253d8c15",
              "version_major": 2,
              "version_minor": 0
            },
            "text/plain": [
              "checkpoint_0011200.pth:   0%|          | 0.00/15.5M [00:00<?, ?B/s]"
            ]
          },
          "metadata": {},
          "output_type": "display_data"
        },
        {
          "name": "stdout",
          "output_type": "stream",
          "text": [
            "Moving model to device:  cuda\n",
            "Moving model to device:  cuda\n",
            "Moving model to device:  cuda\n",
            "Moving model to device:  cuda\n",
            "Moving model to device:  cuda\n",
            "Moving model to device:  cuda\n",
            "Moving model to device:  cuda\n",
            "Moving model to device:  cuda\n",
            "Moving model to device:  cuda\n",
            "Moving model to device:  cuda\n",
            "Moving model to device:  cuda\n",
            "Moving model to device:  cuda\n",
            "Moving model to device:  cuda\n",
            "Moving model to device:  cuda\n",
            "Moving model to device:  cuda\n",
            "Moving model to device:  cuda\n",
            "Moving model to device:  cuda\n",
            "Moving model to device:  cuda\n",
            "Moving model to device:  cuda\n",
            "Moving model to device:  cuda\n",
            "Moving model to device:  cuda\n",
            "Moving model to device:  cuda\n"
          ]
        },
        {
          "name": "stderr",
          "output_type": "stream",
          "text": [
            "checkpoints:  75%|███████▍  | 56/75 [3:53:08<1:19:02, 249.60s/it]"
          ]
        },
        {
          "name": "stdout",
          "output_type": "stream",
          "text": [
            "⚠️  upload failed (not logged in?): name 'HF_REPO' is not defined\n"
          ]
        },
        {
          "data": {
            "application/vnd.jupyter.widget-view+json": {
              "model_id": "a50fe3cb5cc74cf696c1fb6c672fbfcd",
              "version_major": 2,
              "version_minor": 0
            },
            "text/plain": [
              "checkpoint_0011400.pth:   0%|          | 0.00/15.5M [00:00<?, ?B/s]"
            ]
          },
          "metadata": {},
          "output_type": "display_data"
        },
        {
          "name": "stdout",
          "output_type": "stream",
          "text": [
            "Moving model to device:  cuda\n",
            "Moving model to device:  cuda\n",
            "Moving model to device:  cuda\n",
            "Moving model to device:  cuda\n",
            "Moving model to device:  cuda\n",
            "Moving model to device:  cuda\n",
            "Moving model to device:  cuda\n",
            "Moving model to device:  cuda\n",
            "Moving model to device:  cuda\n",
            "Moving model to device:  cuda\n",
            "Moving model to device:  cuda\n",
            "Moving model to device:  cuda\n",
            "Moving model to device:  cuda\n",
            "Moving model to device:  cuda\n",
            "Moving model to device:  cuda\n",
            "Moving model to device:  cuda\n",
            "Moving model to device:  cuda\n",
            "Moving model to device:  cuda\n",
            "Moving model to device:  cuda\n",
            "Moving model to device:  cuda\n",
            "Moving model to device:  cuda\n",
            "Moving model to device:  cuda\n"
          ]
        },
        {
          "name": "stderr",
          "output_type": "stream",
          "text": [
            "checkpoints:  76%|███████▌  | 57/75 [3:57:18<1:14:53, 249.62s/it]"
          ]
        },
        {
          "name": "stdout",
          "output_type": "stream",
          "text": [
            "⚠️  upload failed (not logged in?): name 'HF_REPO' is not defined\n"
          ]
        },
        {
          "data": {
            "application/vnd.jupyter.widget-view+json": {
              "model_id": "6557fe0b429a4ca89176f89767d25fc2",
              "version_major": 2,
              "version_minor": 0
            },
            "text/plain": [
              "checkpoint_0011600.pth:   0%|          | 0.00/15.5M [00:00<?, ?B/s]"
            ]
          },
          "metadata": {},
          "output_type": "display_data"
        },
        {
          "name": "stdout",
          "output_type": "stream",
          "text": [
            "Moving model to device:  cuda\n",
            "Moving model to device:  cuda\n",
            "Moving model to device:  cuda\n",
            "Moving model to device:  cuda\n",
            "Moving model to device:  cuda\n",
            "Moving model to device:  cuda\n",
            "Moving model to device:  cuda\n",
            "Moving model to device:  cuda\n",
            "Moving model to device:  cuda\n",
            "Moving model to device:  cuda\n",
            "Moving model to device:  cuda\n",
            "Moving model to device:  cuda\n",
            "Moving model to device:  cuda\n",
            "Moving model to device:  cuda\n",
            "Moving model to device:  cuda\n",
            "Moving model to device:  cuda\n",
            "Moving model to device:  cuda\n",
            "Moving model to device:  cuda\n",
            "Moving model to device:  cuda\n",
            "Moving model to device:  cuda\n",
            "Moving model to device:  cuda\n",
            "Moving model to device:  cuda\n"
          ]
        },
        {
          "name": "stderr",
          "output_type": "stream",
          "text": [
            "checkpoints:  77%|███████▋  | 58/75 [4:01:27<1:10:44, 249.66s/it]"
          ]
        },
        {
          "name": "stdout",
          "output_type": "stream",
          "text": [
            "⚠️  upload failed (not logged in?): name 'HF_REPO' is not defined\n"
          ]
        },
        {
          "data": {
            "application/vnd.jupyter.widget-view+json": {
              "model_id": "9c88f9ce06ff47da825e468251cea267",
              "version_major": 2,
              "version_minor": 0
            },
            "text/plain": [
              "checkpoint_0011800.pth:   0%|          | 0.00/15.5M [00:00<?, ?B/s]"
            ]
          },
          "metadata": {},
          "output_type": "display_data"
        },
        {
          "name": "stdout",
          "output_type": "stream",
          "text": [
            "Moving model to device:  cuda\n",
            "Moving model to device:  cuda\n",
            "Moving model to device:  cuda\n",
            "Moving model to device:  cuda\n",
            "Moving model to device:  cuda\n",
            "Moving model to device:  cuda\n",
            "Moving model to device:  cuda\n",
            "Moving model to device:  cuda\n",
            "Moving model to device:  cuda\n",
            "Moving model to device:  cuda\n",
            "Moving model to device:  cuda\n",
            "Moving model to device:  cuda\n",
            "Moving model to device:  cuda\n",
            "Moving model to device:  cuda\n",
            "Moving model to device:  cuda\n",
            "Moving model to device:  cuda\n",
            "Moving model to device:  cuda\n",
            "Moving model to device:  cuda\n",
            "Moving model to device:  cuda\n",
            "Moving model to device:  cuda\n",
            "Moving model to device:  cuda\n",
            "Moving model to device:  cuda\n"
          ]
        },
        {
          "name": "stderr",
          "output_type": "stream",
          "text": [
            "checkpoints:  79%|███████▊  | 59/75 [4:05:37<1:06:34, 249.64s/it]"
          ]
        },
        {
          "name": "stdout",
          "output_type": "stream",
          "text": [
            "⚠️  upload failed (not logged in?): name 'HF_REPO' is not defined\n"
          ]
        },
        {
          "data": {
            "application/vnd.jupyter.widget-view+json": {
              "model_id": "f04a06b429924453b1f548a4a4d6ad37",
              "version_major": 2,
              "version_minor": 0
            },
            "text/plain": [
              "checkpoint_0012000.pth:   0%|          | 0.00/15.5M [00:00<?, ?B/s]"
            ]
          },
          "metadata": {},
          "output_type": "display_data"
        },
        {
          "name": "stdout",
          "output_type": "stream",
          "text": [
            "Moving model to device:  cuda\n",
            "Moving model to device:  cuda\n",
            "Moving model to device:  cuda\n",
            "Moving model to device:  cuda\n",
            "Moving model to device:  cuda\n",
            "Moving model to device:  cuda\n",
            "Moving model to device:  cuda\n",
            "Moving model to device:  cuda\n",
            "Moving model to device:  cuda\n",
            "Moving model to device:  cuda\n",
            "Moving model to device:  cuda\n",
            "Moving model to device:  cuda\n",
            "Moving model to device:  cuda\n",
            "Moving model to device:  cuda\n",
            "Moving model to device:  cuda\n",
            "Moving model to device:  cuda\n",
            "Moving model to device:  cuda\n",
            "Moving model to device:  cuda\n"
          ]
        },
        {
          "name": "stderr",
          "output_type": "stream",
          "text": [
            "checkpoints:  79%|███████▊  | 59/75 [4:08:49<1:07:28, 253.04s/it]\n"
          ]
        },
        {
          "ename": "KeyboardInterrupt",
          "evalue": "",
          "output_type": "error",
          "traceback": [
            "\u001b[0;31m---------------------------------------------------------------------------\u001b[0m",
            "\u001b[0;31mKeyboardInterrupt\u001b[0m                         Traceback (most recent call last)",
            "Cell \u001b[0;32mIn[34], line 19\u001b[0m\n\u001b[1;32m     17\u001b[0m \u001b[38;5;66;03m# 4) LLC on clean weights\u001b[39;00m\n\u001b[1;32m     18\u001b[0m model\u001b[38;5;241m.\u001b[39mload_state_dict(sd, strict\u001b[38;5;241m=\u001b[39m\u001b[38;5;28;01mTrue\u001b[39;00m)\n\u001b[0;32m---> 19\u001b[0m llc \u001b[38;5;241m=\u001b[39m \u001b[43mllc_mean\u001b[49m\u001b[43m(\u001b[49m\u001b[43mmodel\u001b[49m\u001b[43m)\u001b[49m\n\u001b[1;32m     21\u001b[0m rec \u001b[38;5;241m=\u001b[39m {\n\u001b[1;32m     22\u001b[0m     \u001b[38;5;124m\"\u001b[39m\u001b[38;5;124mstep\u001b[39m\u001b[38;5;124m\"\u001b[39m:      step,\n\u001b[1;32m     23\u001b[0m     \u001b[38;5;124m\"\u001b[39m\u001b[38;5;124mloss\u001b[39m\u001b[38;5;124m\"\u001b[39m:      loss,\n\u001b[0;32m   (...)\u001b[0m\n\u001b[1;32m     26\u001b[0m     \u001b[38;5;124m\"\u001b[39m\u001b[38;5;124mllc\u001b[39m\u001b[38;5;124m\"\u001b[39m:       llc\n\u001b[1;32m     27\u001b[0m }\n\u001b[1;32m     28\u001b[0m records\u001b[38;5;241m.\u001b[39mappend(rec)\n",
            "Cell \u001b[0;32mIn[5], line 42\u001b[0m, in \u001b[0;36mllc_mean\u001b[0;34m(model)\u001b[0m\n\u001b[1;32m     41\u001b[0m \u001b[38;5;28;01mdef\u001b[39;00m\u001b[38;5;250m \u001b[39m\u001b[38;5;21mllc_mean\u001b[39m(model):\n\u001b[0;32m---> 42\u001b[0m     stats \u001b[38;5;241m=\u001b[39m \u001b[43mestimate_learning_coeff_with_summary\u001b[49m\u001b[43m(\u001b[49m\n\u001b[1;32m     43\u001b[0m \u001b[43m        \u001b[49m\u001b[43mmodel\u001b[49m\u001b[43m,\u001b[49m\n\u001b[1;32m     44\u001b[0m \u001b[43m        \u001b[49m\u001b[43mloader\u001b[49m\u001b[43m           \u001b[49m\u001b[38;5;241;43m=\u001b[39;49m\u001b[43m \u001b[49m\u001b[43mval_loader\u001b[49m\u001b[43m,\u001b[49m\n\u001b[1;32m     45\u001b[0m \u001b[43m        \u001b[49m\u001b[43mevaluate\u001b[49m\u001b[43m         \u001b[49m\u001b[38;5;241;43m=\u001b[39;49m\u001b[43m \u001b[49m\u001b[43mevaluate_one\u001b[49m\u001b[43m,\u001b[49m\u001b[43m   \u001b[49m\u001b[38;5;66;43;03m# <— returns torch scalar!\u001b[39;49;00m\n\u001b[1;32m     46\u001b[0m \u001b[43m        \u001b[49m\u001b[43msampling_method\u001b[49m\u001b[43m  \u001b[49m\u001b[38;5;241;43m=\u001b[39;49m\u001b[43m \u001b[49m\u001b[43mSGLD\u001b[49m\u001b[43m,\u001b[49m\n\u001b[1;32m     47\u001b[0m \u001b[43m        \u001b[49m\u001b[43moptimizer_kwargs\u001b[49m\u001b[43m \u001b[49m\u001b[38;5;241;43m=\u001b[39;49m\u001b[43m \u001b[49m\u001b[38;5;28;43mdict\u001b[39;49m\u001b[43m(\u001b[49m\n\u001b[1;32m     48\u001b[0m \u001b[43m            \u001b[49m\u001b[43mlr\u001b[49m\u001b[43m           \u001b[49m\u001b[38;5;241;43m=\u001b[39;49m\u001b[43m \u001b[49m\u001b[38;5;241;43m1e-3\u001b[39;49m\u001b[43m,\u001b[49m\n\u001b[1;32m     49\u001b[0m \u001b[43m            \u001b[49m\u001b[43mlocalization\u001b[49m\u001b[43m \u001b[49m\u001b[38;5;241;43m=\u001b[39;49m\u001b[43m \u001b[49m\u001b[38;5;241;43m200.0\u001b[39;49m\u001b[43m,\u001b[49m\n\u001b[1;32m     50\u001b[0m \u001b[43m            \u001b[49m\u001b[43mnbeta\u001b[49m\u001b[43m        \u001b[49m\u001b[38;5;241;43m=\u001b[39;49m\u001b[43m \u001b[49m\u001b[43mdefault_nbeta\u001b[49m\u001b[43m(\u001b[49m\u001b[43mval_loader\u001b[49m\u001b[43m)\u001b[49m\u001b[43m,\u001b[49m\n\u001b[1;32m     51\u001b[0m \u001b[43m        \u001b[49m\u001b[43m)\u001b[49m\u001b[43m,\u001b[49m\n\u001b[1;32m     52\u001b[0m \u001b[43m        \u001b[49m\u001b[43mnum_chains\u001b[49m\u001b[43m         \u001b[49m\u001b[38;5;241;43m=\u001b[39;49m\u001b[43m \u001b[49m\u001b[38;5;241;43m20\u001b[39;49m\u001b[43m,\u001b[49m\n\u001b[1;32m     53\u001b[0m \u001b[43m        \u001b[49m\u001b[43mnum_draws\u001b[49m\u001b[43m          \u001b[49m\u001b[38;5;241;43m=\u001b[39;49m\u001b[43m \u001b[49m\u001b[38;5;241;43m200\u001b[39;49m\u001b[43m,\u001b[49m\n\u001b[1;32m     54\u001b[0m \u001b[43m        \u001b[49m\u001b[43mnum_burnin_steps\u001b[49m\u001b[43m   \u001b[49m\u001b[38;5;241;43m=\u001b[39;49m\u001b[43m \u001b[49m\u001b[38;5;241;43m0\u001b[39;49m\u001b[43m,\u001b[49m\n\u001b[1;32m     55\u001b[0m \u001b[43m        \u001b[49m\u001b[43mnum_steps_bw_draws\u001b[49m\u001b[43m \u001b[49m\u001b[38;5;241;43m=\u001b[39;49m\u001b[43m \u001b[49m\u001b[38;5;241;43m1\u001b[39;49m\u001b[43m,\u001b[49m\n\u001b[1;32m     56\u001b[0m \u001b[43m        \u001b[49m\u001b[43mdevice\u001b[49m\u001b[43m             \u001b[49m\u001b[38;5;241;43m=\u001b[39;49m\u001b[43m \u001b[49m\u001b[43mDEVICE\u001b[49m\u001b[43m,\u001b[49m\n\u001b[1;32m     57\u001b[0m \u001b[43m        \u001b[49m\u001b[43monline\u001b[49m\u001b[43m             \u001b[49m\u001b[38;5;241;43m=\u001b[39;49m\u001b[43m \u001b[49m\u001b[38;5;28;43;01mFalse\u001b[39;49;00m\u001b[43m,\u001b[49m\n\u001b[1;32m     58\u001b[0m \u001b[43m        \u001b[49m\u001b[43mverbose\u001b[49m\u001b[43m            \u001b[49m\u001b[38;5;241;43m=\u001b[39;49m\u001b[43m \u001b[49m\u001b[38;5;28;43;01mFalse\u001b[39;49;00m\u001b[43m,\u001b[49m\n\u001b[1;32m     59\u001b[0m \u001b[43m    \u001b[49m\u001b[43m)\u001b[49m\n\u001b[1;32m     60\u001b[0m     \u001b[38;5;28;01mreturn\u001b[39;00m \u001b[38;5;28mfloat\u001b[39m(stats[\u001b[38;5;124m\"\u001b[39m\u001b[38;5;124mllc/mean\u001b[39m\u001b[38;5;124m\"\u001b[39m])\n",
            "File \u001b[0;32m~/.local/lib/python3.10/site-packages/devinterp/slt/sampler.py:164\u001b[0m, in \u001b[0;36mestimate_learning_coeff_with_summary\u001b[0;34m(model, loader, callbacks, evaluate, sampling_method, optimizer_kwargs, num_draws, num_chains, num_burnin_steps, num_steps_bw_draws, init_loss, grad_accum_steps, cores, seed, device, gpu_idxs, verbose, optimize_over_per_model_param, online, use_amp)\u001b[0m\n\u001b[1;32m    154\u001b[0m     llc_estimator \u001b[38;5;241m=\u001b[39m LLCEstimator(\n\u001b[1;32m    155\u001b[0m         num_chains,\n\u001b[1;32m    156\u001b[0m         num_draws,\n\u001b[0;32m   (...)\u001b[0m\n\u001b[1;32m    159\u001b[0m         init_loss\u001b[38;5;241m=\u001b[39minit_loss,\n\u001b[1;32m    160\u001b[0m     )\n\u001b[1;32m    162\u001b[0m callbacks \u001b[38;5;241m=\u001b[39m [llc_estimator, \u001b[38;5;241m*\u001b[39mcallbacks]\n\u001b[0;32m--> 164\u001b[0m \u001b[43msample\u001b[49m\u001b[43m(\u001b[49m\n\u001b[1;32m    165\u001b[0m \u001b[43m    \u001b[49m\u001b[43mmodel\u001b[49m\u001b[38;5;241;43m=\u001b[39;49m\u001b[43mmodel\u001b[49m\u001b[43m,\u001b[49m\n\u001b[1;32m    166\u001b[0m \u001b[43m    \u001b[49m\u001b[43mloader\u001b[49m\u001b[38;5;241;43m=\u001b[39;49m\u001b[43mloader\u001b[49m\u001b[43m,\u001b[49m\n\u001b[1;32m    167\u001b[0m \u001b[43m    \u001b[49m\u001b[43mevaluate\u001b[49m\u001b[38;5;241;43m=\u001b[39;49m\u001b[43mevaluate\u001b[49m\u001b[43m,\u001b[49m\n\u001b[1;32m    168\u001b[0m \u001b[43m    \u001b[49m\u001b[43msampling_method\u001b[49m\u001b[38;5;241;43m=\u001b[39;49m\u001b[43msampling_method\u001b[49m\u001b[43m,\u001b[49m\n\u001b[1;32m    169\u001b[0m \u001b[43m    \u001b[49m\u001b[43moptimizer_kwargs\u001b[49m\u001b[38;5;241;43m=\u001b[39;49m\u001b[43moptimizer_kwargs\u001b[49m\u001b[43m,\u001b[49m\n\u001b[1;32m    170\u001b[0m \u001b[43m    \u001b[49m\u001b[43mnum_draws\u001b[49m\u001b[38;5;241;43m=\u001b[39;49m\u001b[43mnum_draws\u001b[49m\u001b[43m,\u001b[49m\n\u001b[1;32m    171\u001b[0m \u001b[43m    \u001b[49m\u001b[43mnum_chains\u001b[49m\u001b[38;5;241;43m=\u001b[39;49m\u001b[43mnum_chains\u001b[49m\u001b[43m,\u001b[49m\n\u001b[1;32m    172\u001b[0m \u001b[43m    \u001b[49m\u001b[43mnum_burnin_steps\u001b[49m\u001b[38;5;241;43m=\u001b[39;49m\u001b[43mnum_burnin_steps\u001b[49m\u001b[43m,\u001b[49m\n\u001b[1;32m    173\u001b[0m \u001b[43m    \u001b[49m\u001b[43mnum_steps_bw_draws\u001b[49m\u001b[38;5;241;43m=\u001b[39;49m\u001b[43mnum_steps_bw_draws\u001b[49m\u001b[43m,\u001b[49m\n\u001b[1;32m    174\u001b[0m \u001b[43m    \u001b[49m\u001b[43mgrad_accum_steps\u001b[49m\u001b[38;5;241;43m=\u001b[39;49m\u001b[43mgrad_accum_steps\u001b[49m\u001b[43m,\u001b[49m\n\u001b[1;32m    175\u001b[0m \u001b[43m    \u001b[49m\u001b[43mcores\u001b[49m\u001b[38;5;241;43m=\u001b[39;49m\u001b[43mcores\u001b[49m\u001b[43m,\u001b[49m\n\u001b[1;32m    176\u001b[0m \u001b[43m    \u001b[49m\u001b[43mseed\u001b[49m\u001b[38;5;241;43m=\u001b[39;49m\u001b[43mseed\u001b[49m\u001b[43m,\u001b[49m\n\u001b[1;32m    177\u001b[0m \u001b[43m    \u001b[49m\u001b[43mdevice\u001b[49m\u001b[38;5;241;43m=\u001b[39;49m\u001b[43mdevice\u001b[49m\u001b[43m,\u001b[49m\n\u001b[1;32m    178\u001b[0m \u001b[43m    \u001b[49m\u001b[43mverbose\u001b[49m\u001b[38;5;241;43m=\u001b[39;49m\u001b[43mverbose\u001b[49m\u001b[43m,\u001b[49m\n\u001b[1;32m    179\u001b[0m \u001b[43m    \u001b[49m\u001b[43mcallbacks\u001b[49m\u001b[38;5;241;43m=\u001b[39;49m\u001b[43mcallbacks\u001b[49m\u001b[43m,\u001b[49m\n\u001b[1;32m    180\u001b[0m \u001b[43m    \u001b[49m\u001b[43moptimize_over_per_model_param\u001b[49m\u001b[38;5;241;43m=\u001b[39;49m\u001b[43moptimize_over_per_model_param\u001b[49m\u001b[43m,\u001b[49m\n\u001b[1;32m    181\u001b[0m \u001b[43m    \u001b[49m\u001b[43mgpu_idxs\u001b[49m\u001b[38;5;241;43m=\u001b[39;49m\u001b[43mgpu_idxs\u001b[49m\u001b[43m,\u001b[49m\n\u001b[1;32m    182\u001b[0m \u001b[43m    \u001b[49m\u001b[43muse_amp\u001b[49m\u001b[38;5;241;43m=\u001b[39;49m\u001b[43muse_amp\u001b[49m\u001b[43m,\u001b[49m\n\u001b[1;32m    183\u001b[0m \u001b[43m    \u001b[49m\u001b[43minit_loss\u001b[49m\u001b[38;5;241;43m=\u001b[39;49m\u001b[43minit_loss\u001b[49m\u001b[43m,\u001b[49m\n\u001b[1;32m    184\u001b[0m \u001b[43m\u001b[49m\u001b[43m)\u001b[49m\n\u001b[1;32m    186\u001b[0m results \u001b[38;5;241m=\u001b[39m {}\n\u001b[1;32m    188\u001b[0m \u001b[38;5;28;01mfor\u001b[39;00m callback \u001b[38;5;129;01min\u001b[39;00m callbacks:\n",
            "File \u001b[0;32m~/.local/lib/python3.10/site-packages/devinterp/backends/default/slt/sampler.py:369\u001b[0m, in \u001b[0;36msample\u001b[0;34m(model, loader, callbacks, evaluate, sampling_method, optimizer_kwargs, num_draws, num_chains, num_burnin_steps, num_steps_bw_draws, init_loss, grad_accum_steps, cores, seed, device, verbose, optimize_over_per_model_param, gpu_idxs, batch_size, use_amp, **kwargs)\u001b[0m\n\u001b[1;32m    367\u001b[0m \u001b[38;5;28;01melse\u001b[39;00m:\n\u001b[1;32m    368\u001b[0m     \u001b[38;5;28;01mfor\u001b[39;00m i \u001b[38;5;129;01min\u001b[39;00m \u001b[38;5;28mrange\u001b[39m(num_chains):\n\u001b[0;32m--> 369\u001b[0m         \u001b[43m_sample_single_chain\u001b[49m\u001b[43m(\u001b[49m\u001b[43mget_args\u001b[49m\u001b[43m(\u001b[49m\u001b[43mi\u001b[49m\u001b[43m,\u001b[49m\u001b[43m \u001b[49m\u001b[43mseeds\u001b[49m\u001b[43m,\u001b[49m\u001b[43m \u001b[49m\u001b[43mdevice\u001b[49m\u001b[43m,\u001b[49m\u001b[43m \u001b[49m\u001b[43mcallbacks\u001b[49m\u001b[43m,\u001b[49m\u001b[43m \u001b[49m\u001b[43mshared_kwargs\u001b[49m\u001b[43m)\u001b[49m\u001b[43m)\u001b[49m\n\u001b[1;32m    371\u001b[0m \u001b[38;5;28;01mfor\u001b[39;00m callback \u001b[38;5;129;01min\u001b[39;00m callbacks:\n\u001b[1;32m    372\u001b[0m     \u001b[38;5;28;01mif\u001b[39;00m \u001b[38;5;28mhasattr\u001b[39m(callback, \u001b[38;5;124m\"\u001b[39m\u001b[38;5;124mfinalize\u001b[39m\u001b[38;5;124m\"\u001b[39m):\n",
            "File \u001b[0;32m~/.local/lib/python3.10/site-packages/devinterp/backends/default/slt/sampler.py:147\u001b[0m, in \u001b[0;36m_sample_single_chain\u001b[0;34m(kwargs)\u001b[0m\n\u001b[1;32m    145\u001b[0m loader \u001b[38;5;241m=\u001b[39m cloudpickle\u001b[38;5;241m.\u001b[39mloads(kwargs[\u001b[38;5;124m\"\u001b[39m\u001b[38;5;124mloader\u001b[39m\u001b[38;5;124m\"\u001b[39m])\n\u001b[1;32m    146\u001b[0m kwargs \u001b[38;5;241m=\u001b[39m {k: v \u001b[38;5;28;01mfor\u001b[39;00m k, v \u001b[38;5;129;01min\u001b[39;00m kwargs\u001b[38;5;241m.\u001b[39mitems() \u001b[38;5;28;01mif\u001b[39;00m k \u001b[38;5;129;01mnot\u001b[39;00m \u001b[38;5;129;01min\u001b[39;00m pickled_args}\n\u001b[0;32m--> 147\u001b[0m \u001b[38;5;28;01mreturn\u001b[39;00m \u001b[43msample_single_chain\u001b[49m\u001b[43m(\u001b[49m\u001b[38;5;241;43m*\u001b[39;49m\u001b[38;5;241;43m*\u001b[39;49m\u001b[43mkwargs\u001b[49m\u001b[43m,\u001b[49m\u001b[43m \u001b[49m\u001b[43mevaluate\u001b[49m\u001b[38;5;241;43m=\u001b[39;49m\u001b[43mevaluate\u001b[49m\u001b[43m,\u001b[49m\u001b[43m \u001b[49m\u001b[43mloader\u001b[49m\u001b[38;5;241;43m=\u001b[39;49m\u001b[43mloader\u001b[49m\u001b[43m)\u001b[49m\n",
            "File \u001b[0;32m~/.local/lib/python3.10/site-packages/devinterp/backends/default/slt/sampler.py:105\u001b[0m, in \u001b[0;36msample_single_chain\u001b[0;34m(ref_model, loader, evaluate, optimizer_kwargs, num_draws, num_burnin_steps, num_steps_bw_draws, grad_accum_steps, sampling_method, chain, seed, verbose, device, optimize_over_per_model_param, callbacks, use_amp, **kwargs)\u001b[0m\n\u001b[1;32m    101\u001b[0m \u001b[38;5;28;01mwith\u001b[39;00m tqdm(\n\u001b[1;32m    102\u001b[0m     desc\u001b[38;5;241m=\u001b[39m\u001b[38;5;124mf\u001b[39m\u001b[38;5;124m\"\u001b[39m\u001b[38;5;124mChain \u001b[39m\u001b[38;5;132;01m{\u001b[39;00mchain\u001b[38;5;132;01m}\u001b[39;00m\u001b[38;5;124m\"\u001b[39m, total\u001b[38;5;241m=\u001b[39mnum_steps \u001b[38;5;241m/\u001b[39m\u001b[38;5;241m/\u001b[39m grad_accum_steps, disable\u001b[38;5;241m=\u001b[39m\u001b[38;5;129;01mnot\u001b[39;00m verbose\n\u001b[1;32m    103\u001b[0m ) \u001b[38;5;28;01mas\u001b[39;00m pbar:\n\u001b[1;32m    104\u001b[0m     model\u001b[38;5;241m.\u001b[39mtrain()\n\u001b[0;32m--> 105\u001b[0m     \u001b[38;5;28;01mfor\u001b[39;00m i, data \u001b[38;5;129;01min\u001b[39;00m \u001b[38;5;28mzip\u001b[39m(\u001b[38;5;28mrange\u001b[39m(num_steps), cycle(loader)):\n\u001b[1;32m    106\u001b[0m         model\u001b[38;5;241m.\u001b[39mtrain()\n\u001b[1;32m    107\u001b[0m         data \u001b[38;5;241m=\u001b[39m prepare_input(data, device)\n",
            "File \u001b[0;32m~/.local/lib/python3.10/site-packages/devinterp/utils.py:294\u001b[0m, in \u001b[0;36mcycle\u001b[0;34m(iterable, limit)\u001b[0m\n\u001b[1;32m    292\u001b[0m     limit \u001b[38;5;241m=\u001b[39m \u001b[38;5;28mfloat\u001b[39m(\u001b[38;5;124m\"\u001b[39m\u001b[38;5;124minf\u001b[39m\u001b[38;5;124m\"\u001b[39m)\n\u001b[1;32m    293\u001b[0m \u001b[38;5;28;01mwhile\u001b[39;00m \u001b[38;5;28;01mTrue\u001b[39;00m:\n\u001b[0;32m--> 294\u001b[0m     \u001b[38;5;28;01mfor\u001b[39;00m x \u001b[38;5;129;01min\u001b[39;00m iterable:\n\u001b[1;32m    295\u001b[0m         \u001b[38;5;28;01mif\u001b[39;00m index \u001b[38;5;241m>\u001b[39m\u001b[38;5;241m=\u001b[39m limit:\n\u001b[1;32m    296\u001b[0m             \u001b[38;5;28;01mreturn\u001b[39;00m\n",
            "File \u001b[0;32m~/.local/lib/python3.10/site-packages/torch/utils/data/dataloader.py:733\u001b[0m, in \u001b[0;36m_BaseDataLoaderIter.__next__\u001b[0;34m(self)\u001b[0m\n\u001b[1;32m    730\u001b[0m \u001b[38;5;28;01mif\u001b[39;00m \u001b[38;5;28mself\u001b[39m\u001b[38;5;241m.\u001b[39m_sampler_iter \u001b[38;5;129;01mis\u001b[39;00m \u001b[38;5;28;01mNone\u001b[39;00m:\n\u001b[1;32m    731\u001b[0m     \u001b[38;5;66;03m# TODO(https://github.com/pytorch/pytorch/issues/76750)\u001b[39;00m\n\u001b[1;32m    732\u001b[0m     \u001b[38;5;28mself\u001b[39m\u001b[38;5;241m.\u001b[39m_reset()  \u001b[38;5;66;03m# type: ignore[call-arg]\u001b[39;00m\n\u001b[0;32m--> 733\u001b[0m data \u001b[38;5;241m=\u001b[39m \u001b[38;5;28;43mself\u001b[39;49m\u001b[38;5;241;43m.\u001b[39;49m\u001b[43m_next_data\u001b[49m\u001b[43m(\u001b[49m\u001b[43m)\u001b[49m\n\u001b[1;32m    734\u001b[0m \u001b[38;5;28mself\u001b[39m\u001b[38;5;241m.\u001b[39m_num_yielded \u001b[38;5;241m+\u001b[39m\u001b[38;5;241m=\u001b[39m \u001b[38;5;241m1\u001b[39m\n\u001b[1;32m    735\u001b[0m \u001b[38;5;28;01mif\u001b[39;00m (\n\u001b[1;32m    736\u001b[0m     \u001b[38;5;28mself\u001b[39m\u001b[38;5;241m.\u001b[39m_dataset_kind \u001b[38;5;241m==\u001b[39m _DatasetKind\u001b[38;5;241m.\u001b[39mIterable\n\u001b[1;32m    737\u001b[0m     \u001b[38;5;129;01mand\u001b[39;00m \u001b[38;5;28mself\u001b[39m\u001b[38;5;241m.\u001b[39m_IterableDataset_len_called \u001b[38;5;129;01mis\u001b[39;00m \u001b[38;5;129;01mnot\u001b[39;00m \u001b[38;5;28;01mNone\u001b[39;00m\n\u001b[1;32m    738\u001b[0m     \u001b[38;5;129;01mand\u001b[39;00m \u001b[38;5;28mself\u001b[39m\u001b[38;5;241m.\u001b[39m_num_yielded \u001b[38;5;241m>\u001b[39m \u001b[38;5;28mself\u001b[39m\u001b[38;5;241m.\u001b[39m_IterableDataset_len_called\n\u001b[1;32m    739\u001b[0m ):\n",
            "File \u001b[0;32m~/.local/lib/python3.10/site-packages/torch/utils/data/dataloader.py:789\u001b[0m, in \u001b[0;36m_SingleProcessDataLoaderIter._next_data\u001b[0;34m(self)\u001b[0m\n\u001b[1;32m    787\u001b[0m \u001b[38;5;28;01mdef\u001b[39;00m\u001b[38;5;250m \u001b[39m\u001b[38;5;21m_next_data\u001b[39m(\u001b[38;5;28mself\u001b[39m):\n\u001b[1;32m    788\u001b[0m     index \u001b[38;5;241m=\u001b[39m \u001b[38;5;28mself\u001b[39m\u001b[38;5;241m.\u001b[39m_next_index()  \u001b[38;5;66;03m# may raise StopIteration\u001b[39;00m\n\u001b[0;32m--> 789\u001b[0m     data \u001b[38;5;241m=\u001b[39m \u001b[38;5;28;43mself\u001b[39;49m\u001b[38;5;241;43m.\u001b[39;49m\u001b[43m_dataset_fetcher\u001b[49m\u001b[38;5;241;43m.\u001b[39;49m\u001b[43mfetch\u001b[49m\u001b[43m(\u001b[49m\u001b[43mindex\u001b[49m\u001b[43m)\u001b[49m  \u001b[38;5;66;03m# may raise StopIteration\u001b[39;00m\n\u001b[1;32m    790\u001b[0m     \u001b[38;5;28;01mif\u001b[39;00m \u001b[38;5;28mself\u001b[39m\u001b[38;5;241m.\u001b[39m_pin_memory:\n\u001b[1;32m    791\u001b[0m         data \u001b[38;5;241m=\u001b[39m _utils\u001b[38;5;241m.\u001b[39mpin_memory\u001b[38;5;241m.\u001b[39mpin_memory(data, \u001b[38;5;28mself\u001b[39m\u001b[38;5;241m.\u001b[39m_pin_memory_device)\n",
            "File \u001b[0;32m~/.local/lib/python3.10/site-packages/torch/utils/data/_utils/fetch.py:52\u001b[0m, in \u001b[0;36m_MapDatasetFetcher.fetch\u001b[0;34m(self, possibly_batched_index)\u001b[0m\n\u001b[1;32m     50\u001b[0m         data \u001b[38;5;241m=\u001b[39m \u001b[38;5;28mself\u001b[39m\u001b[38;5;241m.\u001b[39mdataset\u001b[38;5;241m.\u001b[39m__getitems__(possibly_batched_index)\n\u001b[1;32m     51\u001b[0m     \u001b[38;5;28;01melse\u001b[39;00m:\n\u001b[0;32m---> 52\u001b[0m         data \u001b[38;5;241m=\u001b[39m [\u001b[38;5;28mself\u001b[39m\u001b[38;5;241m.\u001b[39mdataset[idx] \u001b[38;5;28;01mfor\u001b[39;00m idx \u001b[38;5;129;01min\u001b[39;00m possibly_batched_index]\n\u001b[1;32m     53\u001b[0m \u001b[38;5;28;01melse\u001b[39;00m:\n\u001b[1;32m     54\u001b[0m     data \u001b[38;5;241m=\u001b[39m \u001b[38;5;28mself\u001b[39m\u001b[38;5;241m.\u001b[39mdataset[possibly_batched_index]\n",
            "File \u001b[0;32m~/.local/lib/python3.10/site-packages/torch/utils/data/_utils/fetch.py:52\u001b[0m, in \u001b[0;36m<listcomp>\u001b[0;34m(.0)\u001b[0m\n\u001b[1;32m     50\u001b[0m         data \u001b[38;5;241m=\u001b[39m \u001b[38;5;28mself\u001b[39m\u001b[38;5;241m.\u001b[39mdataset\u001b[38;5;241m.\u001b[39m__getitems__(possibly_batched_index)\n\u001b[1;32m     51\u001b[0m     \u001b[38;5;28;01melse\u001b[39;00m:\n\u001b[0;32m---> 52\u001b[0m         data \u001b[38;5;241m=\u001b[39m [\u001b[38;5;28;43mself\u001b[39;49m\u001b[38;5;241;43m.\u001b[39;49m\u001b[43mdataset\u001b[49m\u001b[43m[\u001b[49m\u001b[43midx\u001b[49m\u001b[43m]\u001b[49m \u001b[38;5;28;01mfor\u001b[39;00m idx \u001b[38;5;129;01min\u001b[39;00m possibly_batched_index]\n\u001b[1;32m     53\u001b[0m \u001b[38;5;28;01melse\u001b[39;00m:\n\u001b[1;32m     54\u001b[0m     data \u001b[38;5;241m=\u001b[39m \u001b[38;5;28mself\u001b[39m\u001b[38;5;241m.\u001b[39mdataset[possibly_batched_index]\n",
            "Cell \u001b[0;32mIn[11], line 18\u001b[0m, in \u001b[0;36mPileValidDataset.__getitem__\u001b[0;34m(self, idx)\u001b[0m\n\u001b[1;32m     17\u001b[0m \u001b[38;5;28;01mdef\u001b[39;00m\u001b[38;5;250m \u001b[39m\u001b[38;5;21m__getitem__\u001b[39m(\u001b[38;5;28mself\u001b[39m, idx):\n\u001b[0;32m---> 18\u001b[0m     x \u001b[38;5;241m=\u001b[39m \u001b[43mtorch\u001b[49m\u001b[38;5;241;43m.\u001b[39;49m\u001b[43mtensor\u001b[49m\u001b[43m(\u001b[49m\u001b[38;5;28;43mself\u001b[39;49m\u001b[38;5;241;43m.\u001b[39;49m\u001b[43mseqs\u001b[49m\u001b[43m[\u001b[49m\u001b[43midx\u001b[49m\u001b[43m]\u001b[49m\u001b[43m[\u001b[49m\u001b[43m:\u001b[49m\u001b[38;5;241;43m-\u001b[39;49m\u001b[38;5;241;43m1\u001b[39;49m\u001b[43m]\u001b[49m\u001b[43m,\u001b[49m\u001b[43m \u001b[49m\u001b[43mdtype\u001b[49m\u001b[38;5;241;43m=\u001b[39;49m\u001b[43mtorch\u001b[49m\u001b[38;5;241;43m.\u001b[39;49m\u001b[43mlong\u001b[49m\u001b[43m)\u001b[49m\n\u001b[1;32m     19\u001b[0m     y \u001b[38;5;241m=\u001b[39m torch\u001b[38;5;241m.\u001b[39mtensor(\u001b[38;5;28mself\u001b[39m\u001b[38;5;241m.\u001b[39mseqs[idx][\u001b[38;5;241m1\u001b[39m:],  dtype\u001b[38;5;241m=\u001b[39mtorch\u001b[38;5;241m.\u001b[39mlong)\n\u001b[1;32m     20\u001b[0m     \u001b[38;5;28;01mreturn\u001b[39;00m {\u001b[38;5;124m\"\u001b[39m\u001b[38;5;124minput_ids\u001b[39m\u001b[38;5;124m\"\u001b[39m: x, \u001b[38;5;124m\"\u001b[39m\u001b[38;5;124mlabels\u001b[39m\u001b[38;5;124m\"\u001b[39m: y}\n",
            "\u001b[0;31mKeyboardInterrupt\u001b[0m: "
          ]
        }
      ],
      "source": [
        "# Cell 6 — main loop: compute & append\n",
        "records = []\n",
        "\n",
        "for step, hf_path in tqdm.tqdm(ckpts, desc=\"checkpoints\"):\n",
        "    # 1) load\n",
        "    local = hf_hub_download(REPO_ID, hf_path, repo_type=\"model\")\n",
        "    sd = torch.load(local, map_location=\"cpu\")\n",
        "    model.load_state_dict(sd, strict=True)\n",
        "\n",
        "    # 2) reference loss\n",
        "    loss = ce_per_token(model, val_loader)\n",
        "\n",
        "    # 3) perturbed loss\n",
        "    model.load_state_dict(perturb_state(sd), strict=False)\n",
        "    loss_pert = ce_per_token(model, val_loader)\n",
        "\n",
        "    # 4) LLC on clean weights\n",
        "    model.load_state_dict(sd, strict=True)\n",
        "    llc = llc_mean(model)\n",
        "\n",
        "    rec = {\n",
        "        \"step\":      step,\n",
        "        \"loss\":      loss,\n",
        "        \"loss_pert\": loss_pert,\n",
        "        \"d_loss\":    loss_pert - loss,\n",
        "        \"llc\":       llc\n",
        "    }\n",
        "    records.append(rec)\n",
        "\n",
        "    # append **just this row** to CSV\n",
        "    pd.DataFrame([rec]).to_csv(\n",
        "        OUTPUT_CSV, mode=\"a\", header=False, index=False\n",
        "    )\n",
        "\n",
        "    # try pushing to the Hub, but don’t crash if we’re not logged in\n",
        "    try:\n",
        "        upload_file(\n",
        "            OUTPUT_CSV,\n",
        "            path_in_repo=\"ckpt_loss_perturbation_scan.csv\",\n",
        "            repo_id=HF_REPO,\n",
        "            repo_type=\"dataset\",\n",
        "            commit_message=f\"checkpoint {step}\",\n",
        "        )\n",
        "    except Exception as e:\n",
        "        print(f\"⚠️  upload failed (not logged in?): {e}\")\n",
        "\n",
        "    torch.cuda.empty_cache()\n",
        "\n",
        "print(\"✅ Done — final results in\", OUTPUT_CSV)\n"
      ]
    },
    {
      "cell_type": "code",
      "execution_count": null,
      "metadata": {
        "colab": {
          "base_uri": "https://localhost:8080/"
        },
        "id": "3iP14xoYk3FP",
        "outputId": "6ab85a15-9f42-448a-9fef-2384a353dc72"
      },
      "outputs": [
        {
          "ename": "SyntaxError",
          "evalue": "invalid syntax (<ipython-input-25-f67f8e96d4cc>, line 1)",
          "output_type": "error",
          "traceback": [
            "\u001b[0;36m  Cell \u001b[0;32mIn[25], line 1\u001b[0;36m\u001b[0m\n\u001b[0;31m    huggingface-cli login\u001b[0m\n\u001b[0m                    ^\u001b[0m\n\u001b[0;31mSyntaxError\u001b[0m\u001b[0;31m:\u001b[0m invalid syntax\n"
          ]
        }
      ],
      "source": []
    },
    {
      "cell_type": "code",
      "execution_count": 44,
      "metadata": {
        "colab": {
          "base_uri": "https://localhost:8080/"
        },
        "id": "77owqi7-hrK8",
        "outputId": "49d400b2-61d0-44cd-c166-d8dc06472719"
      },
      "outputs": [
        {
          "name": "stdout",
          "output_type": "stream",
          "text": [
            "step= 500, loss=4.539, Δ=0.000\n",
            "step=1000, loss=4.539, Δ=0.000\n",
            "step=1500, loss=4.539, Δ=0.000\n",
            "step=2000, loss=4.539, Δ=0.000\n",
            "step=2500, loss=4.539, Δ=0.000\n"
          ]
        }
      ],
      "source": [
        "for step, file_in_repo in ckpts:\n",
        "    # load & move to device…\n",
        "    loss = ce_per_token(model, val_loader)\n",
        "    loss_pert = ce_per_token(model, val_loader)  # perturb step can stay\n",
        "\n",
        "    print(f\"step={step:>4}, loss={loss:.3f}, Δ={loss_pert-loss:.3f}\")\n"
      ]
    },
    {
      "cell_type": "code",
      "execution_count": 32,
      "metadata": {
        "colab": {
          "base_uri": "https://localhost:8080/",
          "height": 563
        },
        "id": "TuetBH0kY_1M",
        "outputId": "b5da3fa4-220d-4aaa-f145-d838308a579c"
      },
      "outputs": [
        {
          "name": "stderr",
          "output_type": "stream",
          "text": [
            "\rcheckpoints:   0%|          | 0/5 [00:00<?, ?it/s]"
          ]
        },
        {
          "name": "stdout",
          "output_type": "stream",
          "text": [
            "Moving model to device:  cuda\n"
          ]
        },
        {
          "name": "stderr",
          "output_type": "stream",
          "text": [
            "\rcheckpoints:   0%|          | 0/5 [00:01<?, ?it/s]"
          ]
        },
        {
          "name": "stdout",
          "output_type": "stream",
          "text": [
            "Moving model to device:  cuda\n",
            "Moving model to device:  cuda\n"
          ]
        },
        {
          "name": "stderr",
          "output_type": "stream",
          "text": [
            "\n"
          ]
        },
        {
          "ename": "TypeError",
          "evalue": "llc_mean.<locals>.<lambda>() takes 1 positional argument but 2 were given",
          "output_type": "error",
          "traceback": [
            "\u001b[0;31m---------------------------------------------------------------------------\u001b[0m",
            "\u001b[0;31mTypeError\u001b[0m                                 Traceback (most recent call last)",
            "\u001b[0;32m/tmp/ipython-input-32-3043590598.py\u001b[0m in \u001b[0;36m<cell line: 0>\u001b[0;34m()\u001b[0m\n\u001b[1;32m     39\u001b[0m     \u001b[0;31m# 4d. LLC on the clean weights\u001b[0m\u001b[0;34m\u001b[0m\u001b[0;34m\u001b[0m\u001b[0m\n\u001b[1;32m     40\u001b[0m     \u001b[0mmodel\u001b[0m\u001b[0;34m.\u001b[0m\u001b[0mload_state_dict\u001b[0m\u001b[0;34m(\u001b[0m\u001b[0mstate\u001b[0m\u001b[0;34m,\u001b[0m \u001b[0mstrict\u001b[0m\u001b[0;34m=\u001b[0m\u001b[0;32mTrue\u001b[0m\u001b[0;34m)\u001b[0m\u001b[0;34m\u001b[0m\u001b[0;34m\u001b[0m\u001b[0m\n\u001b[0;32m---> 41\u001b[0;31m     \u001b[0mllc_val\u001b[0m \u001b[0;34m=\u001b[0m \u001b[0mllc_mean\u001b[0m\u001b[0;34m(\u001b[0m\u001b[0mmodel\u001b[0m\u001b[0;34m)\u001b[0m\u001b[0;34m\u001b[0m\u001b[0;34m\u001b[0m\u001b[0m\n\u001b[0m\u001b[1;32m     42\u001b[0m \u001b[0;34m\u001b[0m\u001b[0m\n\u001b[1;32m     43\u001b[0m     records.append({\n",
            "\u001b[0;32m/tmp/ipython-input-32-3043590598.py\u001b[0m in \u001b[0;36mllc_mean\u001b[0;34m(model)\u001b[0m\n\u001b[1;32m      1\u001b[0m \u001b[0;31m# ── Predefine llc_mean once ─────────────────────────────────────────────────\u001b[0m\u001b[0;34m\u001b[0m\u001b[0;34m\u001b[0m\u001b[0m\n\u001b[1;32m      2\u001b[0m \u001b[0;32mdef\u001b[0m \u001b[0mllc_mean\u001b[0m\u001b[0;34m(\u001b[0m\u001b[0mmodel\u001b[0m\u001b[0;34m)\u001b[0m\u001b[0;34m:\u001b[0m\u001b[0;34m\u001b[0m\u001b[0;34m\u001b[0m\u001b[0m\n\u001b[0;32m----> 3\u001b[0;31m     stats = estimate_learning_coeff_with_summary(\n\u001b[0m\u001b[1;32m      4\u001b[0m         \u001b[0mmodel\u001b[0m\u001b[0;34m,\u001b[0m\u001b[0;34m\u001b[0m\u001b[0;34m\u001b[0m\u001b[0m\n\u001b[1;32m      5\u001b[0m         \u001b[0mloader\u001b[0m           \u001b[0;34m=\u001b[0m \u001b[0mval_loader\u001b[0m\u001b[0;34m,\u001b[0m                              \u001b[0;31m# still needed by SGLD\u001b[0m\u001b[0;34m\u001b[0m\u001b[0;34m\u001b[0m\u001b[0m\n",
            "\u001b[0;32m/usr/local/lib/python3.11/dist-packages/devinterp/slt/sampler.py\u001b[0m in \u001b[0;36mestimate_learning_coeff_with_summary\u001b[0;34m(model, loader, callbacks, evaluate, sampling_method, optimizer_kwargs, num_draws, num_chains, num_burnin_steps, num_steps_bw_draws, init_loss, grad_accum_steps, cores, seed, device, gpu_idxs, verbose, optimize_over_per_model_param, online, use_amp)\u001b[0m\n\u001b[1;32m    138\u001b[0m     )\n\u001b[1;32m    139\u001b[0m     \u001b[0;32mif\u001b[0m \u001b[0;32mnot\u001b[0m \u001b[0minit_loss\u001b[0m\u001b[0;34m:\u001b[0m\u001b[0;34m\u001b[0m\u001b[0;34m\u001b[0m\u001b[0m\n\u001b[0;32m--> 140\u001b[0;31m         init_loss = get_init_loss_multi_batch(\n\u001b[0m\u001b[1;32m    141\u001b[0m             \u001b[0mloader\u001b[0m\u001b[0;34m,\u001b[0m \u001b[0mnum_chains\u001b[0m \u001b[0;34m*\u001b[0m \u001b[0mgrad_accum_steps\u001b[0m\u001b[0;34m,\u001b[0m \u001b[0mmodel\u001b[0m\u001b[0;34m,\u001b[0m \u001b[0mevaluate\u001b[0m\u001b[0;34m,\u001b[0m \u001b[0mdevice\u001b[0m\u001b[0;34m\u001b[0m\u001b[0;34m\u001b[0m\u001b[0m\n\u001b[1;32m    142\u001b[0m         )\n",
            "\u001b[0;32m/usr/local/lib/python3.11/dist-packages/devinterp/utils.py\u001b[0m in \u001b[0;36mget_init_loss_multi_batch\u001b[0;34m(dataloader, n_batches, model, evaluate, device, seed)\u001b[0m\n\u001b[1;32m    206\u001b[0m         \u001b[0;32mfor\u001b[0m \u001b[0mdata\u001b[0m \u001b[0;32min\u001b[0m \u001b[0mislice\u001b[0m\u001b[0;34m(\u001b[0m\u001b[0mdataloader\u001b[0m\u001b[0;34m,\u001b[0m \u001b[0mn_batches\u001b[0m\u001b[0;34m)\u001b[0m\u001b[0;34m:\u001b[0m\u001b[0;34m\u001b[0m\u001b[0;34m\u001b[0m\u001b[0m\n\u001b[1;32m    207\u001b[0m             \u001b[0mdata\u001b[0m \u001b[0;34m=\u001b[0m \u001b[0mprepare_input\u001b[0m\u001b[0;34m(\u001b[0m\u001b[0mdata\u001b[0m\u001b[0;34m,\u001b[0m \u001b[0mdevice\u001b[0m\u001b[0;34m=\u001b[0m\u001b[0mdevice\u001b[0m\u001b[0;34m)\u001b[0m\u001b[0;34m\u001b[0m\u001b[0;34m\u001b[0m\u001b[0m\n\u001b[0;32m--> 208\u001b[0;31m             \u001b[0mloss\u001b[0m \u001b[0;34m+=\u001b[0m \u001b[0msplit_results\u001b[0m\u001b[0;34m(\u001b[0m\u001b[0mevaluate\u001b[0m\u001b[0;34m(\u001b[0m\u001b[0mmodel\u001b[0m\u001b[0;34m,\u001b[0m \u001b[0mdata\u001b[0m\u001b[0;34m)\u001b[0m\u001b[0;34m)\u001b[0m\u001b[0;34m[\u001b[0m\u001b[0;36m0\u001b[0m\u001b[0;34m]\u001b[0m\u001b[0;34m.\u001b[0m\u001b[0mdetach\u001b[0m\u001b[0;34m(\u001b[0m\u001b[0;34m)\u001b[0m\u001b[0;34m.\u001b[0m\u001b[0mitem\u001b[0m\u001b[0;34m(\u001b[0m\u001b[0;34m)\u001b[0m\u001b[0;34m\u001b[0m\u001b[0;34m\u001b[0m\u001b[0m\n\u001b[0m\u001b[1;32m    209\u001b[0m \u001b[0;34m\u001b[0m\u001b[0m\n\u001b[1;32m    210\u001b[0m     \u001b[0;32mreturn\u001b[0m \u001b[0mloss\u001b[0m \u001b[0;34m/\u001b[0m \u001b[0mn_batches\u001b[0m\u001b[0;34m\u001b[0m\u001b[0;34m\u001b[0m\u001b[0m\n",
            "\u001b[0;31mTypeError\u001b[0m: llc_mean.<locals>.<lambda>() takes 1 positional argument but 2 were given"
          ]
        }
      ],
      "source": [
        "# Cell 7 — Save & inspect\n",
        "\n",
        "df = pd.DataFrame(records).sort_values(\"step\")\n",
        "print(df)\n",
        "df.to_csv(\"ckpt_loss_perturbation_scan.csv\", index=False)\n",
        "print(\"Saved → ckpt_loss_perturbation_scan.csv\")\n"
      ]
    }
  ],
  "metadata": {
    "accelerator": "GPU",
    "colab": {
      "gpuType": "A100",
      "provenance": []
    },
    "kernelspec": {
      "display_name": "Python 3",
      "name": "python3"
    },
    "language_info": {
      "codemirror_mode": {
        "name": "ipython",
        "version": 3
      },
      "file_extension": ".py",
      "mimetype": "text/x-python",
      "name": "python",
      "nbconvert_exporter": "python",
      "pygments_lexer": "ipython3",
      "version": "3.10.12"
    },
    "widgets": {
      "application/vnd.jupyter.widget-state+json": {
        "043da500ada145bcaba313f530ef5aa0": {
          "model_module": "@jupyter-widgets/base",
          "model_module_version": "1.2.0",
          "model_name": "LayoutModel",
          "state": {
            "_model_module": "@jupyter-widgets/base",
            "_model_module_version": "1.2.0",
            "_model_name": "LayoutModel",
            "_view_count": null,
            "_view_module": "@jupyter-widgets/base",
            "_view_module_version": "1.2.0",
            "_view_name": "LayoutView",
            "align_content": null,
            "align_items": null,
            "align_self": null,
            "border": null,
            "bottom": null,
            "display": null,
            "flex": null,
            "flex_flow": null,
            "grid_area": null,
            "grid_auto_columns": null,
            "grid_auto_flow": null,
            "grid_auto_rows": null,
            "grid_column": null,
            "grid_gap": null,
            "grid_row": null,
            "grid_template_areas": null,
            "grid_template_columns": null,
            "grid_template_rows": null,
            "height": null,
            "justify_content": null,
            "justify_items": null,
            "left": null,
            "margin": null,
            "max_height": null,
            "max_width": null,
            "min_height": null,
            "min_width": null,
            "object_fit": null,
            "object_position": null,
            "order": null,
            "overflow": null,
            "overflow_x": null,
            "overflow_y": null,
            "padding": null,
            "right": null,
            "top": null,
            "visibility": null,
            "width": null
          }
        },
        "0e034078991c493ea742e333fea84c6d": {
          "model_module": "@jupyter-widgets/controls",
          "model_module_version": "1.5.0",
          "model_name": "DescriptionStyleModel",
          "state": {
            "_model_module": "@jupyter-widgets/controls",
            "_model_module_version": "1.5.0",
            "_model_name": "DescriptionStyleModel",
            "_view_count": null,
            "_view_module": "@jupyter-widgets/base",
            "_view_module_version": "1.2.0",
            "_view_name": "StyleView",
            "description_width": ""
          }
        },
        "1e18332eab4b44c5b98a3bb342f912b4": {
          "model_module": "@jupyter-widgets/controls",
          "model_module_version": "1.5.0",
          "model_name": "HTMLModel",
          "state": {
            "_dom_classes": [],
            "_model_module": "@jupyter-widgets/controls",
            "_model_module_version": "1.5.0",
            "_model_name": "HTMLModel",
            "_view_count": null,
            "_view_module": "@jupyter-widgets/controls",
            "_view_module_version": "1.5.0",
            "_view_name": "HTMLView",
            "description": "",
            "description_tooltip": null,
            "layout": "IPY_MODEL_61989ef64dab4e89b695d536f6c3bd93",
            "placeholder": "​",
            "style": "IPY_MODEL_75d617eb666343638c98f4c0bf7ab9f5",
            "value": "checkpoint_0001000.pth: 100%"
          }
        },
        "26e3da7acdee4542b7d4e6be0155a3f4": {
          "model_module": "@jupyter-widgets/controls",
          "model_module_version": "1.5.0",
          "model_name": "DescriptionStyleModel",
          "state": {
            "_model_module": "@jupyter-widgets/controls",
            "_model_module_version": "1.5.0",
            "_model_name": "DescriptionStyleModel",
            "_view_count": null,
            "_view_module": "@jupyter-widgets/base",
            "_view_module_version": "1.2.0",
            "_view_name": "StyleView",
            "description_width": ""
          }
        },
        "310b8473ead44b55a0b6b57b0ab72001": {
          "model_module": "@jupyter-widgets/controls",
          "model_module_version": "1.5.0",
          "model_name": "FloatProgressModel",
          "state": {
            "_dom_classes": [],
            "_model_module": "@jupyter-widgets/controls",
            "_model_module_version": "1.5.0",
            "_model_name": "FloatProgressModel",
            "_view_count": null,
            "_view_module": "@jupyter-widgets/controls",
            "_view_module_version": "1.5.0",
            "_view_name": "ProgressView",
            "bar_style": "success",
            "description": "",
            "description_tooltip": null,
            "layout": "IPY_MODEL_5db1c5fe1d8442f6831a4887a4712b8f",
            "max": 15527096,
            "min": 0,
            "orientation": "horizontal",
            "style": "IPY_MODEL_3606b676b7a74a20ae68c267ba23a001",
            "value": 15527096
          }
        },
        "3382fbe1fb9543d887371d22941b943e": {
          "model_module": "@jupyter-widgets/controls",
          "model_module_version": "1.5.0",
          "model_name": "HBoxModel",
          "state": {
            "_dom_classes": [],
            "_model_module": "@jupyter-widgets/controls",
            "_model_module_version": "1.5.0",
            "_model_name": "HBoxModel",
            "_view_count": null,
            "_view_module": "@jupyter-widgets/controls",
            "_view_module_version": "1.5.0",
            "_view_name": "HBoxView",
            "box_style": "",
            "children": [
              "IPY_MODEL_cbafe619b7f74e698194a6969724acbc",
              "IPY_MODEL_3d5c782ef53e4679b1757e6a22e37e66",
              "IPY_MODEL_6424316b8e034f028f8e3e39a0fbc34c"
            ],
            "layout": "IPY_MODEL_d56436695419403c947e156558530737"
          }
        },
        "3606b676b7a74a20ae68c267ba23a001": {
          "model_module": "@jupyter-widgets/controls",
          "model_module_version": "1.5.0",
          "model_name": "ProgressStyleModel",
          "state": {
            "_model_module": "@jupyter-widgets/controls",
            "_model_module_version": "1.5.0",
            "_model_name": "ProgressStyleModel",
            "_view_count": null,
            "_view_module": "@jupyter-widgets/base",
            "_view_module_version": "1.2.0",
            "_view_name": "StyleView",
            "bar_color": null,
            "description_width": ""
          }
        },
        "3d5c782ef53e4679b1757e6a22e37e66": {
          "model_module": "@jupyter-widgets/controls",
          "model_module_version": "1.5.0",
          "model_name": "FloatProgressModel",
          "state": {
            "_dom_classes": [],
            "_model_module": "@jupyter-widgets/controls",
            "_model_module_version": "1.5.0",
            "_model_name": "FloatProgressModel",
            "_view_count": null,
            "_view_module": "@jupyter-widgets/controls",
            "_view_module_version": "1.5.0",
            "_view_name": "ProgressView",
            "bar_style": "success",
            "description": "",
            "description_tooltip": null,
            "layout": "IPY_MODEL_b21c375052724f3b96f33d8b49376cad",
            "max": 15527096,
            "min": 0,
            "orientation": "horizontal",
            "style": "IPY_MODEL_bfe485307ccd4829abbf9a687f84bcdc",
            "value": 15527096
          }
        },
        "4f98fe32bbe644f9953e5cfa43272d3a": {
          "model_module": "@jupyter-widgets/base",
          "model_module_version": "1.2.0",
          "model_name": "LayoutModel",
          "state": {
            "_model_module": "@jupyter-widgets/base",
            "_model_module_version": "1.2.0",
            "_model_name": "LayoutModel",
            "_view_count": null,
            "_view_module": "@jupyter-widgets/base",
            "_view_module_version": "1.2.0",
            "_view_name": "LayoutView",
            "align_content": null,
            "align_items": null,
            "align_self": null,
            "border": null,
            "bottom": null,
            "display": null,
            "flex": null,
            "flex_flow": null,
            "grid_area": null,
            "grid_auto_columns": null,
            "grid_auto_flow": null,
            "grid_auto_rows": null,
            "grid_column": null,
            "grid_gap": null,
            "grid_row": null,
            "grid_template_areas": null,
            "grid_template_columns": null,
            "grid_template_rows": null,
            "height": null,
            "justify_content": null,
            "justify_items": null,
            "left": null,
            "margin": null,
            "max_height": null,
            "max_width": null,
            "min_height": null,
            "min_width": null,
            "object_fit": null,
            "object_position": null,
            "order": null,
            "overflow": null,
            "overflow_x": null,
            "overflow_y": null,
            "padding": null,
            "right": null,
            "top": null,
            "visibility": null,
            "width": null
          }
        },
        "5191db4a80ae4043bf904e68d857dcbd": {
          "model_module": "@jupyter-widgets/controls",
          "model_module_version": "1.5.0",
          "model_name": "ProgressStyleModel",
          "state": {
            "_model_module": "@jupyter-widgets/controls",
            "_model_module_version": "1.5.0",
            "_model_name": "ProgressStyleModel",
            "_view_count": null,
            "_view_module": "@jupyter-widgets/base",
            "_view_module_version": "1.2.0",
            "_view_name": "StyleView",
            "bar_color": null,
            "description_width": ""
          }
        },
        "558c03f3ee2c41b0ac5a0489744d6f3d": {
          "model_module": "@jupyter-widgets/base",
          "model_module_version": "1.2.0",
          "model_name": "LayoutModel",
          "state": {
            "_model_module": "@jupyter-widgets/base",
            "_model_module_version": "1.2.0",
            "_model_name": "LayoutModel",
            "_view_count": null,
            "_view_module": "@jupyter-widgets/base",
            "_view_module_version": "1.2.0",
            "_view_name": "LayoutView",
            "align_content": null,
            "align_items": null,
            "align_self": null,
            "border": null,
            "bottom": null,
            "display": null,
            "flex": null,
            "flex_flow": null,
            "grid_area": null,
            "grid_auto_columns": null,
            "grid_auto_flow": null,
            "grid_auto_rows": null,
            "grid_column": null,
            "grid_gap": null,
            "grid_row": null,
            "grid_template_areas": null,
            "grid_template_columns": null,
            "grid_template_rows": null,
            "height": null,
            "justify_content": null,
            "justify_items": null,
            "left": null,
            "margin": null,
            "max_height": null,
            "max_width": null,
            "min_height": null,
            "min_width": null,
            "object_fit": null,
            "object_position": null,
            "order": null,
            "overflow": null,
            "overflow_x": null,
            "overflow_y": null,
            "padding": null,
            "right": null,
            "top": null,
            "visibility": null,
            "width": null
          }
        },
        "59de495b6edb4063a9ac339b4bdb993f": {
          "model_module": "@jupyter-widgets/controls",
          "model_module_version": "1.5.0",
          "model_name": "FloatProgressModel",
          "state": {
            "_dom_classes": [],
            "_model_module": "@jupyter-widgets/controls",
            "_model_module_version": "1.5.0",
            "_model_name": "FloatProgressModel",
            "_view_count": null,
            "_view_module": "@jupyter-widgets/controls",
            "_view_module_version": "1.5.0",
            "_view_name": "ProgressView",
            "bar_style": "success",
            "description": "",
            "description_tooltip": null,
            "layout": "IPY_MODEL_558c03f3ee2c41b0ac5a0489744d6f3d",
            "max": 15527096,
            "min": 0,
            "orientation": "horizontal",
            "style": "IPY_MODEL_5191db4a80ae4043bf904e68d857dcbd",
            "value": 15527096
          }
        },
        "5db1c5fe1d8442f6831a4887a4712b8f": {
          "model_module": "@jupyter-widgets/base",
          "model_module_version": "1.2.0",
          "model_name": "LayoutModel",
          "state": {
            "_model_module": "@jupyter-widgets/base",
            "_model_module_version": "1.2.0",
            "_model_name": "LayoutModel",
            "_view_count": null,
            "_view_module": "@jupyter-widgets/base",
            "_view_module_version": "1.2.0",
            "_view_name": "LayoutView",
            "align_content": null,
            "align_items": null,
            "align_self": null,
            "border": null,
            "bottom": null,
            "display": null,
            "flex": null,
            "flex_flow": null,
            "grid_area": null,
            "grid_auto_columns": null,
            "grid_auto_flow": null,
            "grid_auto_rows": null,
            "grid_column": null,
            "grid_gap": null,
            "grid_row": null,
            "grid_template_areas": null,
            "grid_template_columns": null,
            "grid_template_rows": null,
            "height": null,
            "justify_content": null,
            "justify_items": null,
            "left": null,
            "margin": null,
            "max_height": null,
            "max_width": null,
            "min_height": null,
            "min_width": null,
            "object_fit": null,
            "object_position": null,
            "order": null,
            "overflow": null,
            "overflow_x": null,
            "overflow_y": null,
            "padding": null,
            "right": null,
            "top": null,
            "visibility": null,
            "width": null
          }
        },
        "61989ef64dab4e89b695d536f6c3bd93": {
          "model_module": "@jupyter-widgets/base",
          "model_module_version": "1.2.0",
          "model_name": "LayoutModel",
          "state": {
            "_model_module": "@jupyter-widgets/base",
            "_model_module_version": "1.2.0",
            "_model_name": "LayoutModel",
            "_view_count": null,
            "_view_module": "@jupyter-widgets/base",
            "_view_module_version": "1.2.0",
            "_view_name": "LayoutView",
            "align_content": null,
            "align_items": null,
            "align_self": null,
            "border": null,
            "bottom": null,
            "display": null,
            "flex": null,
            "flex_flow": null,
            "grid_area": null,
            "grid_auto_columns": null,
            "grid_auto_flow": null,
            "grid_auto_rows": null,
            "grid_column": null,
            "grid_gap": null,
            "grid_row": null,
            "grid_template_areas": null,
            "grid_template_columns": null,
            "grid_template_rows": null,
            "height": null,
            "justify_content": null,
            "justify_items": null,
            "left": null,
            "margin": null,
            "max_height": null,
            "max_width": null,
            "min_height": null,
            "min_width": null,
            "object_fit": null,
            "object_position": null,
            "order": null,
            "overflow": null,
            "overflow_x": null,
            "overflow_y": null,
            "padding": null,
            "right": null,
            "top": null,
            "visibility": null,
            "width": null
          }
        },
        "6424316b8e034f028f8e3e39a0fbc34c": {
          "model_module": "@jupyter-widgets/controls",
          "model_module_version": "1.5.0",
          "model_name": "HTMLModel",
          "state": {
            "_dom_classes": [],
            "_model_module": "@jupyter-widgets/controls",
            "_model_module_version": "1.5.0",
            "_model_name": "HTMLModel",
            "_view_count": null,
            "_view_module": "@jupyter-widgets/controls",
            "_view_module_version": "1.5.0",
            "_view_name": "HTMLView",
            "description": "",
            "description_tooltip": null,
            "layout": "IPY_MODEL_e715591a16674e8f8c5370713918281c",
            "placeholder": "​",
            "style": "IPY_MODEL_26e3da7acdee4542b7d4e6be0155a3f4",
            "value": " 15.5M/15.5M [00:00&lt;00:00, 34.4MB/s]"
          }
        },
        "705aafa507be48cfb78d8a12b7b1bebb": {
          "model_module": "@jupyter-widgets/controls",
          "model_module_version": "1.5.0",
          "model_name": "DescriptionStyleModel",
          "state": {
            "_model_module": "@jupyter-widgets/controls",
            "_model_module_version": "1.5.0",
            "_model_name": "DescriptionStyleModel",
            "_view_count": null,
            "_view_module": "@jupyter-widgets/base",
            "_view_module_version": "1.2.0",
            "_view_name": "StyleView",
            "description_width": ""
          }
        },
        "73614b2d94064eacb488fac37dcfe797": {
          "model_module": "@jupyter-widgets/controls",
          "model_module_version": "1.5.0",
          "model_name": "HBoxModel",
          "state": {
            "_dom_classes": [],
            "_model_module": "@jupyter-widgets/controls",
            "_model_module_version": "1.5.0",
            "_model_name": "HBoxModel",
            "_view_count": null,
            "_view_module": "@jupyter-widgets/controls",
            "_view_module_version": "1.5.0",
            "_view_name": "HBoxView",
            "box_style": "",
            "children": [
              "IPY_MODEL_1e18332eab4b44c5b98a3bb342f912b4",
              "IPY_MODEL_310b8473ead44b55a0b6b57b0ab72001",
              "IPY_MODEL_8c087ae21c2c47398a00617de13cea67"
            ],
            "layout": "IPY_MODEL_edf63b500f234379aeff0ffc4cf60af0"
          }
        },
        "74ad353963f74e9ca1d1762facc836cd": {
          "model_module": "@jupyter-widgets/controls",
          "model_module_version": "1.5.0",
          "model_name": "HBoxModel",
          "state": {
            "_dom_classes": [],
            "_model_module": "@jupyter-widgets/controls",
            "_model_module_version": "1.5.0",
            "_model_name": "HBoxModel",
            "_view_count": null,
            "_view_module": "@jupyter-widgets/controls",
            "_view_module_version": "1.5.0",
            "_view_name": "HBoxView",
            "box_style": "",
            "children": [
              "IPY_MODEL_8f2fc624103f43f6a0f3f42004f4e945",
              "IPY_MODEL_59de495b6edb4063a9ac339b4bdb993f",
              "IPY_MODEL_cbaa539a151b47f7abc0d8e12a51e364"
            ],
            "layout": "IPY_MODEL_79362b4d90ca47c5a54eeb146497f29c"
          }
        },
        "75d617eb666343638c98f4c0bf7ab9f5": {
          "model_module": "@jupyter-widgets/controls",
          "model_module_version": "1.5.0",
          "model_name": "DescriptionStyleModel",
          "state": {
            "_model_module": "@jupyter-widgets/controls",
            "_model_module_version": "1.5.0",
            "_model_name": "DescriptionStyleModel",
            "_view_count": null,
            "_view_module": "@jupyter-widgets/base",
            "_view_module_version": "1.2.0",
            "_view_name": "StyleView",
            "description_width": ""
          }
        },
        "79362b4d90ca47c5a54eeb146497f29c": {
          "model_module": "@jupyter-widgets/base",
          "model_module_version": "1.2.0",
          "model_name": "LayoutModel",
          "state": {
            "_model_module": "@jupyter-widgets/base",
            "_model_module_version": "1.2.0",
            "_model_name": "LayoutModel",
            "_view_count": null,
            "_view_module": "@jupyter-widgets/base",
            "_view_module_version": "1.2.0",
            "_view_name": "LayoutView",
            "align_content": null,
            "align_items": null,
            "align_self": null,
            "border": null,
            "bottom": null,
            "display": null,
            "flex": null,
            "flex_flow": null,
            "grid_area": null,
            "grid_auto_columns": null,
            "grid_auto_flow": null,
            "grid_auto_rows": null,
            "grid_column": null,
            "grid_gap": null,
            "grid_row": null,
            "grid_template_areas": null,
            "grid_template_columns": null,
            "grid_template_rows": null,
            "height": null,
            "justify_content": null,
            "justify_items": null,
            "left": null,
            "margin": null,
            "max_height": null,
            "max_width": null,
            "min_height": null,
            "min_width": null,
            "object_fit": null,
            "object_position": null,
            "order": null,
            "overflow": null,
            "overflow_x": null,
            "overflow_y": null,
            "padding": null,
            "right": null,
            "top": null,
            "visibility": null,
            "width": null
          }
        },
        "7e57cfd2d3344ee1a63e2e5944b55a14": {
          "model_module": "@jupyter-widgets/base",
          "model_module_version": "1.2.0",
          "model_name": "LayoutModel",
          "state": {
            "_model_module": "@jupyter-widgets/base",
            "_model_module_version": "1.2.0",
            "_model_name": "LayoutModel",
            "_view_count": null,
            "_view_module": "@jupyter-widgets/base",
            "_view_module_version": "1.2.0",
            "_view_name": "LayoutView",
            "align_content": null,
            "align_items": null,
            "align_self": null,
            "border": null,
            "bottom": null,
            "display": null,
            "flex": null,
            "flex_flow": null,
            "grid_area": null,
            "grid_auto_columns": null,
            "grid_auto_flow": null,
            "grid_auto_rows": null,
            "grid_column": null,
            "grid_gap": null,
            "grid_row": null,
            "grid_template_areas": null,
            "grid_template_columns": null,
            "grid_template_rows": null,
            "height": null,
            "justify_content": null,
            "justify_items": null,
            "left": null,
            "margin": null,
            "max_height": null,
            "max_width": null,
            "min_height": null,
            "min_width": null,
            "object_fit": null,
            "object_position": null,
            "order": null,
            "overflow": null,
            "overflow_x": null,
            "overflow_y": null,
            "padding": null,
            "right": null,
            "top": null,
            "visibility": null,
            "width": null
          }
        },
        "8227a2c050824872a85721876f9f2f46": {
          "model_module": "@jupyter-widgets/controls",
          "model_module_version": "1.5.0",
          "model_name": "DescriptionStyleModel",
          "state": {
            "_model_module": "@jupyter-widgets/controls",
            "_model_module_version": "1.5.0",
            "_model_name": "DescriptionStyleModel",
            "_view_count": null,
            "_view_module": "@jupyter-widgets/base",
            "_view_module_version": "1.2.0",
            "_view_name": "StyleView",
            "description_width": ""
          }
        },
        "8b8f11fb77394261bd7e92628fbe7a4d": {
          "model_module": "@jupyter-widgets/controls",
          "model_module_version": "1.5.0",
          "model_name": "HTMLModel",
          "state": {
            "_dom_classes": [],
            "_model_module": "@jupyter-widgets/controls",
            "_model_module_version": "1.5.0",
            "_model_name": "HTMLModel",
            "_view_count": null,
            "_view_module": "@jupyter-widgets/controls",
            "_view_module_version": "1.5.0",
            "_view_name": "HTMLView",
            "description": "",
            "description_tooltip": null,
            "layout": "IPY_MODEL_a617b82b8a8a4093ae75cf9b25a22f7c",
            "placeholder": "​",
            "style": "IPY_MODEL_8dafbfa286c64c8cb79f88dddbcca868",
            "value": "checkpoint_0002000.pth: 100%"
          }
        },
        "8c087ae21c2c47398a00617de13cea67": {
          "model_module": "@jupyter-widgets/controls",
          "model_module_version": "1.5.0",
          "model_name": "HTMLModel",
          "state": {
            "_dom_classes": [],
            "_model_module": "@jupyter-widgets/controls",
            "_model_module_version": "1.5.0",
            "_model_name": "HTMLModel",
            "_view_count": null,
            "_view_module": "@jupyter-widgets/controls",
            "_view_module_version": "1.5.0",
            "_view_name": "HTMLView",
            "description": "",
            "description_tooltip": null,
            "layout": "IPY_MODEL_8dc370ad4b254587a0f44747c96323e4",
            "placeholder": "​",
            "style": "IPY_MODEL_a7dd261ac159458d834ab18dfdac69ca",
            "value": " 15.5M/15.5M [00:00&lt;00:00, 30.3MB/s]"
          }
        },
        "8dafbfa286c64c8cb79f88dddbcca868": {
          "model_module": "@jupyter-widgets/controls",
          "model_module_version": "1.5.0",
          "model_name": "DescriptionStyleModel",
          "state": {
            "_model_module": "@jupyter-widgets/controls",
            "_model_module_version": "1.5.0",
            "_model_name": "DescriptionStyleModel",
            "_view_count": null,
            "_view_module": "@jupyter-widgets/base",
            "_view_module_version": "1.2.0",
            "_view_name": "StyleView",
            "description_width": ""
          }
        },
        "8dc370ad4b254587a0f44747c96323e4": {
          "model_module": "@jupyter-widgets/base",
          "model_module_version": "1.2.0",
          "model_name": "LayoutModel",
          "state": {
            "_model_module": "@jupyter-widgets/base",
            "_model_module_version": "1.2.0",
            "_model_name": "LayoutModel",
            "_view_count": null,
            "_view_module": "@jupyter-widgets/base",
            "_view_module_version": "1.2.0",
            "_view_name": "LayoutView",
            "align_content": null,
            "align_items": null,
            "align_self": null,
            "border": null,
            "bottom": null,
            "display": null,
            "flex": null,
            "flex_flow": null,
            "grid_area": null,
            "grid_auto_columns": null,
            "grid_auto_flow": null,
            "grid_auto_rows": null,
            "grid_column": null,
            "grid_gap": null,
            "grid_row": null,
            "grid_template_areas": null,
            "grid_template_columns": null,
            "grid_template_rows": null,
            "height": null,
            "justify_content": null,
            "justify_items": null,
            "left": null,
            "margin": null,
            "max_height": null,
            "max_width": null,
            "min_height": null,
            "min_width": null,
            "object_fit": null,
            "object_position": null,
            "order": null,
            "overflow": null,
            "overflow_x": null,
            "overflow_y": null,
            "padding": null,
            "right": null,
            "top": null,
            "visibility": null,
            "width": null
          }
        },
        "8f2fc624103f43f6a0f3f42004f4e945": {
          "model_module": "@jupyter-widgets/controls",
          "model_module_version": "1.5.0",
          "model_name": "HTMLModel",
          "state": {
            "_dom_classes": [],
            "_model_module": "@jupyter-widgets/controls",
            "_model_module_version": "1.5.0",
            "_model_name": "HTMLModel",
            "_view_count": null,
            "_view_module": "@jupyter-widgets/controls",
            "_view_module_version": "1.5.0",
            "_view_name": "HTMLView",
            "description": "",
            "description_tooltip": null,
            "layout": "IPY_MODEL_c0b61708f3c748ed8eaa7799350238c8",
            "placeholder": "​",
            "style": "IPY_MODEL_705aafa507be48cfb78d8a12b7b1bebb",
            "value": "checkpoint_0002500.pth: 100%"
          }
        },
        "9089f697a4ea49b89728217f6b66fbed": {
          "model_module": "@jupyter-widgets/controls",
          "model_module_version": "1.5.0",
          "model_name": "FloatProgressModel",
          "state": {
            "_dom_classes": [],
            "_model_module": "@jupyter-widgets/controls",
            "_model_module_version": "1.5.0",
            "_model_name": "FloatProgressModel",
            "_view_count": null,
            "_view_module": "@jupyter-widgets/controls",
            "_view_module_version": "1.5.0",
            "_view_name": "ProgressView",
            "bar_style": "success",
            "description": "",
            "description_tooltip": null,
            "layout": "IPY_MODEL_eb3f1fce12df4ddbafe576aa3c05eb99",
            "max": 15527096,
            "min": 0,
            "orientation": "horizontal",
            "style": "IPY_MODEL_c068c7b03c99491685ff862b9bf7c88e",
            "value": 15527096
          }
        },
        "925665f9369e47e1a388487bf162bf30": {
          "model_module": "@jupyter-widgets/controls",
          "model_module_version": "1.5.0",
          "model_name": "HBoxModel",
          "state": {
            "_dom_classes": [],
            "_model_module": "@jupyter-widgets/controls",
            "_model_module_version": "1.5.0",
            "_model_name": "HBoxModel",
            "_view_count": null,
            "_view_module": "@jupyter-widgets/controls",
            "_view_module_version": "1.5.0",
            "_view_name": "HBoxView",
            "box_style": "",
            "children": [
              "IPY_MODEL_8b8f11fb77394261bd7e92628fbe7a4d",
              "IPY_MODEL_9089f697a4ea49b89728217f6b66fbed",
              "IPY_MODEL_93bfdc57e6de47d7baa44e8ead9acbea"
            ],
            "layout": "IPY_MODEL_043da500ada145bcaba313f530ef5aa0"
          }
        },
        "93bfdc57e6de47d7baa44e8ead9acbea": {
          "model_module": "@jupyter-widgets/controls",
          "model_module_version": "1.5.0",
          "model_name": "HTMLModel",
          "state": {
            "_dom_classes": [],
            "_model_module": "@jupyter-widgets/controls",
            "_model_module_version": "1.5.0",
            "_model_name": "HTMLModel",
            "_view_count": null,
            "_view_module": "@jupyter-widgets/controls",
            "_view_module_version": "1.5.0",
            "_view_name": "HTMLView",
            "description": "",
            "description_tooltip": null,
            "layout": "IPY_MODEL_4f98fe32bbe644f9953e5cfa43272d3a",
            "placeholder": "​",
            "style": "IPY_MODEL_0e034078991c493ea742e333fea84c6d",
            "value": " 15.5M/15.5M [00:00&lt;00:00, 34.4MB/s]"
          }
        },
        "a617b82b8a8a4093ae75cf9b25a22f7c": {
          "model_module": "@jupyter-widgets/base",
          "model_module_version": "1.2.0",
          "model_name": "LayoutModel",
          "state": {
            "_model_module": "@jupyter-widgets/base",
            "_model_module_version": "1.2.0",
            "_model_name": "LayoutModel",
            "_view_count": null,
            "_view_module": "@jupyter-widgets/base",
            "_view_module_version": "1.2.0",
            "_view_name": "LayoutView",
            "align_content": null,
            "align_items": null,
            "align_self": null,
            "border": null,
            "bottom": null,
            "display": null,
            "flex": null,
            "flex_flow": null,
            "grid_area": null,
            "grid_auto_columns": null,
            "grid_auto_flow": null,
            "grid_auto_rows": null,
            "grid_column": null,
            "grid_gap": null,
            "grid_row": null,
            "grid_template_areas": null,
            "grid_template_columns": null,
            "grid_template_rows": null,
            "height": null,
            "justify_content": null,
            "justify_items": null,
            "left": null,
            "margin": null,
            "max_height": null,
            "max_width": null,
            "min_height": null,
            "min_width": null,
            "object_fit": null,
            "object_position": null,
            "order": null,
            "overflow": null,
            "overflow_x": null,
            "overflow_y": null,
            "padding": null,
            "right": null,
            "top": null,
            "visibility": null,
            "width": null
          }
        },
        "a7dd261ac159458d834ab18dfdac69ca": {
          "model_module": "@jupyter-widgets/controls",
          "model_module_version": "1.5.0",
          "model_name": "DescriptionStyleModel",
          "state": {
            "_model_module": "@jupyter-widgets/controls",
            "_model_module_version": "1.5.0",
            "_model_name": "DescriptionStyleModel",
            "_view_count": null,
            "_view_module": "@jupyter-widgets/base",
            "_view_module_version": "1.2.0",
            "_view_name": "StyleView",
            "description_width": ""
          }
        },
        "b21c375052724f3b96f33d8b49376cad": {
          "model_module": "@jupyter-widgets/base",
          "model_module_version": "1.2.0",
          "model_name": "LayoutModel",
          "state": {
            "_model_module": "@jupyter-widgets/base",
            "_model_module_version": "1.2.0",
            "_model_name": "LayoutModel",
            "_view_count": null,
            "_view_module": "@jupyter-widgets/base",
            "_view_module_version": "1.2.0",
            "_view_name": "LayoutView",
            "align_content": null,
            "align_items": null,
            "align_self": null,
            "border": null,
            "bottom": null,
            "display": null,
            "flex": null,
            "flex_flow": null,
            "grid_area": null,
            "grid_auto_columns": null,
            "grid_auto_flow": null,
            "grid_auto_rows": null,
            "grid_column": null,
            "grid_gap": null,
            "grid_row": null,
            "grid_template_areas": null,
            "grid_template_columns": null,
            "grid_template_rows": null,
            "height": null,
            "justify_content": null,
            "justify_items": null,
            "left": null,
            "margin": null,
            "max_height": null,
            "max_width": null,
            "min_height": null,
            "min_width": null,
            "object_fit": null,
            "object_position": null,
            "order": null,
            "overflow": null,
            "overflow_x": null,
            "overflow_y": null,
            "padding": null,
            "right": null,
            "top": null,
            "visibility": null,
            "width": null
          }
        },
        "bfe485307ccd4829abbf9a687f84bcdc": {
          "model_module": "@jupyter-widgets/controls",
          "model_module_version": "1.5.0",
          "model_name": "ProgressStyleModel",
          "state": {
            "_model_module": "@jupyter-widgets/controls",
            "_model_module_version": "1.5.0",
            "_model_name": "ProgressStyleModel",
            "_view_count": null,
            "_view_module": "@jupyter-widgets/base",
            "_view_module_version": "1.2.0",
            "_view_name": "StyleView",
            "bar_color": null,
            "description_width": ""
          }
        },
        "c068c7b03c99491685ff862b9bf7c88e": {
          "model_module": "@jupyter-widgets/controls",
          "model_module_version": "1.5.0",
          "model_name": "ProgressStyleModel",
          "state": {
            "_model_module": "@jupyter-widgets/controls",
            "_model_module_version": "1.5.0",
            "_model_name": "ProgressStyleModel",
            "_view_count": null,
            "_view_module": "@jupyter-widgets/base",
            "_view_module_version": "1.2.0",
            "_view_name": "StyleView",
            "bar_color": null,
            "description_width": ""
          }
        },
        "c0b61708f3c748ed8eaa7799350238c8": {
          "model_module": "@jupyter-widgets/base",
          "model_module_version": "1.2.0",
          "model_name": "LayoutModel",
          "state": {
            "_model_module": "@jupyter-widgets/base",
            "_model_module_version": "1.2.0",
            "_model_name": "LayoutModel",
            "_view_count": null,
            "_view_module": "@jupyter-widgets/base",
            "_view_module_version": "1.2.0",
            "_view_name": "LayoutView",
            "align_content": null,
            "align_items": null,
            "align_self": null,
            "border": null,
            "bottom": null,
            "display": null,
            "flex": null,
            "flex_flow": null,
            "grid_area": null,
            "grid_auto_columns": null,
            "grid_auto_flow": null,
            "grid_auto_rows": null,
            "grid_column": null,
            "grid_gap": null,
            "grid_row": null,
            "grid_template_areas": null,
            "grid_template_columns": null,
            "grid_template_rows": null,
            "height": null,
            "justify_content": null,
            "justify_items": null,
            "left": null,
            "margin": null,
            "max_height": null,
            "max_width": null,
            "min_height": null,
            "min_width": null,
            "object_fit": null,
            "object_position": null,
            "order": null,
            "overflow": null,
            "overflow_x": null,
            "overflow_y": null,
            "padding": null,
            "right": null,
            "top": null,
            "visibility": null,
            "width": null
          }
        },
        "c5ccd5dd3ecb4f418dd707ca27e74f26": {
          "model_module": "@jupyter-widgets/base",
          "model_module_version": "1.2.0",
          "model_name": "LayoutModel",
          "state": {
            "_model_module": "@jupyter-widgets/base",
            "_model_module_version": "1.2.0",
            "_model_name": "LayoutModel",
            "_view_count": null,
            "_view_module": "@jupyter-widgets/base",
            "_view_module_version": "1.2.0",
            "_view_name": "LayoutView",
            "align_content": null,
            "align_items": null,
            "align_self": null,
            "border": null,
            "bottom": null,
            "display": null,
            "flex": null,
            "flex_flow": null,
            "grid_area": null,
            "grid_auto_columns": null,
            "grid_auto_flow": null,
            "grid_auto_rows": null,
            "grid_column": null,
            "grid_gap": null,
            "grid_row": null,
            "grid_template_areas": null,
            "grid_template_columns": null,
            "grid_template_rows": null,
            "height": null,
            "justify_content": null,
            "justify_items": null,
            "left": null,
            "margin": null,
            "max_height": null,
            "max_width": null,
            "min_height": null,
            "min_width": null,
            "object_fit": null,
            "object_position": null,
            "order": null,
            "overflow": null,
            "overflow_x": null,
            "overflow_y": null,
            "padding": null,
            "right": null,
            "top": null,
            "visibility": null,
            "width": null
          }
        },
        "cbaa539a151b47f7abc0d8e12a51e364": {
          "model_module": "@jupyter-widgets/controls",
          "model_module_version": "1.5.0",
          "model_name": "HTMLModel",
          "state": {
            "_dom_classes": [],
            "_model_module": "@jupyter-widgets/controls",
            "_model_module_version": "1.5.0",
            "_model_name": "HTMLModel",
            "_view_count": null,
            "_view_module": "@jupyter-widgets/controls",
            "_view_module_version": "1.5.0",
            "_view_name": "HTMLView",
            "description": "",
            "description_tooltip": null,
            "layout": "IPY_MODEL_7e57cfd2d3344ee1a63e2e5944b55a14",
            "placeholder": "​",
            "style": "IPY_MODEL_8227a2c050824872a85721876f9f2f46",
            "value": " 15.5M/15.5M [00:00&lt;00:00, 30.2MB/s]"
          }
        },
        "cbafe619b7f74e698194a6969724acbc": {
          "model_module": "@jupyter-widgets/controls",
          "model_module_version": "1.5.0",
          "model_name": "HTMLModel",
          "state": {
            "_dom_classes": [],
            "_model_module": "@jupyter-widgets/controls",
            "_model_module_version": "1.5.0",
            "_model_name": "HTMLModel",
            "_view_count": null,
            "_view_module": "@jupyter-widgets/controls",
            "_view_module_version": "1.5.0",
            "_view_name": "HTMLView",
            "description": "",
            "description_tooltip": null,
            "layout": "IPY_MODEL_c5ccd5dd3ecb4f418dd707ca27e74f26",
            "placeholder": "​",
            "style": "IPY_MODEL_e89721dc94b945d095283bf1b23a4b47",
            "value": "checkpoint_0001500.pth: 100%"
          }
        },
        "d56436695419403c947e156558530737": {
          "model_module": "@jupyter-widgets/base",
          "model_module_version": "1.2.0",
          "model_name": "LayoutModel",
          "state": {
            "_model_module": "@jupyter-widgets/base",
            "_model_module_version": "1.2.0",
            "_model_name": "LayoutModel",
            "_view_count": null,
            "_view_module": "@jupyter-widgets/base",
            "_view_module_version": "1.2.0",
            "_view_name": "LayoutView",
            "align_content": null,
            "align_items": null,
            "align_self": null,
            "border": null,
            "bottom": null,
            "display": null,
            "flex": null,
            "flex_flow": null,
            "grid_area": null,
            "grid_auto_columns": null,
            "grid_auto_flow": null,
            "grid_auto_rows": null,
            "grid_column": null,
            "grid_gap": null,
            "grid_row": null,
            "grid_template_areas": null,
            "grid_template_columns": null,
            "grid_template_rows": null,
            "height": null,
            "justify_content": null,
            "justify_items": null,
            "left": null,
            "margin": null,
            "max_height": null,
            "max_width": null,
            "min_height": null,
            "min_width": null,
            "object_fit": null,
            "object_position": null,
            "order": null,
            "overflow": null,
            "overflow_x": null,
            "overflow_y": null,
            "padding": null,
            "right": null,
            "top": null,
            "visibility": null,
            "width": null
          }
        },
        "e715591a16674e8f8c5370713918281c": {
          "model_module": "@jupyter-widgets/base",
          "model_module_version": "1.2.0",
          "model_name": "LayoutModel",
          "state": {
            "_model_module": "@jupyter-widgets/base",
            "_model_module_version": "1.2.0",
            "_model_name": "LayoutModel",
            "_view_count": null,
            "_view_module": "@jupyter-widgets/base",
            "_view_module_version": "1.2.0",
            "_view_name": "LayoutView",
            "align_content": null,
            "align_items": null,
            "align_self": null,
            "border": null,
            "bottom": null,
            "display": null,
            "flex": null,
            "flex_flow": null,
            "grid_area": null,
            "grid_auto_columns": null,
            "grid_auto_flow": null,
            "grid_auto_rows": null,
            "grid_column": null,
            "grid_gap": null,
            "grid_row": null,
            "grid_template_areas": null,
            "grid_template_columns": null,
            "grid_template_rows": null,
            "height": null,
            "justify_content": null,
            "justify_items": null,
            "left": null,
            "margin": null,
            "max_height": null,
            "max_width": null,
            "min_height": null,
            "min_width": null,
            "object_fit": null,
            "object_position": null,
            "order": null,
            "overflow": null,
            "overflow_x": null,
            "overflow_y": null,
            "padding": null,
            "right": null,
            "top": null,
            "visibility": null,
            "width": null
          }
        },
        "e89721dc94b945d095283bf1b23a4b47": {
          "model_module": "@jupyter-widgets/controls",
          "model_module_version": "1.5.0",
          "model_name": "DescriptionStyleModel",
          "state": {
            "_model_module": "@jupyter-widgets/controls",
            "_model_module_version": "1.5.0",
            "_model_name": "DescriptionStyleModel",
            "_view_count": null,
            "_view_module": "@jupyter-widgets/base",
            "_view_module_version": "1.2.0",
            "_view_name": "StyleView",
            "description_width": ""
          }
        },
        "eb3f1fce12df4ddbafe576aa3c05eb99": {
          "model_module": "@jupyter-widgets/base",
          "model_module_version": "1.2.0",
          "model_name": "LayoutModel",
          "state": {
            "_model_module": "@jupyter-widgets/base",
            "_model_module_version": "1.2.0",
            "_model_name": "LayoutModel",
            "_view_count": null,
            "_view_module": "@jupyter-widgets/base",
            "_view_module_version": "1.2.0",
            "_view_name": "LayoutView",
            "align_content": null,
            "align_items": null,
            "align_self": null,
            "border": null,
            "bottom": null,
            "display": null,
            "flex": null,
            "flex_flow": null,
            "grid_area": null,
            "grid_auto_columns": null,
            "grid_auto_flow": null,
            "grid_auto_rows": null,
            "grid_column": null,
            "grid_gap": null,
            "grid_row": null,
            "grid_template_areas": null,
            "grid_template_columns": null,
            "grid_template_rows": null,
            "height": null,
            "justify_content": null,
            "justify_items": null,
            "left": null,
            "margin": null,
            "max_height": null,
            "max_width": null,
            "min_height": null,
            "min_width": null,
            "object_fit": null,
            "object_position": null,
            "order": null,
            "overflow": null,
            "overflow_x": null,
            "overflow_y": null,
            "padding": null,
            "right": null,
            "top": null,
            "visibility": null,
            "width": null
          }
        },
        "edf63b500f234379aeff0ffc4cf60af0": {
          "model_module": "@jupyter-widgets/base",
          "model_module_version": "1.2.0",
          "model_name": "LayoutModel",
          "state": {
            "_model_module": "@jupyter-widgets/base",
            "_model_module_version": "1.2.0",
            "_model_name": "LayoutModel",
            "_view_count": null,
            "_view_module": "@jupyter-widgets/base",
            "_view_module_version": "1.2.0",
            "_view_name": "LayoutView",
            "align_content": null,
            "align_items": null,
            "align_self": null,
            "border": null,
            "bottom": null,
            "display": null,
            "flex": null,
            "flex_flow": null,
            "grid_area": null,
            "grid_auto_columns": null,
            "grid_auto_flow": null,
            "grid_auto_rows": null,
            "grid_column": null,
            "grid_gap": null,
            "grid_row": null,
            "grid_template_areas": null,
            "grid_template_columns": null,
            "grid_template_rows": null,
            "height": null,
            "justify_content": null,
            "justify_items": null,
            "left": null,
            "margin": null,
            "max_height": null,
            "max_width": null,
            "min_height": null,
            "min_width": null,
            "object_fit": null,
            "object_position": null,
            "order": null,
            "overflow": null,
            "overflow_x": null,
            "overflow_y": null,
            "padding": null,
            "right": null,
            "top": null,
            "visibility": null,
            "width": null
          }
        }
      }
    }
  },
  "nbformat": 4,
  "nbformat_minor": 0
}
